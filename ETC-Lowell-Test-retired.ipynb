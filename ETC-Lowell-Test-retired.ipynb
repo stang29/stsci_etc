{
 "cells": [
  {
   "cell_type": "code",
   "execution_count": 26,
   "metadata": {},
   "outputs": [],
   "source": [
    "import os\n",
    "import numpy as np\n",
    "from matplotlib import pyplot as plot\n",
    "import math\n",
    "from math import pi as pi\n",
    "from astropy import units as u\n",
    "#import panda as pd"
   ]
  },
  {
   "cell_type": "code",
   "execution_count": 28,
   "metadata": {},
   "outputs": [],
   "source": [
    "#input variables - roughly based on those used in Lowell manuel\n",
    "#example values for some of these variables can be found in the PDFs in the repository\n",
    "# to do: input known values into tables (i.e. lunar brightness, airmass, etc)\n",
    "\n",
    "SNR = 10\n",
    "mag_raw = 30\n",
    "exp_time = 0 * u.s\n",
    "\n",
    "bandpass = \"V\" #possible values: UVBIR. Currently testing V\n",
    "seeing = 2 * u.arcsec\n",
    "binning = 2\n",
    "lunar_age = 3 #example value, for V band, lunar age of 3 means 21.7 lunar brightness\n",
    "airmass = 1\n",
    "\n",
    "#possible other values:\n",
    "psf = [0]\n",
    "mag_norm = 20 #20 is what lowell uses\n",
    "lunar_bright = 21.7 \n",
    "signal_norm = 680 * u.electron / u.s / u.arcsec**2 #based on Lowell chart for V band"
   ]
  },
  {
   "cell_type": "code",
   "execution_count": 29,
   "metadata": {},
   "outputs": [],
   "source": [
    "#calculate pixels\n",
    "\n",
    "#if using seeing:\n",
    "px = pi*(0.67*seeing)**2 * u.pix\n",
    "\n",
    "#if using psf:\n",
    "#px = pi*(0.67 * FWHM())"
   ]
  },
  {
   "cell_type": "code",
   "execution_count": 30,
   "metadata": {},
   "outputs": [
    {
     "name": "stdout",
     "output_type": "stream",
     "text": [
      "0.2\n"
     ]
    }
   ],
   "source": [
    "#Things governed by bandpass\n",
    "#will  replace this with a dataframe with appropriate values\n",
    "\n",
    "V = \"V\"\n",
    "B = \"B\"\n",
    "U = \"U\"\n",
    "I = \"I\"\n",
    "R = \"R\"\n",
    "\n",
    "if bandpass.casefold() == V.casefold():\n",
    "    extinct = 0.2\n",
    "    \n",
    "if bandpass.casefold() == B.casefold():\n",
    "    extinct = 0.4\n",
    "    \n",
    "if bandpass.casefold() == U.casefold():\n",
    "    extinct = 0.6\n",
    "        \n",
    "if bandpass.casefold() == I.casefold():\n",
    "    extinct = 0.08\n",
    "    \n",
    "if bandpass.casefold() == R.casefold():\n",
    "    extinct = 0.1\n",
    "    \n",
    "print(extinct)"
   ]
  },
  {
   "cell_type": "code",
   "execution_count": 43,
   "metadata": {},
   "outputs": [
    {
     "name": "stdout",
     "output_type": "stream",
     "text": [
      "32.73342034131643 electron / (pix2 s)\n"
     ]
    }
   ],
   "source": [
    "#calculate sky noise\n",
    "scale = .24 * u.arcsec / u.pix #this is defined by the telescope: http://www2.lowell.edu/rsch/LMI/specs.html\n",
    "N_sky = scale**2 * binning**2 * signal_norm * 10**((-(lunar_bright - mag_norm))/2.5)  # Remove u.pix correction\n",
    "\n",
    "print(N_sky)"
   ]
  },
  {
   "cell_type": "code",
   "execution_count": 44,
   "metadata": {},
   "outputs": [],
   "source": [
    "#calculate FWHM"
   ]
  },
  {
   "cell_type": "code",
   "execution_count": 45,
   "metadata": {
    "scrolled": true
   },
   "outputs": [
    {
     "name": "stdout",
     "output_type": "stream",
     "text": [
      "0.05655993643498162 electron2 / (arcsec4 s2)\n"
     ]
    }
   ],
   "source": [
    "#calculate signal from magnitude, with correction\n",
    "\n",
    "mag_corr = mag_raw + extinct*airmass\n",
    "signal = signal_norm * 10**((-(mag_corr - mag_norm))/2.5) * (u.electron / u.s / u.arcsec**2)\n",
    "\n",
    "print(signal)"
   ]
  },
  {
   "cell_type": "code",
   "execution_count": 48,
   "metadata": {},
   "outputs": [],
   "source": [
    "#calculate SNR or exposure time or magnitude\n",
    "#set Nron = 7, as seen in Lowell manuel\n",
    "#ignore dark current\n",
    "N_ron = 7 *(u.electron/u.s)\n",
    "\n",
    "#SNR calculation:\n",
    "def ETC_lowell_test(SNR, exp_time, mag_raw, signal, signal_norm, px, N_sky, N_ron, airmass, extinct):\n",
    "    if SNR == 0:\n",
    "        SNR = signal * exp_time/(math.sqrt(signal*exp_time + N_sky*exp_time*px + (N_ron**2)*px))\n",
    "        mag_corr = mag_raw + extinct*airmass\n",
    "        return SNR,exp_time,mag_corr\n",
    " \n",
    "        \n",
    "    if exp_time == 0:\n",
    "        a = signal**2\n",
    "        b = (SNR**2) * (signal * px*N_sky)\n",
    "        c = (SNR**2) * px * N_ron\n",
    "        exp_time = (-b + math.sqrt((b**2 - 4)*a*c))/(2*a)\n",
    "        mag_corr = mag_raw + extinct*airmass\n",
    "        return SNR,exp_time,mag_corr\n",
    "\n",
    "    if mag_raw == 0:\n",
    "        a = exp_time**2\n",
    "        b = -exp_time * SNR\n",
    "        c = (-SNR**2 * N_sky * px * exp_time) + (px * N_ron**2)\n",
    "        signal = (-b + math.sqrt((b**2 - 4)*a*c))/(2*a)\n",
    "        mag_raw = 2.5 * math.log((signal/signal_norm),10) + mag_norm\n",
    "        mag_corr = mag_raw - (extinct*airmass)\n",
    "        return SNR,exp_time,mag_corr\n",
    "\n"
   ]
  },
  {
   "cell_type": "code",
   "execution_count": 49,
   "metadata": {},
   "outputs": [
    {
     "ename": "UnitConversionError",
     "evalue": "Can only apply 'subtract' function to dimensionless quantities when other argument is not a quantity (unless the latter is all zero/infinity/nan)",
     "output_type": "error",
     "traceback": [
      "\u001b[0;31m---------------------------------------------------------------------------\u001b[0m",
      "\u001b[0;31mUnitConversionError\u001b[0m                       Traceback (most recent call last)",
      "\u001b[0;32m<ipython-input-49-fbccdbd59bf5>\u001b[0m in \u001b[0;36m<module>\u001b[0;34m\u001b[0m\n\u001b[1;32m      1\u001b[0m \u001b[0;31m#print result\u001b[0m\u001b[0;34m\u001b[0m\u001b[0;34m\u001b[0m\u001b[0;34m\u001b[0m\u001b[0m\n\u001b[1;32m      2\u001b[0m \u001b[0;34m\u001b[0m\u001b[0m\n\u001b[0;32m----> 3\u001b[0;31m \u001b[0manswer\u001b[0m \u001b[0;34m=\u001b[0m \u001b[0mETC_lowell_test\u001b[0m\u001b[0;34m(\u001b[0m\u001b[0mSNR\u001b[0m\u001b[0;34m,\u001b[0m \u001b[0mexp_time\u001b[0m\u001b[0;34m,\u001b[0m \u001b[0mmag_raw\u001b[0m\u001b[0;34m,\u001b[0m \u001b[0msignal\u001b[0m\u001b[0;34m,\u001b[0m \u001b[0msignal_norm\u001b[0m\u001b[0;34m,\u001b[0m \u001b[0mpx\u001b[0m\u001b[0;34m,\u001b[0m \u001b[0mN_sky\u001b[0m\u001b[0;34m,\u001b[0m \u001b[0mN_ron\u001b[0m\u001b[0;34m,\u001b[0m \u001b[0mairmass\u001b[0m\u001b[0;34m,\u001b[0m \u001b[0mextinct\u001b[0m\u001b[0;34m)\u001b[0m\u001b[0;34m\u001b[0m\u001b[0;34m\u001b[0m\u001b[0m\n\u001b[0m\u001b[1;32m      4\u001b[0m \u001b[0mprint\u001b[0m\u001b[0;34m(\u001b[0m\u001b[0;34m\"This is the SNR:\"\u001b[0m\u001b[0;34m,\u001b[0m \u001b[0manswer\u001b[0m\u001b[0;34m[\u001b[0m\u001b[0;36m0\u001b[0m\u001b[0;34m]\u001b[0m\u001b[0;34m,\u001b[0m \u001b[0;34m\"\\n This is exposure time:\"\u001b[0m\u001b[0;34m,\u001b[0m \u001b[0manswer\u001b[0m\u001b[0;34m[\u001b[0m\u001b[0;36m1\u001b[0m\u001b[0;34m]\u001b[0m\u001b[0;34m,\u001b[0m \u001b[0;34m\"\\n This is magnitude:\"\u001b[0m\u001b[0;34m,\u001b[0m \u001b[0manswer\u001b[0m\u001b[0;34m[\u001b[0m\u001b[0;36m2\u001b[0m\u001b[0;34m]\u001b[0m \u001b[0;34m)\u001b[0m\u001b[0;34m\u001b[0m\u001b[0;34m\u001b[0m\u001b[0m\n\u001b[1;32m      5\u001b[0m \u001b[0;34m\u001b[0m\u001b[0m\n",
      "\u001b[0;32m<ipython-input-48-463457bdbedf>\u001b[0m in \u001b[0;36mETC_lowell_test\u001b[0;34m(SNR, exp_time, mag_raw, signal, signal_norm, px, N_sky, N_ron, airmass, extinct)\u001b[0m\n\u001b[1;32m     16\u001b[0m         \u001b[0mb\u001b[0m \u001b[0;34m=\u001b[0m \u001b[0;34m(\u001b[0m\u001b[0mSNR\u001b[0m\u001b[0;34m**\u001b[0m\u001b[0;36m2\u001b[0m\u001b[0;34m)\u001b[0m \u001b[0;34m*\u001b[0m \u001b[0;34m(\u001b[0m\u001b[0msignal\u001b[0m \u001b[0;34m*\u001b[0m \u001b[0mpx\u001b[0m\u001b[0;34m*\u001b[0m\u001b[0mN_sky\u001b[0m\u001b[0;34m)\u001b[0m\u001b[0;34m\u001b[0m\u001b[0;34m\u001b[0m\u001b[0m\n\u001b[1;32m     17\u001b[0m         \u001b[0mc\u001b[0m \u001b[0;34m=\u001b[0m \u001b[0;34m(\u001b[0m\u001b[0mSNR\u001b[0m\u001b[0;34m**\u001b[0m\u001b[0;36m2\u001b[0m\u001b[0;34m)\u001b[0m \u001b[0;34m*\u001b[0m \u001b[0mpx\u001b[0m \u001b[0;34m*\u001b[0m \u001b[0mN_ron\u001b[0m\u001b[0;34m\u001b[0m\u001b[0;34m\u001b[0m\u001b[0m\n\u001b[0;32m---> 18\u001b[0;31m         \u001b[0mexp_time\u001b[0m \u001b[0;34m=\u001b[0m \u001b[0;34m(\u001b[0m\u001b[0;34m-\u001b[0m\u001b[0mb\u001b[0m \u001b[0;34m+\u001b[0m \u001b[0mmath\u001b[0m\u001b[0;34m.\u001b[0m\u001b[0msqrt\u001b[0m\u001b[0;34m(\u001b[0m\u001b[0;34m(\u001b[0m\u001b[0mb\u001b[0m\u001b[0;34m**\u001b[0m\u001b[0;36m2\u001b[0m \u001b[0;34m-\u001b[0m \u001b[0;36m4\u001b[0m\u001b[0;34m)\u001b[0m\u001b[0;34m*\u001b[0m\u001b[0ma\u001b[0m\u001b[0;34m*\u001b[0m\u001b[0mc\u001b[0m\u001b[0;34m)\u001b[0m\u001b[0;34m)\u001b[0m\u001b[0;34m/\u001b[0m\u001b[0;34m(\u001b[0m\u001b[0;36m2\u001b[0m\u001b[0;34m*\u001b[0m\u001b[0ma\u001b[0m\u001b[0;34m)\u001b[0m\u001b[0;34m\u001b[0m\u001b[0;34m\u001b[0m\u001b[0m\n\u001b[0m\u001b[1;32m     19\u001b[0m         \u001b[0mmag_corr\u001b[0m \u001b[0;34m=\u001b[0m \u001b[0mmag_raw\u001b[0m \u001b[0;34m+\u001b[0m \u001b[0mextinct\u001b[0m\u001b[0;34m*\u001b[0m\u001b[0mairmass\u001b[0m\u001b[0;34m\u001b[0m\u001b[0;34m\u001b[0m\u001b[0m\n\u001b[1;32m     20\u001b[0m         \u001b[0;32mreturn\u001b[0m \u001b[0mSNR\u001b[0m\u001b[0;34m,\u001b[0m\u001b[0mexp_time\u001b[0m\u001b[0;34m,\u001b[0m\u001b[0mmag_corr\u001b[0m\u001b[0;34m\u001b[0m\u001b[0;34m\u001b[0m\u001b[0m\n",
      "\u001b[0;32m/opt/anaconda3/lib/python3.7/site-packages/astropy/units/quantity.py\u001b[0m in \u001b[0;36m__array_ufunc__\u001b[0;34m(self, function, method, *inputs, **kwargs)\u001b[0m\n\u001b[1;32m    459\u001b[0m         \u001b[0;31m# consistent units between two inputs (e.g., in np.add) --\u001b[0m\u001b[0;34m\u001b[0m\u001b[0;34m\u001b[0m\u001b[0;34m\u001b[0m\u001b[0m\n\u001b[1;32m    460\u001b[0m         \u001b[0;31m# and the unit of the result (or tuple of units for nout > 1).\u001b[0m\u001b[0;34m\u001b[0m\u001b[0;34m\u001b[0m\u001b[0;34m\u001b[0m\u001b[0m\n\u001b[0;32m--> 461\u001b[0;31m         \u001b[0mconverters\u001b[0m\u001b[0;34m,\u001b[0m \u001b[0munit\u001b[0m \u001b[0;34m=\u001b[0m \u001b[0mconverters_and_unit\u001b[0m\u001b[0;34m(\u001b[0m\u001b[0mfunction\u001b[0m\u001b[0;34m,\u001b[0m \u001b[0mmethod\u001b[0m\u001b[0;34m,\u001b[0m \u001b[0;34m*\u001b[0m\u001b[0minputs\u001b[0m\u001b[0;34m)\u001b[0m\u001b[0;34m\u001b[0m\u001b[0;34m\u001b[0m\u001b[0m\n\u001b[0m\u001b[1;32m    462\u001b[0m \u001b[0;34m\u001b[0m\u001b[0m\n\u001b[1;32m    463\u001b[0m         \u001b[0mout\u001b[0m \u001b[0;34m=\u001b[0m \u001b[0mkwargs\u001b[0m\u001b[0;34m.\u001b[0m\u001b[0mget\u001b[0m\u001b[0;34m(\u001b[0m\u001b[0;34m'out'\u001b[0m\u001b[0;34m,\u001b[0m \u001b[0;32mNone\u001b[0m\u001b[0;34m)\u001b[0m\u001b[0;34m\u001b[0m\u001b[0;34m\u001b[0m\u001b[0m\n",
      "\u001b[0;32m/opt/anaconda3/lib/python3.7/site-packages/astropy/units/quantity_helper/converters.py\u001b[0m in \u001b[0;36mconverters_and_unit\u001b[0;34m(function, method, *args)\u001b[0m\n\u001b[1;32m    187\u001b[0m                             \u001b[0;34m\"argument is not a quantity (unless the \"\u001b[0m\u001b[0;34m\u001b[0m\u001b[0;34m\u001b[0m\u001b[0m\n\u001b[1;32m    188\u001b[0m                             \u001b[0;34m\"latter is all zero/infinity/nan)\"\u001b[0m\u001b[0;34m\u001b[0m\u001b[0;34m\u001b[0m\u001b[0m\n\u001b[0;32m--> 189\u001b[0;31m                             .format(function.__name__))\n\u001b[0m\u001b[1;32m    190\u001b[0m             \u001b[0;32mexcept\u001b[0m \u001b[0mTypeError\u001b[0m\u001b[0;34m:\u001b[0m\u001b[0;34m\u001b[0m\u001b[0;34m\u001b[0m\u001b[0m\n\u001b[1;32m    191\u001b[0m                 \u001b[0;31m# _can_have_arbitrary_unit failed: arg could not be compared\u001b[0m\u001b[0;34m\u001b[0m\u001b[0;34m\u001b[0m\u001b[0;34m\u001b[0m\u001b[0m\n",
      "\u001b[0;31mUnitConversionError\u001b[0m: Can only apply 'subtract' function to dimensionless quantities when other argument is not a quantity (unless the latter is all zero/infinity/nan)"
     ]
    }
   ],
   "source": [
    "#print result\n",
    "\n",
    "answer = ETC_lowell_test(SNR, exp_time, mag_raw, signal, signal_norm, px, N_sky, N_ron, airmass, extinct)\n",
    "print(\"This is the SNR:\", answer[0], \"\\n This is exposure time:\", answer[1], \"\\n This is magnitude:\", answer[2] )\n",
    "\n",
    "if SNR <= 3:\n",
    "    print(\"You have low SNR, cannot use this data\")\n",
    "if SNR < 10 and SNR >= 5:\n",
    "    print(\"There's an object out there!...somewhere\")\n",
    "if SNR >= 10 and SNR < 90:\n",
    "    print(\"You can use this data for measurement\")\n",
    "if SNR >= 90 and SNR <= 100:\n",
    "    print(\"Your SNR is amazing!\")\n",
    "    "
   ]
  },
  {
   "cell_type": "code",
   "execution_count": null,
   "metadata": {},
   "outputs": [],
   "source": []
  },
  {
   "cell_type": "code",
   "execution_count": null,
   "metadata": {},
   "outputs": [],
   "source": []
  }
 ],
 "metadata": {
  "kernelspec": {
   "display_name": "Python 3",
   "language": "python",
   "name": "python3"
  },
  "language_info": {
   "codemirror_mode": {
    "name": "ipython",
    "version": 3
   },
   "file_extension": ".py",
   "mimetype": "text/x-python",
   "name": "python",
   "nbconvert_exporter": "python",
   "pygments_lexer": "ipython3",
   "version": "3.7.6"
  }
 },
 "nbformat": 4,
 "nbformat_minor": 4
}
