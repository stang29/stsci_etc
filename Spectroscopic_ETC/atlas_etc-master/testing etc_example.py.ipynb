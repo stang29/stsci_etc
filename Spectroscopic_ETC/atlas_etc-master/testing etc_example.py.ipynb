{
 "cells": [
  {
   "cell_type": "code",
   "execution_count": 3,
   "metadata": {},
   "outputs": [
    {
     "name": "stdout",
     "output_type": "stream",
     "text": [
      "Single Line Input!\n",
      "{'quant': ['Wavelength', 'Resolution', 'Dispersion', 'Throughput', 'Signal', 'Sky Background', 'Sky brightness', 'Dark Current', 'Read Noise', 'Total Noise', 'S/N', 'Total Exposure Time', 'Max e- per pixel'], 'unit': ['micron', 'FWHM in angstrom', 'angstrom/pixel', '', 'electrons per FWHM', 'electrons per FWHM', 'AB mag per sq. arcsec', 'electrons per FWHM', 'electrons per FWHM', 'electrons per FWHM', 'per observed FWHM', 'seconds', 'electrons per pixel per exp'], 'value': [2.4939, 24.9, 10.0, 0.2999811610576125, 128.5549552684159, 54.05061759274028, 23.08329202419627, 134.52480951234867, 6.483749144793386, 24.28206948982638, 5.282192377347763, 5000, 22.945959863660477]}\n"
     ]
    }
   ],
   "source": [
    "## This script contains example inputs for the atlas ETC.\n",
    "\n",
    "########## IMPORTS #########\n",
    "\n",
    "## Some general imports\n",
    "\n",
    "\n",
    "import numpy as np\n",
    "import sys\n",
    "import os\n",
    "\n",
    "os.environ['ATLAS_ETC_PATH'] = '/Users/nanatang/Documents/Github/stsci_etc/Spectroscopic_ETC/atlas_etc-master/'\n",
    "\n",
    "## ETC import\n",
    "sys.path.append('../../atlas_etc')\n",
    "from etc_code import atlas_etc, etc_plot\n",
    "\n",
    "\n",
    "\n",
    "## INPUT 1: ATLAS Wide Survey ==========\n",
    "# H-alpha emission at z=2.8 (observed 2.5 um) with flux of 5e-18 erg/s/cm2. Exposure time of 5000s, 5 exposures.\n",
    "# Spatial extent of object is 0.7 arcsec, slit with (fixed) is 0.75 arcsec. \n",
    "input1 = {\"band\":\"atlas_IR\", # name of band\n",
    "            \"time\":5000, # exposure time in seconds\n",
    "            \"slit_width\":0.75,  # width of slit in arcseconds\n",
    "            \"Nreads\":16, # number of reads in fowler\n",
    "            \"theta\":0.7, # angular size of the object along the slit\n",
    "            \"nExp\":5, # the number of exposures: if nEXP > 2, assumes a 2 point dither\n",
    "            \"lineF\":5, # line flux in 10^-18 erg/s/cm^2\n",
    "            \"lineW\":6563, # line wavelength of interest (rest or observed) in Ang/microns\n",
    "            \"FWHM\":200, # rest-frame line FWHM in km/s\n",
    "            \"z\":2.8, # redshift of line of interest\n",
    "            \"specFile\":\"none\", # If not \"none\": filename of user spectrum (microns/Ang,F_nu). If \"flat\" assume flat f_nu spectrum. If \"none\" assume line\n",
    "            \"mag\":-99, # magnitude in AB (-99 of not used)\n",
    "            \"NormalizeUserSpec\":False, # if TRUE then user spectrum will be scaled to magnitude (mag)\n",
    "            \"InputInAngstroms\":True, # True if user input wavelengths are in Angstroms\n",
    "            \"SN\":-99 # desired signal to noise. If not -99, then this is used to calculate the exposure time\n",
    "            }\n",
    "\n",
    "\n",
    "\n",
    "## Run the ETC\n",
    "#etc_output = atlas_etc(userinput=input1)\n",
    "\n",
    "## Print some output\n",
    "#print(etc_output[\"summary_struct\"])\n",
    "\n",
    "## Make some figures\n",
    "#etc_plot(spec_struct=etc_output[\"spec_struct\"], filename=\"input1.pdf\")\n",
    "\n",
    "\n",
    "## INPUT 2: ATLAS Wide Survey =============\n",
    "# Constant (in f_nu) continuum normalized to 23AB (average over 1-4um). Exposure time of 5000s, 5 exposures.\n",
    "# Spatial extent of object is 0.7 arcsec, slit with (fixed) is 0.75 arcsec. \n",
    "input2 = {\"band\":\"atlas_IR\", # name of band\n",
    "            \"time\":5000, # exposure time in seconds\n",
    "            \"slit_width\":0.75,  # width of slit in arcseconds\n",
    "            \"Nreads\":16, # number of reads in fowler\n",
    "            \"theta\":0.7, # angular size of the object along the slit\n",
    "            \"nExp\":5, # the number of exposures: if nEXP > 2, assumes a 2 point dither\n",
    "            \"lineF\":-99, # line flux in 10^-18 erg/s/cm^2\n",
    "            \"lineW\":-99, # line wavelength of interest (rest or observed) in Ang/microns\n",
    "            \"FWHM\":200, # rest-frame line FWHM in km/s\n",
    "            \"z\":0, # redshift of line of interest\n",
    "            \"specFile\":\"flat\", # If not \"none\": filename of user spectrum (microns/Ang,F_nu). If \"flat\" assume flat f_nu spectrum. If \"none\" assume line\n",
    "            \"mag\":23, # magnitude in AB (-99 of not used)\n",
    "            \"NormalizeUserSpec\":False, # if TRUE then user spectrum will be scaled to magnitude (mag)\n",
    "            \"InputInAngstroms\":True, # True if user input wavelengths are in Angstroms\n",
    "            \"SN\":-99 # desired signal to noise. If not -99, then this is used to calculate the exposure time\n",
    "            }\n",
    "\n",
    "\n",
    "## Run the ETC\n",
    "etc_output = atlas_etc(userinput=input1)\n",
    "\n",
    "## Print some output\n",
    "print(etc_output[\"summary_struct\"])\n",
    "\n",
    "## Make some figures\n",
    "#etc_plot(spec_struct=etc_output[\"spec_struct\"], filename=\"input2.pdf\")\n",
    "\n",
    "#####"
   ]
  },
  {
   "cell_type": "code",
   "execution_count": null,
   "metadata": {},
   "outputs": [],
   "source": [
    "\n",
    "\n",
    "[2.4939, 24.9, 10.0, 0.2999811610576125, 128.5549552684159, 54.05061759274028, 23.08329202419627, 134.52480951234867, 6.483749144793386, 24.28206948982638, 5.282192377347763, 5000, 22.945959863660477]\n",
    "\n"
   ]
  }
 ],
 "metadata": {
  "kernelspec": {
   "display_name": "Python 3",
   "language": "python",
   "name": "python3"
  },
  "language_info": {
   "codemirror_mode": {
    "name": "ipython",
    "version": 3
   },
   "file_extension": ".py",
   "mimetype": "text/x-python",
   "name": "python",
   "nbconvert_exporter": "python",
   "pygments_lexer": "ipython3",
   "version": "3.7.6"
  }
 },
 "nbformat": 4,
 "nbformat_minor": 4
}
