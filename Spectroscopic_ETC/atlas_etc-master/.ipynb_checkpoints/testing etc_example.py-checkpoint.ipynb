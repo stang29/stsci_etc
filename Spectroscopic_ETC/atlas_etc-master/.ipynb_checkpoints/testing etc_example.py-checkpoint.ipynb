{
 "cells": [
  {
   "cell_type": "code",
   "execution_count": 1,
   "metadata": {},
   "outputs": [
    {
     "name": "stdout",
     "output_type": "stream",
     "text": [
      "Environment variable 'ATLAS_ETC_PATH' does not seem to be set. Add it to your shell initialization script and try again. See manual for more details.\n"
     ]
    },
    {
     "ename": "NameError",
     "evalue": "name 'quit' is not defined",
     "output_type": "error",
     "traceback": [
      "\u001b[0;31m---------------------------------------------------------------------------\u001b[0m",
      "\u001b[0;31mKeyError\u001b[0m                                  Traceback (most recent call last)",
      "\u001b[0;32m~/Documents/GitHub/stsci_etc/Spectroscopic_ETC/atlas_etc-master/etc_code.py\u001b[0m in \u001b[0;36matlas_etc\u001b[0;34m(userinput)\u001b[0m\n\u001b[1;32m    192\u001b[0m     \u001b[0;32mtry\u001b[0m\u001b[0;34m:\u001b[0m\u001b[0;34m\u001b[0m\u001b[0;34m\u001b[0m\u001b[0m\n\u001b[0;32m--> 193\u001b[0;31m         \u001b[0;32mif\u001b[0m \u001b[0mos\u001b[0m\u001b[0;34m.\u001b[0m\u001b[0menviron\u001b[0m\u001b[0;34m[\u001b[0m\u001b[0;34m\"ATLAS_ETC_PATH\"\u001b[0m\u001b[0;34m]\u001b[0m \u001b[0;34m==\u001b[0m \u001b[0;34m\"none\"\u001b[0m\u001b[0;34m:\u001b[0m\u001b[0;34m\u001b[0m\u001b[0;34m\u001b[0m\u001b[0m\n\u001b[0m\u001b[1;32m    194\u001b[0m             \u001b[0;32mpass\u001b[0m\u001b[0;34m\u001b[0m\u001b[0;34m\u001b[0m\u001b[0m\n",
      "\u001b[0;32m~/anaconda3/lib/python3.7/os.py\u001b[0m in \u001b[0;36m__getitem__\u001b[0;34m(self, key)\u001b[0m\n\u001b[1;32m    678\u001b[0m             \u001b[0;31m# raise KeyError with the original key value\u001b[0m\u001b[0;34m\u001b[0m\u001b[0;34m\u001b[0m\u001b[0;34m\u001b[0m\u001b[0m\n\u001b[0;32m--> 679\u001b[0;31m             \u001b[0;32mraise\u001b[0m \u001b[0mKeyError\u001b[0m\u001b[0;34m(\u001b[0m\u001b[0mkey\u001b[0m\u001b[0;34m)\u001b[0m \u001b[0;32mfrom\u001b[0m \u001b[0;32mNone\u001b[0m\u001b[0;34m\u001b[0m\u001b[0;34m\u001b[0m\u001b[0m\n\u001b[0m\u001b[1;32m    680\u001b[0m         \u001b[0;32mreturn\u001b[0m \u001b[0mself\u001b[0m\u001b[0;34m.\u001b[0m\u001b[0mdecodevalue\u001b[0m\u001b[0;34m(\u001b[0m\u001b[0mvalue\u001b[0m\u001b[0;34m)\u001b[0m\u001b[0;34m\u001b[0m\u001b[0;34m\u001b[0m\u001b[0m\n",
      "\u001b[0;31mKeyError\u001b[0m: 'ATLAS_ETC_PATH'",
      "\nDuring handling of the above exception, another exception occurred:\n",
      "\u001b[0;31mNameError\u001b[0m                                 Traceback (most recent call last)",
      "\u001b[0;32m<ipython-input-1-fab8b31e4348>\u001b[0m in \u001b[0;36m<module>\u001b[0;34m\u001b[0m\n\u001b[1;32m     67\u001b[0m \u001b[0;34m\u001b[0m\u001b[0m\n\u001b[1;32m     68\u001b[0m \u001b[0;31m## Run the ETC\u001b[0m\u001b[0;34m\u001b[0m\u001b[0;34m\u001b[0m\u001b[0;34m\u001b[0m\u001b[0m\n\u001b[0;32m---> 69\u001b[0;31m \u001b[0metc_output\u001b[0m \u001b[0;34m=\u001b[0m \u001b[0matlas_etc\u001b[0m\u001b[0;34m(\u001b[0m\u001b[0muserinput\u001b[0m\u001b[0;34m=\u001b[0m\u001b[0minput2\u001b[0m\u001b[0;34m)\u001b[0m\u001b[0;34m\u001b[0m\u001b[0;34m\u001b[0m\u001b[0m\n\u001b[0m\u001b[1;32m     70\u001b[0m \u001b[0;34m\u001b[0m\u001b[0m\n\u001b[1;32m     71\u001b[0m \u001b[0;31m## Print some output\u001b[0m\u001b[0;34m\u001b[0m\u001b[0;34m\u001b[0m\u001b[0;34m\u001b[0m\u001b[0m\n",
      "\u001b[0;32m~/Documents/GitHub/stsci_etc/Spectroscopic_ETC/atlas_etc-master/etc_code.py\u001b[0m in \u001b[0;36matlas_etc\u001b[0;34m(userinput)\u001b[0m\n\u001b[1;32m    195\u001b[0m     \u001b[0;32mexcept\u001b[0m\u001b[0;34m:\u001b[0m\u001b[0;34m\u001b[0m\u001b[0;34m\u001b[0m\u001b[0m\n\u001b[1;32m    196\u001b[0m         \u001b[0mprint\u001b[0m\u001b[0;34m(\u001b[0m\u001b[0;34m\"Environment variable 'ATLAS_ETC_PATH' does not seem to be set. Add it to your shell initialization script and try again. See manual for more details.\"\u001b[0m\u001b[0;34m)\u001b[0m\u001b[0;34m\u001b[0m\u001b[0;34m\u001b[0m\u001b[0m\n\u001b[0;32m--> 197\u001b[0;31m         \u001b[0mquit\u001b[0m\u001b[0;34m(\u001b[0m\u001b[0;34m)\u001b[0m\u001b[0;34m\u001b[0m\u001b[0;34m\u001b[0m\u001b[0m\n\u001b[0m\u001b[1;32m    198\u001b[0m \u001b[0;34m\u001b[0m\u001b[0m\n\u001b[1;32m    199\u001b[0m     \u001b[0mDIRS\u001b[0m \u001b[0;34m=\u001b[0m \u001b[0mdict\u001b[0m\u001b[0;34m(\u001b[0m\u001b[0;34m)\u001b[0m\u001b[0;34m\u001b[0m\u001b[0;34m\u001b[0m\u001b[0m\n",
      "\u001b[0;31mNameError\u001b[0m: name 'quit' is not defined"
     ]
    }
   ],
   "source": [
    "## This script contains example inputs for the atlas ETC.\n",
    "\n",
    "########## IMPORTS #########\n",
    "\n",
    "## Some general imports\n",
    "import numpy as np\n",
    "import sys\n",
    "\n",
    "## ETC import\n",
    "sys.path.append('../../atlas_etc')\n",
    "from etc_code import atlas_etc, etc_plot\n",
    "\n",
    "\n",
    "\n",
    "## INPUT 1: ATLAS Wide Survey ==========\n",
    "# H-alpha emission at z=2.8 (observed 2.5 um) with flux of 5e-18 erg/s/cm2. Exposure time of 5000s, 5 exposures.\n",
    "# Spatial extent of object is 0.7 arcsec, slit with (fixed) is 0.75 arcsec. \n",
    "input1 = {\"band\":\"atlas_IR\", # name of band\n",
    "            \"time\":5000, # exposure time in seconds\n",
    "            \"slit_width\":0.75,  # width of slit in arcseconds\n",
    "            \"Nreads\":16, # number of reads in fowler\n",
    "            \"theta\":0.7, # angular size of the object along the slit\n",
    "            \"nExp\":5, # the number of exposures: if nEXP > 2, assumes a 2 point dither\n",
    "            \"lineF\":5, # line flux in 10^-18 erg/s/cm^2\n",
    "            \"lineW\":6563, # line wavelength of interest (rest or observed) in Ang/microns\n",
    "            \"FWHM\":200, # rest-frame line FWHM in km/s\n",
    "            \"z\":2.8, # redshift of line of interest\n",
    "            \"specFile\":\"none\", # If not \"none\": filename of user spectrum (microns/Ang,F_nu). If \"flat\" assume flat f_nu spectrum. If \"none\" assume line\n",
    "            \"mag\":-99, # magnitude in AB (-99 of not used)\n",
    "            \"NormalizeUserSpec\":False, # if TRUE then user spectrum will be scaled to magnitude (mag)\n",
    "            \"InputInAngstroms\":True, # True if user input wavelengths are in Angstroms\n",
    "            \"SN\":-99 # desired signal to noise. If not -99, then this is used to calculate the exposure time\n",
    "            }\n",
    "\n",
    "\n",
    "\n",
    "## Run the ETC\n",
    "#etc_output = atlas_etc(userinput=input1)\n",
    "\n",
    "## Print some output\n",
    "#print(etc_output[\"summary_struct\"])\n",
    "\n",
    "## Make some figures\n",
    "#etc_plot(spec_struct=etc_output[\"spec_struct\"], filename=\"input1.pdf\")\n",
    "\n",
    "\n",
    "## INPUT 2: ATLAS Wide Survey =============\n",
    "# Constant (in f_nu) continuum normalized to 23AB (average over 1-4um). Exposure time of 5000s, 5 exposures.\n",
    "# Spatial extent of object is 0.7 arcsec, slit with (fixed) is 0.75 arcsec. \n",
    "input2 = {\"band\":\"atlas_IR\", # name of band\n",
    "            \"time\":5000, # exposure time in seconds\n",
    "            \"slit_width\":0.75,  # width of slit in arcseconds\n",
    "            \"Nreads\":16, # number of reads in fowler\n",
    "            \"theta\":0.7, # angular size of the object along the slit\n",
    "            \"nExp\":5, # the number of exposures: if nEXP > 2, assumes a 2 point dither\n",
    "            \"lineF\":-99, # line flux in 10^-18 erg/s/cm^2\n",
    "            \"lineW\":-99, # line wavelength of interest (rest or observed) in Ang/microns\n",
    "            \"FWHM\":200, # rest-frame line FWHM in km/s\n",
    "            \"z\":0, # redshift of line of interest\n",
    "            \"specFile\":\"flat\", # If not \"none\": filename of user spectrum (microns/Ang,F_nu). If \"flat\" assume flat f_nu spectrum. If \"none\" assume line\n",
    "            \"mag\":23, # magnitude in AB (-99 of not used)\n",
    "            \"NormalizeUserSpec\":False, # if TRUE then user spectrum will be scaled to magnitude (mag)\n",
    "            \"InputInAngstroms\":True, # True if user input wavelengths are in Angstroms\n",
    "            \"SN\":-99 # desired signal to noise. If not -99, then this is used to calculate the exposure time\n",
    "            }\n",
    "\n",
    "\n",
    "## Run the ETC\n",
    "etc_output = atlas_etc(userinput=input2)\n",
    "\n",
    "## Print some output\n",
    "print(etc_output[\"summary_struct\"])\n",
    "\n",
    "## Make some figures\n",
    "etc_plot(spec_struct=etc_output[\"spec_struct\"], filename=\"input2.pdf\")\n",
    "\n",
    "#####"
   ]
  },
  {
   "cell_type": "code",
   "execution_count": null,
   "metadata": {},
   "outputs": [],
   "source": []
  }
 ],
 "metadata": {
  "kernelspec": {
   "display_name": "Python 3",
   "language": "python",
   "name": "python3"
  },
  "language_info": {
   "codemirror_mode": {
    "name": "ipython",
    "version": 3
   },
   "file_extension": ".py",
   "mimetype": "text/x-python",
   "name": "python",
   "nbconvert_exporter": "python",
   "pygments_lexer": "ipython3",
   "version": "3.7.6"
  }
 },
 "nbformat": 4,
 "nbformat_minor": 4
}
