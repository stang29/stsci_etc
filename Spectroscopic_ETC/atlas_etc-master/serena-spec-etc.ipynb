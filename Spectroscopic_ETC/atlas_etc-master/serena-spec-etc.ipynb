{
 "cells": [
  {
   "cell_type": "code",
   "execution_count": 32,
   "metadata": {},
   "outputs": [
    {
     "data": {
      "text/html": [
       "        <script type=\"text/javascript\">\n",
       "        window.PlotlyConfig = {MathJaxConfig: 'local'};\n",
       "        if (window.MathJax) {MathJax.Hub.Config({SVG: {font: \"STIX-Web\"}});}\n",
       "        if (typeof require !== 'undefined') {\n",
       "        require.undef(\"plotly\");\n",
       "        requirejs.config({\n",
       "            paths: {\n",
       "                'plotly': ['https://cdn.plot.ly/plotly-latest.min']\n",
       "            }\n",
       "        });\n",
       "        require(['plotly'], function(Plotly) {\n",
       "            window._Plotly = Plotly;\n",
       "        });\n",
       "        }\n",
       "        </script>\n",
       "        "
      ]
     },
     "metadata": {},
     "output_type": "display_data"
    },
    {
     "data": {
      "text/plain": [
       "' Assumptions made: (9/4/20)\\n        - This is specifically for Atlas IR\\'\\n        - We are not using specFile for now\\n        - This is what userinput looks like:\\n         \"time\":2*3600, # exposure time in seconds \\n            \"slit_width\":2.8,  # width of slit in arcseconds \\n                - made by DMDs (refers to the actual width of the slit, length \"doesnt matter\")\\n            \"Nreads\":16, # number of reads in fowler - \"fowler sampling in IR detectors\"\\n                - this is in a sense equivalent to CCD and binning; basically 16 refers to the number of sample being taken, \\n                    which is separate from the exposure time (image like, 16 samples/second, for 5 seconds)\\n                - multiple reads of this are taken (meaning multiple exposures in the same place) so that artifacts like cosmic rays\\n                    and other noise can be filterd out through averaging\\n            \"theta\":1.4, # angular size of the object along the slit \\n                - measure of angular resolution basically; if on ground, would be related to seeing \\n                - also obviously related to slit width (larger theta means larger slit)\\n            \"nExp\":2, # the number of exposures: if nEXP > 2, assumes a 2 point dither  \\n                - dither: to collect data at two different point on the telescope itself, with the same image ?\\n                - this is separate from the literal number of exposures of the same image (I feel like that is more related to Nreads);\\n                    basically this is number of exposures to capture the same object on different parts of the telescope\\n                    so that we can \\n            \"lineF\":300, # line flux in 10^-18 erg/s/cm^2; set -99 if not used \\n            \"lineW\":6563, # line wavelength of interest (rest or observed); set -99 if not used \\n            \"FWHM\":30, # rest-frame line FWHM in km/s - of line of choice\\n            \"z\":1.5, # redshift of line of interest \\n            \"specFile\":\"none\", # If not \"none\": filename of user spectrum (microns,F_nu). If \"flat\" flat spectrum in f_nu. If \"none\", a line (lineF, lineW, FWHM) is used. \\n            \"mag\":-99, # magnitude in AB (-99 of not used) \\n            \"NormalizeUserSpec\":False, # if TRUE then user spectrum will be scaled to magnitude (mag) \\n            \"InputInAngstroms\":True, # True if user input wavelengths are in Angstroms \\n            \"SN\":-99, # desired signal to noise. If not -99, then this is used to calculate the exposure time \\n            \\n        \\n'"
      ]
     },
     "execution_count": 32,
     "metadata": {},
     "output_type": "execute_result"
    }
   ],
   "source": [
    "import os\n",
    "import numpy as np\n",
    "from plotly.offline import init_notebook_mode, iplot\n",
    "import plotly.graph_objects as go\n",
    "\n",
    "init_notebook_mode(connected=True)\n"
   ]
  },
  {
   "cell_type": "code",
   "execution_count": 33,
   "metadata": {
    "scrolled": true
   },
   "outputs": [],
   "source": [
    "#reading the files\n",
    "\n",
    "homedir = os.path.join(os.getcwd(),\"etc_data\")\n",
    "throughput = np.loadtxt(os.path.join(homedir,\"spec_throughput\",\"throughputSpec_atlas_IR.txt\"))\n",
    "spec_filter = np.loadtxt(os.path.join(homedir,\"filter\",\"filter_atlas_IR.txt\"))\n",
    "background = np.loadtxt(os.path.join(homedir,\"background\",\"backgrounds_mjy_per_str_ra_53.1_dec_-27.8.txt\"))\n",
    "userspec = np.loadtxt(os.path.join(os.getcwd(),\"templates\",\"Galaxy_Kmag_19_Haflux_5e-17_ebmv_0_z_2_highResSpec_obs_redshift.txt\"))\n",
    "\n",
    "\n",
    "mid_bkg = np.array([background[:,0] , background[:,2]])\n",
    "\n",
    "#telescope_file = open(os.path.join(homedir,\"telescope\",\"telescope_data_atlas_IR.txt\"),'r')\n",
    "#telescope = telescope_file.read()\n",
    "#maybe should put in dictionary first\n",
    "\n",
    "telescope = {\n",
    "            ## linearity limits of detector\n",
    "            \"one_per_limit\": 55900,\t# one percent non-linearity limit [e-]\n",
    "            \"five_per_limit\":79550,\t# five percent non-linearity limit [e-]\n",
    "            \"sat_limit\":92450,\t# saturation limit [e-]\n",
    "            \"AT\":17671,\t# Area of the telescope ((150/2.)**2 * np.pi) [cm2]\n",
    "            \"slit_W\":0.75,\t# slit width to measure R_theta [arcsec] > size of one micromirror\n",
    "            \"pix_scale\":0.39,\t# spatial pixel scale [arcsec/px]\n",
    "            \"tot_Npix\":4096,\t# Number of pixels in dispersion direction on the detector\n",
    "            \"det_RN\":5,\t\t# Detector readnoise (correlated double sampling) [e-/px]\n",
    "            \"Nmirror\":2,\t\t# Number of mirrors \n",
    "             ## Other stats\n",
    "            \"disp\":10.0,\t# dispersion [angstrom/px]\n",
    "            \"lambda\":2.5,\t\t# central wavelength [microns]\n",
    "            \"dark\":0.005,\t# dark current [e-/s]\n",
    "            \"Mref\":1.0\t\t# Mirror reflectance (reflectance already included in spectroscopic throughput)\n",
    "            }\n",
    "# adding one more variable into \"telescope\"\n",
    "# R = lam / dlam\n",
    "telescope[\"intrinsic_res\"] = 1000 * telescope[\"slit_W\"] \n"
   ]
  },
  {
   "cell_type": "code",
   "execution_count": 34,
   "metadata": {},
   "outputs": [],
   "source": [
    "#double check\n",
    "#purpose is to mimic what output would look like based on the inherent flaws of optics of telescope\n",
    "#basic process: convert everything to velocity, make a gaussian kernal and convolve it with the rest of the function, \n",
    "#               then convert back to wavelength\n",
    "\n",
    "def degrade_resolution(wavelengths, flux, center_wave, spec_res, disp, px_tot):\n",
    "    \n",
    "    #allow more px for K band\n",
    "    Npix_spec=px_tot * 3./2.\n",
    "\n",
    "    #the speed of light in cm/s\n",
    "    c=np.log10(29979245800.)\n",
    "       # numerical convenience\n",
    "\n",
    "    # make velocity array from -300,000 to 300,000\n",
    "    vel=(np.arange(600001)-300000) #ok\n",
    "    \n",
    "    # convert wavelength to relative velocity\n",
    "    in_vel=(wavelengths/center_wave-1)*10.**(1*c-5) \n",
    "    \n",
    "    # create vectors in velocity space, picking out realistic values (keeping good indices)\n",
    "    in_vel_short = in_vel[ np.where( (in_vel > vel[0]) & (in_vel < vel[600000]) )[0] ]\n",
    "    in_flux_short = flux[ np.where( (in_vel > vel[0]) & (in_vel < vel[600000]) )[0] ] \n",
    "        \n",
    "    # interpolate to 600000 points\n",
    "    interp_flux = np.interp(vel, in_vel_short, in_flux_short)\n",
    "\n",
    "    #sigma  = the resolution of the spectrograph\n",
    "    sigma = (10.**(c-5)/spec_res)/(2*np.sqrt(2*np.log(2)))\n",
    "        # convert to velocity resolution, potentially res per px\n",
    "\n",
    "\n",
    "    # make a smaller velocity array with\n",
    "    # the same \"resolution\" as the steps in\n",
    "    # vel, above\n",
    "    n = round(8.*sigma)\n",
    "        # (potentially) making a kernel that is 8px \n",
    "    if (n % 2 == 0):\n",
    "        n = n + 1\n",
    "    vel_kernel = np.arange(n) - np.floor(n/2.0)\n",
    "\n",
    "    # a gaussian of unit area and width sigma\n",
    "    gauss_kernel = (1/(np.sqrt(2*np.pi)*sigma)) * np.exp(-0.5*vel_kernel**2.0/sigma**2.0)\n",
    "        # shape the kernel\n",
    "        # look up the equation for gaussian kernal and figure out the significance of sigma used here\n",
    "        # like how does resolution shape/define the kernel\n",
    "\n",
    "    # convolve flux with gaussian kernel\n",
    "    convol_flux = np.convolve(interp_flux, gauss_kernel , mode=\"same\") \n",
    "        # convolve moving kernel\n",
    "    convol_wave = center_wave * (vel*10.**(-1*c+5.0) + 1.0 )\n",
    "        # convert back to wavelength\n",
    "\n",
    "    # and the real pixel scale of mosfire\n",
    "    real_wave = np.arange(Npix_spec) * disp * 10.**(-4.)\n",
    "    real_wave = real_wave - real_wave[int(np.round(Npix_spec/2.))]   \n",
    "    real_wave = real_wave + center_wave \n",
    "        # wavelength to px\n",
    "\n",
    "    # interpolate onto the pixel scale of the detector\n",
    "    out_wave = real_wave\n",
    "    out_flux = np.interp(real_wave , convol_wave, convol_flux)\n",
    "        # interpolating to number of px (b/c working from km/px or lam/px)\n",
    "    \n",
    "    out = {\"lam\": out_wave,\n",
    "          \"flux\": out_flux}\n",
    "    \n",
    "    return(out)\n",
    "    "
   ]
  },
  {
   "cell_type": "code",
   "execution_count": 35,
   "metadata": {},
   "outputs": [],
   "source": [
    "#functions \n",
    "\n",
    "def atlasIR_etc_serena(userinput):\n",
    "    \n",
    "    # General Constants \n",
    "    speedoflight = np.log10(29979245800) # speed of light in cm/2\n",
    "    hplank = np.log10(6.626068)-27 # Plank constant in erg*s\n",
    "    loghc = speedoflight + hplank # H*c in log(erg * cm)\n",
    "    f_nu_AB = 48.59\n",
    "\n",
    "    if userinput[\"nExp\"] > 1:\n",
    "        dither = 2.0\n",
    "    else:\n",
    "        dither = 1.0\n",
    "\n",
    "    #Sky background conversion\n",
    "    bkg = mid_bkg[1]\n",
    "    bkg = bkg / 206265**2 # from MJy/sr to MJy/arcsec2\n",
    "    bkg = bkg * 1e6 # from MJy/arcsec2 to Jy/arcsec2\n",
    "    bkg = bkg * 1e-26 # from Jy/arcsec2 to W/m2/s/Hz/arcsec2\n",
    "    bkg = bkg * 1e7 # from W/m2/s/Hz/arcsec2 to erg/m2/s/Hz/arcsec2\n",
    "    bkg = bkg / (10**loghc / (background[:,0]*1e-4)) # from erg/m2/s/Hz/arcsec2 to ph/m2/s/Hz/arcsec2\n",
    "    bkg = bkg * 10**speedoflight / (background[:,0]*1e-4)**2 # from ph/m2/s/Hz/arcsec2 to ph/m2/s/cm/arcsec2\n",
    "    bkg = bkg * 1e-7 # from ph/m2/s/cm/arcsec2 to phm2/s/nm/arcsec2\n",
    "    mid_bkg[1] = bkg\n",
    "\n",
    "    \n",
    "    # do the check single line input \n",
    "    # include conversion to micron from ang\n",
    "    # include z shift\n",
    "    # include check that input wavelength is within range\n",
    "   \n",
    "    #check line > if the user wants to know a specific line width (for what kind of object?)\n",
    "\n",
    "    if (userinput[\"lineF\"] > 0) & (userinput[\"lineW\"] > 0) & (userinput[\"specFile\"] == \"none\"):\n",
    "        SPECTYPE = \"line\"\n",
    "\n",
    "        # Convert from ang to micron\n",
    "        if userinput[\"InputInAngstroms\"] == True:\n",
    "            userinput[\"lineW\"] = userinput[\"lineW\"]/10000\n",
    "\n",
    "\n",
    "        # Put in observed frame\n",
    "        center_w = userinput[\"lineW\"] * (1+userinput[\"z\"])\n",
    "            # micron\n",
    "\n",
    "\n",
    "        # Check to see if the band is correct\n",
    "        if (center_w > np.nanmax(spec_filter[:,0])) | (center_w < np.nanmin(spec_filter[:,0])):\n",
    "            print(\"This wavelength is not contained in the band\")\n",
    "\n",
    "\n",
    "    # check spectrum > if the user wants to view an entire spectrum: \"A spectrum of a source with known emission line wavelengths is used to find the wavelength\n",
    "    # scale (dispersion solution) for your spectra\"\n",
    "        # want to know: what wavelength is where\n",
    "            # can use any kind of calibration source that you know the spec of, so you know where lam are supposed to appear (pix)\n",
    "        # can also use to figure out best way to view a spectrum of an unknown source\n",
    "    \n",
    "    elif (userinput[\"specFile\"] != \"none\") & (userinput[\"specFile\"] != \"flat\"): \n",
    "        SPECTYPE = \"user\"\n",
    "        if userinput[\"NormalizeUserSpec\"] == True:\n",
    "            if userinput[\"mag\"] > 0:\n",
    "                print(\"using 'mag' to normalize spectrum\")\n",
    "            else:\n",
    "                print(\"The magnitude you gave for normalization doesn't make sense\")\n",
    "\n",
    "        else:\n",
    "            if userinput[\"mag\"] > 0:\n",
    "                print(\"Your magnitude to normalize the spectrum looks reasonable but is not used because 'NormalizeUserSpec' is set to False.\")            \n",
    "\n",
    "        try: \n",
    "            user_spectrum = {\"lam\": userspec[:,0], \"flux\": userspec[:,1]}\n",
    "\n",
    "        except:\n",
    "            print(\"something went wrong loading the spectrum file\")\n",
    "\n",
    "        #convert to micron if needed\n",
    "        if userinput[\"InputInAngstroms\"] == True:\n",
    "            user_spectrum[\"lam\"] = user_spectrum[\"lam\"] / 10000.0\n",
    "                #this is now in MICRONS\n",
    "\n",
    "        #put in observed frame\n",
    "        user_spectrum[\"lam\"] = user_spectrum[\"lam\"] * (1+userinput[\"z\"])\n",
    "        user_spectrum[\"flux\"] = user_spectrum[\"flux\"] / (1+userinput[\"z\"])\n",
    "            # flux is in ergs/s/cm^2/Hz\n",
    "\n",
    "        #make sure everything is in the right format (should match the filter)\n",
    "        indicies = np.where(spec_filter[:,1] > 0.01)[0]\n",
    "            # why 0.01? is it just an approximate number\n",
    "        filter_check = spec_filter[:,1][indicies]\n",
    "\n",
    "        #check if the lowest or highest are covered by the filter\n",
    "        if (np.nanmin(user_spectrum[\"lam\"]) > np.nanmin(filter_check) ) | ( np.nanmax(user_spectrum[\"lam\"]) < np.nanmax(filter_check)  ):\n",
    "            print(\"The spectrum you gave does not span the full wavelength coverage of the %s band or is not in the proper format. The correct format is observed-frame wavelength in microns or Angstroms and flux in erg/s/cm2, two column format. Please also check the wavelength unit.\")\n",
    "            quit()\n",
    "\n",
    "\n",
    "\n",
    "    #check flat > for calibration purposes (difference: flat spectrum && flat illumination >> to figure out flaws of telescope to recalibrate)\n",
    "        # this in particular is flat spectrum callibration (object with same AB mag across wavelengths)\n",
    "    \n",
    "    elif (userinput[\"specFile\"] == \"flat\"):\n",
    "        SPECTYPE = \"flat\"\n",
    "        print(\"Using a flat spectrum in f_v (using mag=%g AB to normalize spectrum)!\")\n",
    "            # this is the standard object in AB\n",
    "\n",
    "        if userinput[\"mag\"] < 0:\n",
    "            print(\"The magnitude you gave for normalization doesn't make sense\" )\n",
    "            quit()\n",
    "\n",
    "\n",
    "    else:\n",
    "        print(\"you're doing something wrong, don't know what you're looking for\")\n",
    "\n",
    "\n",
    "    ####NOTE: all of the arrays are np arrays so you can just multiply things\n",
    "    \n",
    "    \n",
    "    \n",
    "    ##-----throughput calculation-------##\n",
    "    \n",
    "    #throughput of telescope with mirrors taken into account\n",
    "    throughput[:,1] = throughput[:,1] * telescope[\"Mref\"] ** telescope[\"Nmirror\"]\n",
    "\n",
    "    # \"real FWHM\" > R = lam / dlam\n",
    "    resolving_power = telescope[\"intrinsic_res\"] / userinput[\"slit_width\"]\n",
    "\n",
    "    ##------degrade resolution-------##\n",
    "    \n",
    "    ##filter\n",
    "    filter_degrade = degrade_resolution(wavelengths=spec_filter[:,0], \n",
    "                                        flux=spec_filter[:,1], \n",
    "                                        center_wave=telescope[\"lambda\"], \n",
    "                                        spec_res=resolving_power, disp = telescope[\"disp\"], \n",
    "                                        px_tot = telescope[\"tot_Npix\"])\n",
    "\n",
    "    #get the relevant portion (limits make sense after run through the degrade function)\n",
    "    relevant_indices = np.where(filter_degrade['flux'] > 0.1)[0]\n",
    "    filter_degrade[\"lam\"] = np.array(filter_degrade[\"lam\"][relevant_indices])\n",
    "    filter_degrade[\"flux\"] = np.array(filter_degrade[\"flux\"][relevant_indices])\n",
    "\n",
    "    filt_index = np.where(filter_degrade[\"flux\"] > 0.5)[0]\n",
    "\n",
    "    ##throughput\n",
    "    throughput_degrade = degrade_resolution(wavelengths=throughput[:,0], \n",
    "                                        flux=throughput[:,1], \n",
    "                                        center_wave=telescope[\"lambda\"], \n",
    "                                        spec_res=resolving_power, disp = telescope[\"disp\"], \n",
    "                                        px_tot = telescope[\"tot_Npix\"])\n",
    "    #get relevant portions\n",
    "    throughput_degrade[\"lam\"] = throughput_degrade[\"lam\"][relevant_indices]\n",
    "    throughput_degrade[\"flux\"] = throughput_degrade[\"flux\"][relevant_indices]\n",
    "\n",
    "\n",
    "    ##background\n",
    "    background_degrade = degrade_resolution(wavelengths=mid_bkg[0], \n",
    "                                        flux=mid_bkg[1], \n",
    "                                        center_wave=telescope[\"lambda\"], \n",
    "                                        spec_res=resolving_power, disp = telescope[\"disp\"], \n",
    "                                        px_tot = telescope[\"tot_Npix\"])\n",
    "    #set negative values to 0\n",
    "    where_zero = np.where(background_degrade[\"flux\"] < 0)[0]\n",
    "    background_degrade[\"flux\"][where_zero] = 0\n",
    "\n",
    "    background_degrade[\"lam\"] = background_degrade[\"lam\"][relevant_indices]\n",
    "    background_degrade[\"flux\"] = background_degrade[\"flux\"][relevant_indices]\n",
    "\n",
    "\n",
    "    \n",
    "    ##-------Calculate spectrum----------\n",
    "    \n",
    "    \n",
    "    if SPECTYPE == \"line\":\n",
    "\n",
    "        #resolution at line:\n",
    "        res_at_w = center_w / resolving_power\n",
    "\n",
    "        #width of line before spectrograph\n",
    "        width_b4_spec = center_w * userinput[\"FWHM\"] * 10**(-speedoflight + 5)\n",
    "            # convert to velocity\n",
    "\n",
    "\n",
    "        #width of line after spectrograph\n",
    "        width_final = np.sqrt(width_b4_spec**2 + res_at_w**2)\n",
    "            #averaging the two noises\n",
    "\n",
    "        #figure out the \"location inside FWHM of given line\"\n",
    "        line_index = np.where(np.abs(background_degrade[\"lam\"] - center_w) <= (0.5*width_final))[0]\n",
    "\n",
    "\n",
    "        #check if chosen line is wide enough\n",
    "        if len(line_index) == 0:\n",
    "            print(\"ERROR: Line is too narrow.\")\n",
    "            quit()\n",
    "        else:\n",
    "            pass\n",
    "\n",
    "        #area used to calculate SNR ??\n",
    "        sn_index = line_index\n",
    "\n",
    "        #recalculate background\n",
    "        background_final = background_degrade[\"flux\"] * throughput_degrade[\"flux\"] * userinput[\"slit_width\"] * userinput[\"theta\"] * (telescope[\"AT\"] * 10**(-4.)) * (telescope[\"disp\"]/10.0)\n",
    "\n",
    "        #interpolate background\n",
    "        avg_bkg = np.interp(center_w,mid_bkg[0],mid_bkg[1])\n",
    "                        # interp(where to interpolate, x-coordinates, y-coordinates)\n",
    "\n",
    "        #convert into AB magnitude \n",
    "        bkg_mag = -2.5 * ( np.log10(avg_bkg*center_w) - 4 + 3 + hplank ) - f_nu_AB\n",
    "\n",
    "        #signal after going through the atmosphere ?\n",
    "        signal_atmos = userinput[\"lineF\"] * 10**(-18-loghc-4) * center_w * telescope[\"AT\"]\n",
    "            # unit: photon/sec collected by telescope\n",
    "\n",
    "        #width of line as sigma (micron)\n",
    "        sigma = width_final / (2 * np.sqrt(2 * np.log(2)))\n",
    "\n",
    "        #signal spectrum\n",
    "        signal_spectrum = signal_atmos * ( 1 / ( np.sqrt(2 * np.pi) * sigma)) * np.exp(-0.5 * ( background_degrade[\"lam\"] - center_w)**2 / sigma**2) * telescope[\"disp\"] / 1e4\n",
    "            # gaussian is 10 ang spacing, but per micron\n",
    "            # / 1e4 to get photons/sec/ang\n",
    "            # then multiply by ang/px to get photons/sec/px\n",
    "\n",
    "\n",
    "        #signal speectrum in space\n",
    "        signal_space = signal_spectrum * throughput_degrade[\"flux\"]*1\n",
    "\n",
    "        #number of px in the spectral direction\n",
    "        npix_spec = (width_final * 10000.0) / telescope[\"disp\"]\n",
    "            # (width_final * 10000.0) == angstrom\n",
    "            # npix_spec is in px\n",
    "\n",
    "\n",
    "        #spatial pixel scale \n",
    "        npix_spatial_scale = userinput[\"theta\"] / telescope[\"pix_scale\"]\n",
    "\n",
    "\n",
    "        # The number of pixels per FWHM observed\n",
    "        npix_per_fwhm = npix_spatial_scale * npix_spec\n",
    "\n",
    "\n",
    "    else:\n",
    "        # The observed line wavelength in micron (here the center of the band from telescope)\n",
    "            center_w = telescope[\"lambda\"]\n",
    "                # micron\n",
    "\n",
    "            # resolution at the central wavelength in micron\n",
    "            res_at_w = center_w / resolving_power\n",
    "                # micron\n",
    "\n",
    "\n",
    "            # the area used to calculate the S/N\n",
    "            sn_index = filt_index\n",
    "\n",
    "            # background magnitude\n",
    "            bkg_mag = -2.5 * ( np.log10( np.nanmean(background_degrade[\"flux\"][filt_index]) * center_w) - 4 + 3 + hplank) - f_nu_AB\n",
    "\n",
    "            # now send the background spectrum through the telescope by \n",
    "            # multiplying the throughput, the\n",
    "            # slit_width, the angular extent, the area of the\n",
    "            # telescope, and the pixel scale in nm\n",
    "            # this gives phot/sec/pixel\n",
    "            background_final = background_degrade[\"flux\"] * throughput_degrade[\"flux\"] * userinput[\"slit_width\"] * userinput[\"theta\"] * (telescope[\"AT\"] * 10.**(-4)) * (telescope[\"disp\"] / 10.0)\n",
    "                # phot/sec/px\n",
    "\n",
    "            #-----For spectrum------:\n",
    "            if SPECTYPE == \"user\": # for USER spectrum\n",
    "\n",
    "                # convolve the user spectrum with the resolution\n",
    "                user_spectrum_degrade = degrade_resolution(wavelengths=user_spectrum[\"lam\"],\n",
    "                                        flux=user_spectrum[\"flux\"],\n",
    "                                        center_wave=telescope[\"lambda\"],\n",
    "                                        spec_res=resolving_power,\n",
    "                                        disp=telescope[\"disp\"],\n",
    "                                        px_tot=telescope[\"tot_Npix\"]\n",
    "                                        )\n",
    "\n",
    "                user_spectrum_degrade[\"lam\"] = user_spectrum_degrade[\"lam\"][relevant_indices]\n",
    "                user_spectrum_degrade[\"flux\"] = user_spectrum_degrade[\"flux\"][relevant_indices]\n",
    "                    # userSig = flux, user_wave_grid = lam\n",
    "\n",
    "\n",
    "                # multiply by a max-normalized filter transmission\n",
    "                filt_shape = filter_degrade[\"flux\"] / np.nanmax(filter_degrade[\"flux\"])\n",
    "                user_spectrum_degrade[\"flux\"] = user_spectrum_degrade[\"flux\"] * filt_shape\n",
    "\n",
    "                # Check if User Spectrum needs to be normalized\n",
    "                if userinput[\"NormalizeUserSpec\"] == True:\n",
    "                    # make the total match the broad band magnitude\n",
    "                    scale = 10.0**(-0.4 * (userinput[\"mag\"] + f_nu_AB)) / np.nanmean(user_spectrum_degrade[\"flux\"])\n",
    "                        #this is fv (look at wiki eq. for AB mag)\n",
    "                        # this is to make the spectrum fainter (make the mags relative to AB standard)\n",
    "                    raw_fv_sig_spec = user_spectrum_degrade[\"flux\"] * scale\n",
    "\n",
    "                else:\n",
    "                    raw_fv_sig_spec = user_spectrum_degrade[\"flux\"].copy()\n",
    "\n",
    "\n",
    "                # convert to flux hitting the primary\n",
    "                # in flux hitting the primary in phot/sec/micron \n",
    "                # (if the earth had no atmosphere)\n",
    "                # phot/sec/micron = fnu * AT / lam / h\n",
    "                signal_spectrum = raw_fv_sig_spec * 10.**(-1 * hplank) * telescope[\"AT\"] / background_degrade[\"lam\"]\n",
    "                    #phot/sc/micron\n",
    "\n",
    "\n",
    "            #------For flat------:\n",
    "\n",
    "            elif SPECTYPE == \"flat\": ## for FLAT spectrum\n",
    "\n",
    "                # flux hitting the primary in\n",
    "                # phot/sec/micron (if the earth had no atmosphere)\n",
    "                signal_spectrum = 10.0**(-0.4 * (userinput[\"mag\"] + f_nu_AB) - hplank) * telescope[\"AT\"] / background_degrade[\"lam\"]\n",
    "\n",
    "            # multiply by the atmospheric transparency (in space!)\n",
    "            signal_spectrum = signal_spectrum * 1 # tranSpecObs\n",
    "\n",
    "            # now put it through the throughput of the telescope\n",
    "            # phot/sec/micron > phot/sec/pix\n",
    "            signal_space = signal_spectrum * throughput_degrade[\"flux\"] \n",
    "\n",
    "            # now for phot/sec/pix multiply by micron/pix\n",
    "            signal_space = signal_space * (telescope[\"disp\"] / 10000.0)            \n",
    "                #phot/sec/pix\n",
    "\n",
    "            # number of pixels per resolution element in the spectral direction\n",
    "            npix_spec = (res_at_w*10000.0) / telescope[\"disp\"]\n",
    "                # = npix_spec\n",
    "\n",
    "            # the spatial pixel scale\n",
    "            # we have at least one pixel in the cross dispersion direction\n",
    "            npix_spatial_scale = np.nanmax( np.asarray([userinput[\"theta\"] / telescope[\"pix_scale\"],2]) )\n",
    "                #npix_spatial_scale\n",
    "\n",
    "            # The number of pixels per FWHM observed\n",
    "            npix_per_fwhm = npix_spec * npix_spatial_scale\n",
    "                # = npix_per_fwhm\n",
    "\n",
    "\n",
    "\n",
    "\n",
    "        \n",
    "        \n",
    "    \n",
    "        ##-------------Calculate SNR, exposure, mag---------##\n",
    "        \n",
    "    #if not given exposure time:\n",
    "    if userinput[\"SN\"] > 0:\n",
    "\n",
    "        #check if user line spectrum\n",
    "        if (userinput[\"lineF\"] > 0) & (userinput[\"lineW\"] > 0):\n",
    "            qa = -npix_spec * signal_space**2 / userinput[\"SN\"]**2\n",
    "        else:\n",
    "            qa= -signal_space**2 / userinput[\"SN\"]**2\n",
    "\n",
    "        qb = dither * background_final + dither * telescope[\"dark\"] * npix_spatial_scale + signal_space\n",
    "        qc = dither * telescope[\"det_RN\"]**2 / userinput[\"Nreads\"] * npix_spatial_scale * userinput[\"nExp\"]\n",
    "\n",
    "  \n",
    "        if len(sn_index) == 0:\n",
    "            print(\"ERROR: No signal detected when computing exposure time for given input S/N.\")\n",
    "            quit()\n",
    "\n",
    "\n",
    "\n",
    "        ##----calculate exposure time, assuming you know SNR----##\n",
    "        exp_time_spec = (-qb[sn_index] - np.sqrt( qb[sn_index]**2 - 4 * qa[sn_index] * qc )) / (2 * qa[sn_index])\n",
    "        exp_time = np.float( np.nanmedian( exp_time_spec) )\n",
    "\n",
    "\n",
    "\n",
    "    else: ## Else, take the exposure time given by the user -----\n",
    "        exp_time = userinput[\"time\"]\n",
    "    \n",
    "    \n",
    "    \n",
    "    ##---compute SNR----##\n",
    "    \n",
    "\n",
    "    noise = np.sqrt( signal_space * exp_time + dither*((background_final + telescope[\"dark\"] * npix_spatial_scale) * exp_time + telescope[\"det_RN\"]**2 / userinput[\"Nreads\"] * npix_spatial_scale * userinput[\"nExp\"]) )\n",
    "    signal_final =  signal_space * exp_time\n",
    "        \n",
    "\n",
    "    #SNR!\n",
    "    SNR = signal_final / noise\n",
    "\n",
    "    stn = np.nanmean(np.sqrt(npix_spec) * SNR[sn_index])\n",
    "            # i think this means how many pixels is the noise?\n",
    "            # this will print phot/s/spectral pix\n",
    "\n",
    "    # the electron per pixel spectrum\n",
    "    epp = noise**2 / npix_spatial_scale\n",
    "        \n",
    "\n",
    "    \n",
    "    \n",
    "    ##----follow the results printing pattern----##\n",
    "    \n",
    "    # the mean instrument+telescope throughput in the same band pass\n",
    "    avg_throughput = np.nanmean( throughput_degrade[\"flux\"][sn_index])\n",
    "\n",
    "    # maximum electron per pixel\n",
    "    max_epp = np.max( epp[sn_index] / userinput[\"nExp\"] )\n",
    "\n",
    "\n",
    "    # if calculating line flux (\"S/N per FWHM ie S/N in the line\")\n",
    "    if (userinput[\"lineF\"] > 0) & (userinput[\"lineW\"] > 0): \n",
    "\n",
    "        # over the line (per FWHM)\n",
    "        stn = np.nanmean(np.sqrt(npix_spec) * SNR[sn_index])\n",
    "            #?\n",
    "\n",
    "        # signal in e/FWHM\n",
    "        signal_print = np.nanmean(signal_space[sn_index]) * npix_spec * exp_time\n",
    "            #?\n",
    "\n",
    "        # sky background in e/sec/FWHM\n",
    "        background_print = np.nanmean( background_final[sn_index]) * npix_spec * exp_time\n",
    "\n",
    "        # Read noise for multiple reads, electrons per FWHM\n",
    "        RN_print = telescope[\"det_RN\"] / np.sqrt(userinput[\"Nreads\"]) * np.sqrt(npix_per_fwhm) * np.sqrt(userinput[\"nExp\"])\n",
    "\n",
    "        # noise per FWHM\n",
    "        noise_print = np.nanmean( noise[sn_index]) * np.sqrt(npix_spec)\n",
    "\n",
    "        # e- \n",
    "        dark_print = telescope[\"dark\"] * npix_per_fwhm * exp_time\n",
    "\n",
    "    # SNR per pixel for a continuous source\n",
    "    else: \n",
    "\n",
    "        # per spectral pixel\n",
    "        stn = np.nanmedian( SNR[sn_index] )\n",
    "\n",
    "        # signal in e/(spectral pixel)\n",
    "        signal_print = np.nanmedian( signal_space[sn_index]) * exp_time\n",
    "\n",
    "        # sky background in e/(spectral pixel)\n",
    "        background_print = np.nanmedian( background_final[sn_index]) * exp_time\n",
    "\n",
    "        # Read noise for multiple reads, electrons per spectral pixel\n",
    "        RN_print = telescope[\"det_RN\"] / np.sqrt(userinput[\"Nreads\"]) * np.sqrt(npix_spatial_scale) * np.sqrt(userinput[\"nExp\"])\n",
    "\n",
    "        # noise per spectral pixel\n",
    "        noise_print = np.nanmedian(noise[sn_index])\n",
    "\n",
    "        # e- per spectral pixel\n",
    "        dark_print = telescope[\"dark\"] * npix_spatial_scale * exp_time\n",
    "\n",
    "\n",
    "\n",
    "\n",
    "        \n",
    "    ##---------output----------##\n",
    "    \n",
    "    #Summary of results, in dictionary \n",
    "    summary_struct = dict()\n",
    "    summary_struct[\"quant\"] = ['Wavelength', 'Resolution','Dispersion', 'Throughput', 'Signal', 'Sky Background', \n",
    "                       'Sky brightness', 'Dark Current', 'Read Noise', 'Total Noise','S/N', \n",
    "                       'Total Exposure Time', 'Max e- per pixel']\n",
    "\n",
    "    if (userinput[\"lineF\"] > 0) & (userinput[\"lineW\"] > 0):\n",
    "        summary_struct[\"unit\"] = ['micron','FWHM in angstrom', 'angstrom/pixel', '',  'electrons per FWHM',\n",
    "         'electrons per FWHM', 'AB mag per sq. arcsec', 'electrons per FWHM', \n",
    "         'electrons per FWHM', \n",
    "         'electrons per FWHM',\n",
    "         'per observed FWHM', 'seconds', 'electrons per pixel per exp']\n",
    "    else:\n",
    "        summary_struct[\"unit\"] = ['micron','angstrom', 'angstrom/pixel', '',  'electrons per spectral pixel',\n",
    "         'electrons per spectral pixel', 'AB mag per sq. arcsec', 'electrons per spectral pixel', \n",
    "         'electrons per spectral pixel', 'electrons per spectral pixel',\n",
    "         'per spectral pixel', 'seconds', 'electrons per pixel']\n",
    "\n",
    "\n",
    "    if max_epp >= 1e10:\n",
    "        max_epp_string = \"> 1e10\"\n",
    "    else:\n",
    "        max_epp_string = max_epp\n",
    "\n",
    "\n",
    "        \n",
    "    #checking if the signal is saturating the detector\n",
    "    if max_epp > telescope[\"sat_limit\"]:\n",
    "        print(\"Detector Saturated!\")\n",
    "    elif (max_epp > telescope[\"five_per_limit\"]) & (max_epp < telescope[\"sat_limit\"]):\n",
    "        print(\"Detector in >5 percent unlinear regime\")\n",
    "    elif (max_epp > telescope[\"one_per_limit\"]) & (max_epp < telescope[\"five_per_limit\"]):\n",
    "        print(\"Detector in 1 - 5 percent nonlinear regime\")\n",
    "    else:\n",
    "        pass\n",
    "\n",
    "    \n",
    "    summary_struct[\"value\"] = [round(center_w,4),\n",
    "                    round(res_at_w * 1e4,1),\n",
    "                    round(telescope[\"disp\"],2),\n",
    "                    avg_throughput,\n",
    "                    signal_print,\n",
    "                    background_print,\n",
    "                    round(bkg_mag,6),\n",
    "                    round(dark_print,6),\n",
    "                    round(RN_print,6),\n",
    "                    round(noise_print,6),\n",
    "                    round(stn,6),\n",
    "                    round(exp_time,6),\n",
    "                    round(max_epp_string,6)\n",
    "                    ]\n",
    "\n",
    "    ## Actual output containing the spectrum (for graphing purposes) --------------\n",
    "    spec_struct = dict()\n",
    "\n",
    "    spec_struct[\"wave\"] = background_degrade[\"flux\"]\n",
    "    spec_struct[\"center\"] = center_w\n",
    "    spec_struct[\"plot_index\"] = sn_index\n",
    "    spec_struct[\"filt_index\"] = filt_index\n",
    "    spec_struct[\"tp\"] = throughput_degrade[\"flux\"]\n",
    "    spec_struct[\"filt\"] = filter_degrade[\"flux\"]\n",
    "    spec_struct[\"bk\"] = background_degrade[\"flux\"]\n",
    "    spec_struct[\"sig\"] = signal_spectrum # phot/sec/micron\n",
    "    spec_struct[\"signal\"] = signal_final # phot/sec/micron\n",
    "    spec_struct[\"noise\"] = noise\n",
    "    spec_struct[\"sn\"] = SNR\n",
    "    spec_struct[\"lineF\"] = userinput[\"lineF\"]\n",
    "    spec_struct[\"time\"] = exp_time\n",
    "\n",
    "    output = {\"summary_struct\":summary_struct,\n",
    "                \"spec_struct\":spec_struct}\n",
    "\n",
    "\n",
    "    return(output)\n",
    "\n",
    "\n",
    "\n",
    "    "
   ]
  },
  {
   "cell_type": "code",
   "execution_count": 36,
   "metadata": {
    "scrolled": true
   },
   "outputs": [
    {
     "name": "stdout",
     "output_type": "stream",
     "text": [
      "using 'mag' to normalize spectrum\n"
     ]
    },
    {
     "data": {
      "application/vnd.plotly.v1+json": {
       "config": {
        "plotlyServerURL": "https://plot.ly"
       },
       "data": [
        {
         "cells": {
          "values": [
           [
            "Wavelength",
            "Resolution",
            "Dispersion",
            "Throughput",
            "Signal",
            "Sky Background",
            "Sky brightness",
            "Dark Current",
            "Read Noise",
            "Total Noise",
            "S/N",
            "Total Exposure Time",
            "Max e- per pixel"
           ],
           [
            2.5,
            25,
            10,
            0.2995245746005641,
            607.6187017221295,
            18.102975824607434,
            22.583582,
            50,
            3.952847,
            28.022278,
            21.896258,
            5000,
            114.545469
           ],
           [
            "micron",
            "angstrom",
            "angstrom/pixel",
            "",
            "electrons per spectral pixel",
            "electrons per spectral pixel",
            "AB mag per sq. arcsec",
            "electrons per spectral pixel",
            "electrons per spectral pixel",
            "electrons per spectral pixel",
            "per spectral pixel",
            "seconds",
            "electrons per pixel"
           ]
          ]
         },
         "header": {
          "values": [
           "Variable",
           "Value",
           "Units"
          ]
         },
         "type": "table"
        }
       ],
       "layout": {
        "template": {
         "data": {
          "bar": [
           {
            "error_x": {
             "color": "#2a3f5f"
            },
            "error_y": {
             "color": "#2a3f5f"
            },
            "marker": {
             "line": {
              "color": "#E5ECF6",
              "width": 0.5
             }
            },
            "type": "bar"
           }
          ],
          "barpolar": [
           {
            "marker": {
             "line": {
              "color": "#E5ECF6",
              "width": 0.5
             }
            },
            "type": "barpolar"
           }
          ],
          "carpet": [
           {
            "aaxis": {
             "endlinecolor": "#2a3f5f",
             "gridcolor": "white",
             "linecolor": "white",
             "minorgridcolor": "white",
             "startlinecolor": "#2a3f5f"
            },
            "baxis": {
             "endlinecolor": "#2a3f5f",
             "gridcolor": "white",
             "linecolor": "white",
             "minorgridcolor": "white",
             "startlinecolor": "#2a3f5f"
            },
            "type": "carpet"
           }
          ],
          "choropleth": [
           {
            "colorbar": {
             "outlinewidth": 0,
             "ticks": ""
            },
            "type": "choropleth"
           }
          ],
          "contour": [
           {
            "colorbar": {
             "outlinewidth": 0,
             "ticks": ""
            },
            "colorscale": [
             [
              0,
              "#0d0887"
             ],
             [
              0.1111111111111111,
              "#46039f"
             ],
             [
              0.2222222222222222,
              "#7201a8"
             ],
             [
              0.3333333333333333,
              "#9c179e"
             ],
             [
              0.4444444444444444,
              "#bd3786"
             ],
             [
              0.5555555555555556,
              "#d8576b"
             ],
             [
              0.6666666666666666,
              "#ed7953"
             ],
             [
              0.7777777777777778,
              "#fb9f3a"
             ],
             [
              0.8888888888888888,
              "#fdca26"
             ],
             [
              1,
              "#f0f921"
             ]
            ],
            "type": "contour"
           }
          ],
          "contourcarpet": [
           {
            "colorbar": {
             "outlinewidth": 0,
             "ticks": ""
            },
            "type": "contourcarpet"
           }
          ],
          "heatmap": [
           {
            "colorbar": {
             "outlinewidth": 0,
             "ticks": ""
            },
            "colorscale": [
             [
              0,
              "#0d0887"
             ],
             [
              0.1111111111111111,
              "#46039f"
             ],
             [
              0.2222222222222222,
              "#7201a8"
             ],
             [
              0.3333333333333333,
              "#9c179e"
             ],
             [
              0.4444444444444444,
              "#bd3786"
             ],
             [
              0.5555555555555556,
              "#d8576b"
             ],
             [
              0.6666666666666666,
              "#ed7953"
             ],
             [
              0.7777777777777778,
              "#fb9f3a"
             ],
             [
              0.8888888888888888,
              "#fdca26"
             ],
             [
              1,
              "#f0f921"
             ]
            ],
            "type": "heatmap"
           }
          ],
          "heatmapgl": [
           {
            "colorbar": {
             "outlinewidth": 0,
             "ticks": ""
            },
            "colorscale": [
             [
              0,
              "#0d0887"
             ],
             [
              0.1111111111111111,
              "#46039f"
             ],
             [
              0.2222222222222222,
              "#7201a8"
             ],
             [
              0.3333333333333333,
              "#9c179e"
             ],
             [
              0.4444444444444444,
              "#bd3786"
             ],
             [
              0.5555555555555556,
              "#d8576b"
             ],
             [
              0.6666666666666666,
              "#ed7953"
             ],
             [
              0.7777777777777778,
              "#fb9f3a"
             ],
             [
              0.8888888888888888,
              "#fdca26"
             ],
             [
              1,
              "#f0f921"
             ]
            ],
            "type": "heatmapgl"
           }
          ],
          "histogram": [
           {
            "marker": {
             "colorbar": {
              "outlinewidth": 0,
              "ticks": ""
             }
            },
            "type": "histogram"
           }
          ],
          "histogram2d": [
           {
            "colorbar": {
             "outlinewidth": 0,
             "ticks": ""
            },
            "colorscale": [
             [
              0,
              "#0d0887"
             ],
             [
              0.1111111111111111,
              "#46039f"
             ],
             [
              0.2222222222222222,
              "#7201a8"
             ],
             [
              0.3333333333333333,
              "#9c179e"
             ],
             [
              0.4444444444444444,
              "#bd3786"
             ],
             [
              0.5555555555555556,
              "#d8576b"
             ],
             [
              0.6666666666666666,
              "#ed7953"
             ],
             [
              0.7777777777777778,
              "#fb9f3a"
             ],
             [
              0.8888888888888888,
              "#fdca26"
             ],
             [
              1,
              "#f0f921"
             ]
            ],
            "type": "histogram2d"
           }
          ],
          "histogram2dcontour": [
           {
            "colorbar": {
             "outlinewidth": 0,
             "ticks": ""
            },
            "colorscale": [
             [
              0,
              "#0d0887"
             ],
             [
              0.1111111111111111,
              "#46039f"
             ],
             [
              0.2222222222222222,
              "#7201a8"
             ],
             [
              0.3333333333333333,
              "#9c179e"
             ],
             [
              0.4444444444444444,
              "#bd3786"
             ],
             [
              0.5555555555555556,
              "#d8576b"
             ],
             [
              0.6666666666666666,
              "#ed7953"
             ],
             [
              0.7777777777777778,
              "#fb9f3a"
             ],
             [
              0.8888888888888888,
              "#fdca26"
             ],
             [
              1,
              "#f0f921"
             ]
            ],
            "type": "histogram2dcontour"
           }
          ],
          "mesh3d": [
           {
            "colorbar": {
             "outlinewidth": 0,
             "ticks": ""
            },
            "type": "mesh3d"
           }
          ],
          "parcoords": [
           {
            "line": {
             "colorbar": {
              "outlinewidth": 0,
              "ticks": ""
             }
            },
            "type": "parcoords"
           }
          ],
          "pie": [
           {
            "automargin": true,
            "type": "pie"
           }
          ],
          "scatter": [
           {
            "marker": {
             "colorbar": {
              "outlinewidth": 0,
              "ticks": ""
             }
            },
            "type": "scatter"
           }
          ],
          "scatter3d": [
           {
            "line": {
             "colorbar": {
              "outlinewidth": 0,
              "ticks": ""
             }
            },
            "marker": {
             "colorbar": {
              "outlinewidth": 0,
              "ticks": ""
             }
            },
            "type": "scatter3d"
           }
          ],
          "scattercarpet": [
           {
            "marker": {
             "colorbar": {
              "outlinewidth": 0,
              "ticks": ""
             }
            },
            "type": "scattercarpet"
           }
          ],
          "scattergeo": [
           {
            "marker": {
             "colorbar": {
              "outlinewidth": 0,
              "ticks": ""
             }
            },
            "type": "scattergeo"
           }
          ],
          "scattergl": [
           {
            "marker": {
             "colorbar": {
              "outlinewidth": 0,
              "ticks": ""
             }
            },
            "type": "scattergl"
           }
          ],
          "scattermapbox": [
           {
            "marker": {
             "colorbar": {
              "outlinewidth": 0,
              "ticks": ""
             }
            },
            "type": "scattermapbox"
           }
          ],
          "scatterpolar": [
           {
            "marker": {
             "colorbar": {
              "outlinewidth": 0,
              "ticks": ""
             }
            },
            "type": "scatterpolar"
           }
          ],
          "scatterpolargl": [
           {
            "marker": {
             "colorbar": {
              "outlinewidth": 0,
              "ticks": ""
             }
            },
            "type": "scatterpolargl"
           }
          ],
          "scatterternary": [
           {
            "marker": {
             "colorbar": {
              "outlinewidth": 0,
              "ticks": ""
             }
            },
            "type": "scatterternary"
           }
          ],
          "surface": [
           {
            "colorbar": {
             "outlinewidth": 0,
             "ticks": ""
            },
            "colorscale": [
             [
              0,
              "#0d0887"
             ],
             [
              0.1111111111111111,
              "#46039f"
             ],
             [
              0.2222222222222222,
              "#7201a8"
             ],
             [
              0.3333333333333333,
              "#9c179e"
             ],
             [
              0.4444444444444444,
              "#bd3786"
             ],
             [
              0.5555555555555556,
              "#d8576b"
             ],
             [
              0.6666666666666666,
              "#ed7953"
             ],
             [
              0.7777777777777778,
              "#fb9f3a"
             ],
             [
              0.8888888888888888,
              "#fdca26"
             ],
             [
              1,
              "#f0f921"
             ]
            ],
            "type": "surface"
           }
          ],
          "table": [
           {
            "cells": {
             "fill": {
              "color": "#EBF0F8"
             },
             "line": {
              "color": "white"
             }
            },
            "header": {
             "fill": {
              "color": "#C8D4E3"
             },
             "line": {
              "color": "white"
             }
            },
            "type": "table"
           }
          ]
         },
         "layout": {
          "annotationdefaults": {
           "arrowcolor": "#2a3f5f",
           "arrowhead": 0,
           "arrowwidth": 1
          },
          "coloraxis": {
           "colorbar": {
            "outlinewidth": 0,
            "ticks": ""
           }
          },
          "colorscale": {
           "diverging": [
            [
             0,
             "#8e0152"
            ],
            [
             0.1,
             "#c51b7d"
            ],
            [
             0.2,
             "#de77ae"
            ],
            [
             0.3,
             "#f1b6da"
            ],
            [
             0.4,
             "#fde0ef"
            ],
            [
             0.5,
             "#f7f7f7"
            ],
            [
             0.6,
             "#e6f5d0"
            ],
            [
             0.7,
             "#b8e186"
            ],
            [
             0.8,
             "#7fbc41"
            ],
            [
             0.9,
             "#4d9221"
            ],
            [
             1,
             "#276419"
            ]
           ],
           "sequential": [
            [
             0,
             "#0d0887"
            ],
            [
             0.1111111111111111,
             "#46039f"
            ],
            [
             0.2222222222222222,
             "#7201a8"
            ],
            [
             0.3333333333333333,
             "#9c179e"
            ],
            [
             0.4444444444444444,
             "#bd3786"
            ],
            [
             0.5555555555555556,
             "#d8576b"
            ],
            [
             0.6666666666666666,
             "#ed7953"
            ],
            [
             0.7777777777777778,
             "#fb9f3a"
            ],
            [
             0.8888888888888888,
             "#fdca26"
            ],
            [
             1,
             "#f0f921"
            ]
           ],
           "sequentialminus": [
            [
             0,
             "#0d0887"
            ],
            [
             0.1111111111111111,
             "#46039f"
            ],
            [
             0.2222222222222222,
             "#7201a8"
            ],
            [
             0.3333333333333333,
             "#9c179e"
            ],
            [
             0.4444444444444444,
             "#bd3786"
            ],
            [
             0.5555555555555556,
             "#d8576b"
            ],
            [
             0.6666666666666666,
             "#ed7953"
            ],
            [
             0.7777777777777778,
             "#fb9f3a"
            ],
            [
             0.8888888888888888,
             "#fdca26"
            ],
            [
             1,
             "#f0f921"
            ]
           ]
          },
          "colorway": [
           "#636efa",
           "#EF553B",
           "#00cc96",
           "#ab63fa",
           "#FFA15A",
           "#19d3f3",
           "#FF6692",
           "#B6E880",
           "#FF97FF",
           "#FECB52"
          ],
          "font": {
           "color": "#2a3f5f"
          },
          "geo": {
           "bgcolor": "white",
           "lakecolor": "white",
           "landcolor": "#E5ECF6",
           "showlakes": true,
           "showland": true,
           "subunitcolor": "white"
          },
          "hoverlabel": {
           "align": "left"
          },
          "hovermode": "closest",
          "mapbox": {
           "style": "light"
          },
          "paper_bgcolor": "white",
          "plot_bgcolor": "#E5ECF6",
          "polar": {
           "angularaxis": {
            "gridcolor": "white",
            "linecolor": "white",
            "ticks": ""
           },
           "bgcolor": "#E5ECF6",
           "radialaxis": {
            "gridcolor": "white",
            "linecolor": "white",
            "ticks": ""
           }
          },
          "scene": {
           "xaxis": {
            "backgroundcolor": "#E5ECF6",
            "gridcolor": "white",
            "gridwidth": 2,
            "linecolor": "white",
            "showbackground": true,
            "ticks": "",
            "zerolinecolor": "white"
           },
           "yaxis": {
            "backgroundcolor": "#E5ECF6",
            "gridcolor": "white",
            "gridwidth": 2,
            "linecolor": "white",
            "showbackground": true,
            "ticks": "",
            "zerolinecolor": "white"
           },
           "zaxis": {
            "backgroundcolor": "#E5ECF6",
            "gridcolor": "white",
            "gridwidth": 2,
            "linecolor": "white",
            "showbackground": true,
            "ticks": "",
            "zerolinecolor": "white"
           }
          },
          "shapedefaults": {
           "line": {
            "color": "#2a3f5f"
           }
          },
          "ternary": {
           "aaxis": {
            "gridcolor": "white",
            "linecolor": "white",
            "ticks": ""
           },
           "baxis": {
            "gridcolor": "white",
            "linecolor": "white",
            "ticks": ""
           },
           "bgcolor": "#E5ECF6",
           "caxis": {
            "gridcolor": "white",
            "linecolor": "white",
            "ticks": ""
           }
          },
          "title": {
           "x": 0.05
          },
          "xaxis": {
           "automargin": true,
           "gridcolor": "white",
           "linecolor": "white",
           "ticks": "",
           "title": {
            "standoff": 15
           },
           "zerolinecolor": "white",
           "zerolinewidth": 2
          },
          "yaxis": {
           "automargin": true,
           "gridcolor": "white",
           "linecolor": "white",
           "ticks": "",
           "title": {
            "standoff": 15
           },
           "zerolinecolor": "white",
           "zerolinewidth": 2
          }
         }
        }
       }
      },
      "text/html": [
       "<div>                            <div id=\"c34c6e70-3780-48a2-b222-eddd13ff66c1\" class=\"plotly-graph-div\" style=\"height:525px; width:100%;\"></div>            <script type=\"text/javascript\">                require([\"plotly\"], function(Plotly) {                    window.PLOTLYENV=window.PLOTLYENV || {};                                    if (document.getElementById(\"c34c6e70-3780-48a2-b222-eddd13ff66c1\")) {                    Plotly.newPlot(                        \"c34c6e70-3780-48a2-b222-eddd13ff66c1\",                        [{\"cells\": {\"values\": [[\"Wavelength\", \"Resolution\", \"Dispersion\", \"Throughput\", \"Signal\", \"Sky Background\", \"Sky brightness\", \"Dark Current\", \"Read Noise\", \"Total Noise\", \"S/N\", \"Total Exposure Time\", \"Max e- per pixel\"], [2.5, 25.0, 10.0, 0.2995245746005641, 607.6187017221295, 18.102975824607434, 22.583582, 50.0, 3.952847, 28.022278, 21.896258, 5000, 114.545469], [\"micron\", \"angstrom\", \"angstrom/pixel\", \"\", \"electrons per spectral pixel\", \"electrons per spectral pixel\", \"AB mag per sq. arcsec\", \"electrons per spectral pixel\", \"electrons per spectral pixel\", \"electrons per spectral pixel\", \"per spectral pixel\", \"seconds\", \"electrons per pixel\"]]}, \"header\": {\"values\": [\"Variable\", \"Value\", \"Units\"]}, \"type\": \"table\"}],                        {\"template\": {\"data\": {\"bar\": [{\"error_x\": {\"color\": \"#2a3f5f\"}, \"error_y\": {\"color\": \"#2a3f5f\"}, \"marker\": {\"line\": {\"color\": \"#E5ECF6\", \"width\": 0.5}}, \"type\": \"bar\"}], \"barpolar\": [{\"marker\": {\"line\": {\"color\": \"#E5ECF6\", \"width\": 0.5}}, \"type\": \"barpolar\"}], \"carpet\": [{\"aaxis\": {\"endlinecolor\": \"#2a3f5f\", \"gridcolor\": \"white\", \"linecolor\": \"white\", \"minorgridcolor\": \"white\", \"startlinecolor\": \"#2a3f5f\"}, \"baxis\": {\"endlinecolor\": \"#2a3f5f\", \"gridcolor\": \"white\", \"linecolor\": \"white\", \"minorgridcolor\": \"white\", \"startlinecolor\": \"#2a3f5f\"}, \"type\": \"carpet\"}], \"choropleth\": [{\"colorbar\": {\"outlinewidth\": 0, \"ticks\": \"\"}, \"type\": \"choropleth\"}], \"contour\": [{\"colorbar\": {\"outlinewidth\": 0, \"ticks\": \"\"}, \"colorscale\": [[0.0, \"#0d0887\"], [0.1111111111111111, \"#46039f\"], [0.2222222222222222, \"#7201a8\"], [0.3333333333333333, \"#9c179e\"], [0.4444444444444444, \"#bd3786\"], [0.5555555555555556, \"#d8576b\"], [0.6666666666666666, \"#ed7953\"], [0.7777777777777778, \"#fb9f3a\"], [0.8888888888888888, \"#fdca26\"], [1.0, \"#f0f921\"]], \"type\": \"contour\"}], \"contourcarpet\": [{\"colorbar\": {\"outlinewidth\": 0, \"ticks\": \"\"}, \"type\": \"contourcarpet\"}], \"heatmap\": [{\"colorbar\": {\"outlinewidth\": 0, \"ticks\": \"\"}, \"colorscale\": [[0.0, \"#0d0887\"], [0.1111111111111111, \"#46039f\"], [0.2222222222222222, \"#7201a8\"], [0.3333333333333333, \"#9c179e\"], [0.4444444444444444, \"#bd3786\"], [0.5555555555555556, \"#d8576b\"], [0.6666666666666666, \"#ed7953\"], [0.7777777777777778, \"#fb9f3a\"], [0.8888888888888888, \"#fdca26\"], [1.0, \"#f0f921\"]], \"type\": \"heatmap\"}], \"heatmapgl\": [{\"colorbar\": {\"outlinewidth\": 0, \"ticks\": \"\"}, \"colorscale\": [[0.0, \"#0d0887\"], [0.1111111111111111, \"#46039f\"], [0.2222222222222222, \"#7201a8\"], [0.3333333333333333, \"#9c179e\"], [0.4444444444444444, \"#bd3786\"], [0.5555555555555556, \"#d8576b\"], [0.6666666666666666, \"#ed7953\"], [0.7777777777777778, \"#fb9f3a\"], [0.8888888888888888, \"#fdca26\"], [1.0, \"#f0f921\"]], \"type\": \"heatmapgl\"}], \"histogram\": [{\"marker\": {\"colorbar\": {\"outlinewidth\": 0, \"ticks\": \"\"}}, \"type\": \"histogram\"}], \"histogram2d\": [{\"colorbar\": {\"outlinewidth\": 0, \"ticks\": \"\"}, \"colorscale\": [[0.0, \"#0d0887\"], [0.1111111111111111, \"#46039f\"], [0.2222222222222222, \"#7201a8\"], [0.3333333333333333, \"#9c179e\"], [0.4444444444444444, \"#bd3786\"], [0.5555555555555556, \"#d8576b\"], [0.6666666666666666, \"#ed7953\"], [0.7777777777777778, \"#fb9f3a\"], [0.8888888888888888, \"#fdca26\"], [1.0, \"#f0f921\"]], \"type\": \"histogram2d\"}], \"histogram2dcontour\": [{\"colorbar\": {\"outlinewidth\": 0, \"ticks\": \"\"}, \"colorscale\": [[0.0, \"#0d0887\"], [0.1111111111111111, \"#46039f\"], [0.2222222222222222, \"#7201a8\"], [0.3333333333333333, \"#9c179e\"], [0.4444444444444444, \"#bd3786\"], [0.5555555555555556, \"#d8576b\"], [0.6666666666666666, \"#ed7953\"], [0.7777777777777778, \"#fb9f3a\"], [0.8888888888888888, \"#fdca26\"], [1.0, \"#f0f921\"]], \"type\": \"histogram2dcontour\"}], \"mesh3d\": [{\"colorbar\": {\"outlinewidth\": 0, \"ticks\": \"\"}, \"type\": \"mesh3d\"}], \"parcoords\": [{\"line\": {\"colorbar\": {\"outlinewidth\": 0, \"ticks\": \"\"}}, \"type\": \"parcoords\"}], \"pie\": [{\"automargin\": true, \"type\": \"pie\"}], \"scatter\": [{\"marker\": {\"colorbar\": {\"outlinewidth\": 0, \"ticks\": \"\"}}, \"type\": \"scatter\"}], \"scatter3d\": [{\"line\": {\"colorbar\": {\"outlinewidth\": 0, \"ticks\": \"\"}}, \"marker\": {\"colorbar\": {\"outlinewidth\": 0, \"ticks\": \"\"}}, \"type\": \"scatter3d\"}], \"scattercarpet\": [{\"marker\": {\"colorbar\": {\"outlinewidth\": 0, \"ticks\": \"\"}}, \"type\": \"scattercarpet\"}], \"scattergeo\": [{\"marker\": {\"colorbar\": {\"outlinewidth\": 0, \"ticks\": \"\"}}, \"type\": \"scattergeo\"}], \"scattergl\": [{\"marker\": {\"colorbar\": {\"outlinewidth\": 0, \"ticks\": \"\"}}, \"type\": \"scattergl\"}], \"scattermapbox\": [{\"marker\": {\"colorbar\": {\"outlinewidth\": 0, \"ticks\": \"\"}}, \"type\": \"scattermapbox\"}], \"scatterpolar\": [{\"marker\": {\"colorbar\": {\"outlinewidth\": 0, \"ticks\": \"\"}}, \"type\": \"scatterpolar\"}], \"scatterpolargl\": [{\"marker\": {\"colorbar\": {\"outlinewidth\": 0, \"ticks\": \"\"}}, \"type\": \"scatterpolargl\"}], \"scatterternary\": [{\"marker\": {\"colorbar\": {\"outlinewidth\": 0, \"ticks\": \"\"}}, \"type\": \"scatterternary\"}], \"surface\": [{\"colorbar\": {\"outlinewidth\": 0, \"ticks\": \"\"}, \"colorscale\": [[0.0, \"#0d0887\"], [0.1111111111111111, \"#46039f\"], [0.2222222222222222, \"#7201a8\"], [0.3333333333333333, \"#9c179e\"], [0.4444444444444444, \"#bd3786\"], [0.5555555555555556, \"#d8576b\"], [0.6666666666666666, \"#ed7953\"], [0.7777777777777778, \"#fb9f3a\"], [0.8888888888888888, \"#fdca26\"], [1.0, \"#f0f921\"]], \"type\": \"surface\"}], \"table\": [{\"cells\": {\"fill\": {\"color\": \"#EBF0F8\"}, \"line\": {\"color\": \"white\"}}, \"header\": {\"fill\": {\"color\": \"#C8D4E3\"}, \"line\": {\"color\": \"white\"}}, \"type\": \"table\"}]}, \"layout\": {\"annotationdefaults\": {\"arrowcolor\": \"#2a3f5f\", \"arrowhead\": 0, \"arrowwidth\": 1}, \"coloraxis\": {\"colorbar\": {\"outlinewidth\": 0, \"ticks\": \"\"}}, \"colorscale\": {\"diverging\": [[0, \"#8e0152\"], [0.1, \"#c51b7d\"], [0.2, \"#de77ae\"], [0.3, \"#f1b6da\"], [0.4, \"#fde0ef\"], [0.5, \"#f7f7f7\"], [0.6, \"#e6f5d0\"], [0.7, \"#b8e186\"], [0.8, \"#7fbc41\"], [0.9, \"#4d9221\"], [1, \"#276419\"]], \"sequential\": [[0.0, \"#0d0887\"], [0.1111111111111111, \"#46039f\"], [0.2222222222222222, \"#7201a8\"], [0.3333333333333333, \"#9c179e\"], [0.4444444444444444, \"#bd3786\"], [0.5555555555555556, \"#d8576b\"], [0.6666666666666666, \"#ed7953\"], [0.7777777777777778, \"#fb9f3a\"], [0.8888888888888888, \"#fdca26\"], [1.0, \"#f0f921\"]], \"sequentialminus\": [[0.0, \"#0d0887\"], [0.1111111111111111, \"#46039f\"], [0.2222222222222222, \"#7201a8\"], [0.3333333333333333, \"#9c179e\"], [0.4444444444444444, \"#bd3786\"], [0.5555555555555556, \"#d8576b\"], [0.6666666666666666, \"#ed7953\"], [0.7777777777777778, \"#fb9f3a\"], [0.8888888888888888, \"#fdca26\"], [1.0, \"#f0f921\"]]}, \"colorway\": [\"#636efa\", \"#EF553B\", \"#00cc96\", \"#ab63fa\", \"#FFA15A\", \"#19d3f3\", \"#FF6692\", \"#B6E880\", \"#FF97FF\", \"#FECB52\"], \"font\": {\"color\": \"#2a3f5f\"}, \"geo\": {\"bgcolor\": \"white\", \"lakecolor\": \"white\", \"landcolor\": \"#E5ECF6\", \"showlakes\": true, \"showland\": true, \"subunitcolor\": \"white\"}, \"hoverlabel\": {\"align\": \"left\"}, \"hovermode\": \"closest\", \"mapbox\": {\"style\": \"light\"}, \"paper_bgcolor\": \"white\", \"plot_bgcolor\": \"#E5ECF6\", \"polar\": {\"angularaxis\": {\"gridcolor\": \"white\", \"linecolor\": \"white\", \"ticks\": \"\"}, \"bgcolor\": \"#E5ECF6\", \"radialaxis\": {\"gridcolor\": \"white\", \"linecolor\": \"white\", \"ticks\": \"\"}}, \"scene\": {\"xaxis\": {\"backgroundcolor\": \"#E5ECF6\", \"gridcolor\": \"white\", \"gridwidth\": 2, \"linecolor\": \"white\", \"showbackground\": true, \"ticks\": \"\", \"zerolinecolor\": \"white\"}, \"yaxis\": {\"backgroundcolor\": \"#E5ECF6\", \"gridcolor\": \"white\", \"gridwidth\": 2, \"linecolor\": \"white\", \"showbackground\": true, \"ticks\": \"\", \"zerolinecolor\": \"white\"}, \"zaxis\": {\"backgroundcolor\": \"#E5ECF6\", \"gridcolor\": \"white\", \"gridwidth\": 2, \"linecolor\": \"white\", \"showbackground\": true, \"ticks\": \"\", \"zerolinecolor\": \"white\"}}, \"shapedefaults\": {\"line\": {\"color\": \"#2a3f5f\"}}, \"ternary\": {\"aaxis\": {\"gridcolor\": \"white\", \"linecolor\": \"white\", \"ticks\": \"\"}, \"baxis\": {\"gridcolor\": \"white\", \"linecolor\": \"white\", \"ticks\": \"\"}, \"bgcolor\": \"#E5ECF6\", \"caxis\": {\"gridcolor\": \"white\", \"linecolor\": \"white\", \"ticks\": \"\"}}, \"title\": {\"x\": 0.05}, \"xaxis\": {\"automargin\": true, \"gridcolor\": \"white\", \"linecolor\": \"white\", \"ticks\": \"\", \"title\": {\"standoff\": 15}, \"zerolinecolor\": \"white\", \"zerolinewidth\": 2}, \"yaxis\": {\"automargin\": true, \"gridcolor\": \"white\", \"linecolor\": \"white\", \"ticks\": \"\", \"title\": {\"standoff\": 15}, \"zerolinecolor\": \"white\", \"zerolinewidth\": 2}}}},                        {\"responsive\": true}                    ).then(function(){\n",
       "                            \n",
       "var gd = document.getElementById('c34c6e70-3780-48a2-b222-eddd13ff66c1');\n",
       "var x = new MutationObserver(function (mutations, observer) {{\n",
       "        var display = window.getComputedStyle(gd).display;\n",
       "        if (!display || display === 'none') {{\n",
       "            console.log([gd, 'removed!']);\n",
       "            Plotly.purge(gd);\n",
       "            observer.disconnect();\n",
       "        }}\n",
       "}});\n",
       "\n",
       "// Listen for the removal of the full notebook cells\n",
       "var notebookContainer = gd.closest('#notebook-container');\n",
       "if (notebookContainer) {{\n",
       "    x.observe(notebookContainer, {childList: true});\n",
       "}}\n",
       "\n",
       "// Listen for the clearing of the current output cell\n",
       "var outputEl = gd.closest('.output');\n",
       "if (outputEl) {{\n",
       "    x.observe(outputEl, {childList: true});\n",
       "}}\n",
       "\n",
       "                        })                };                });            </script>        </div>"
      ]
     },
     "metadata": {},
     "output_type": "display_data"
    }
   ],
   "source": [
    "# test out the function: test inputs come from example.py and README.md\n",
    "\n",
    "userinput = {\"band\":\"atlas_IR\",\n",
    "            \"time\":5000,\n",
    "            \"slit_width\":0.75,\n",
    "            \"Nreads\":16,\n",
    "            \"theta\":0.7,\n",
    "            \"nExp\":5,\n",
    "            \"lineF\":-99,\n",
    "            \"lineW\":-99,\n",
    "            \"FWHM\":200,\n",
    "            \"z\":0,\n",
    "            \"specFile\":\"./templates/Galaxy_Kmag_19_Haflux_5e-17_ebmv_0_z_2_highResSpec_obs_redshift.txt\", \n",
    "            \"mag\":20,\n",
    "            \"NormalizeUserSpec\":True,\n",
    "            \"InputInAngstroms\":True,\n",
    "            \"SN\":-99,\n",
    "            }\n",
    "\n",
    "etc_output = atlasIR_etc_serena(userinput)\n",
    "\n",
    "fig = go.Figure(data=[go.Table(header=dict(values=['Variable', 'Value', 'Units']),\n",
    "                 cells=dict(values=[\n",
    "                     etc_output[\"summary_struct\"]['quant'],\n",
    "                     etc_output[\"summary_struct\"]['value'],\n",
    "                     etc_output[\"summary_struct\"]['unit']]))\n",
    "                     ])\n",
    "\n",
    "fig.show()\n",
    "\n"
   ]
  },
  {
   "cell_type": "code",
   "execution_count": 37,
   "metadata": {},
   "outputs": [
    {
     "data": {
      "text/plain": [
       "array([[3.01500000e+03, 2.97578408e-28],\n",
       "       [3.01650000e+03, 2.98129214e-28],\n",
       "       [3.01800000e+03, 2.98680673e-28],\n",
       "       ...,\n",
       "       [2.99670000e+04, 1.16319974e-27],\n",
       "       [2.99685000e+04, 1.16326851e-27],\n",
       "       [2.99700000e+04, 1.16333726e-27]])"
      ]
     },
     "execution_count": 37,
     "metadata": {},
     "output_type": "execute_result"
    }
   ],
   "source": [
    "np.loadtxt(\"./templates/Galaxy_Kmag_19_Haflux_5e-17_ebmv_0_z_2_highResSpec_obs_redshift.txt\")"
   ]
  },
  {
   "cell_type": "code",
   "execution_count": null,
   "metadata": {},
   "outputs": [],
   "source": []
  }
 ],
 "metadata": {
  "kernelspec": {
   "display_name": "Python 3",
   "language": "python",
   "name": "python3"
  },
  "language_info": {
   "codemirror_mode": {
    "name": "ipython",
    "version": 3
   },
   "file_extension": ".py",
   "mimetype": "text/x-python",
   "name": "python",
   "nbconvert_exporter": "python",
   "pygments_lexer": "ipython3",
   "version": "3.7.6"
  }
 },
 "nbformat": 4,
 "nbformat_minor": 4
}
