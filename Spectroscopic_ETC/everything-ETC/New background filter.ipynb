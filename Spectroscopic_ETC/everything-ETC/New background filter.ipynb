{
 "cells": [
  {
   "cell_type": "markdown",
   "metadata": {},
   "source": [
    "## Background filter process:\n",
    "\n",
    "- replot only the background noise\n",
    "- extract numbers and find max\n",
    "    - find the average and then anything above that average? can be creative and think about this\n",
    "    - return the indices\n",
    "- create a new array that is the same length as the background full of 1, and then at every index switch to a 0\n",
    "- pass the signal through this array and see what that looks like\n",
    "- get matrix of new signal and get new SNR? (idk lets just go from there)"
   ]
  },
  {
   "cell_type": "code",
   "execution_count": null,
   "metadata": {},
   "outputs": [],
   "source": []
  }
 ],
 "metadata": {
  "kernelspec": {
   "display_name": "Python 3",
   "language": "python",
   "name": "python3"
  },
  "language_info": {
   "codemirror_mode": {
    "name": "ipython",
    "version": 3
   },
   "file_extension": ".py",
   "mimetype": "text/x-python",
   "name": "python",
   "nbconvert_exporter": "python",
   "pygments_lexer": "ipython3",
   "version": "3.7.6"
  }
 },
 "nbformat": 4,
 "nbformat_minor": 4
}
