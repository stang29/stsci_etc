{
 "cells": [
  {
   "cell_type": "code",
   "execution_count": 1,
   "metadata": {},
   "outputs": [
    {
     "data": {
      "text/html": [
       "        <script type=\"text/javascript\">\n",
       "        window.PlotlyConfig = {MathJaxConfig: 'local'};\n",
       "        if (window.MathJax) {MathJax.Hub.Config({SVG: {font: \"STIX-Web\"}});}\n",
       "        if (typeof require !== 'undefined') {\n",
       "        require.undef(\"plotly\");\n",
       "        requirejs.config({\n",
       "            paths: {\n",
       "                'plotly': ['https://cdn.plot.ly/plotly-latest.min']\n",
       "            }\n",
       "        });\n",
       "        require(['plotly'], function(Plotly) {\n",
       "            window._Plotly = Plotly;\n",
       "        });\n",
       "        }\n",
       "        </script>\n",
       "        "
      ]
     },
     "metadata": {},
     "output_type": "display_data"
    }
   ],
   "source": [
    "import os\n",
    "import numpy as np\n",
    "from plotly.offline import init_notebook_mode, iplot\n",
    "import plotly.graph_objects as go\n",
    "import pandas as pd\n",
    "import matplotlib.pyplot as plt\n",
    "from astropy.stats import sigma_clip, mad_std\n",
    "\n",
    "init_notebook_mode(connected=True)\n"
   ]
  },
  {
   "cell_type": "markdown",
   "metadata": {},
   "source": [
    "### Read the throughput files\n",
    "\n",
    "All tables are COLUMNS x ROW, i.e. (100 x 2) or .shape=>(100,2)\n",
    "- this is the standard format of those read by file\n",
    "- those written explicitely below may need to be transposed (i.e. lam1...lamN must be a column)"
   ]
  },
  {
   "cell_type": "code",
   "execution_count": 2,
   "metadata": {},
   "outputs": [],
   "source": [
    "#reading the files\n",
    "\n",
    "homedir = os.path.join(os.getcwd(),\"etc_data\")\n",
    "\n",
    "#Throughput\n",
    "#==============================================================================\n",
    "#0) Metals for telescope optics (and possibly other mirrors)\n",
    "# Al from National Bureau of Standards, certainly optimistic\n",
    "Al_reflectivity = np.loadtxt(os.path.join(homedir,\"general/coating_throughput\",\"Al_reflectance_NBS.txt\")) #lambda[nm], transmission\n",
    "Al_reflectivity[:,0] =  Al_reflectivity[:,0] * 1E-3 #nm -< [micron]\n",
    "#Al_reflectivity.shape #(25,2)\n",
    "\n",
    "#For Gemini, measured on site, average\n",
    "Silver_reflectivity = np.loadtxt(os.path.join(homedir,\"general/coating_throughput\",\"SilverCoating_ALL.txt\")) #lambda[nm], transmission\n",
    "Silver_reflectivity[:,0] =  Silver_reflectivity[:,0] * 1E-3 #nm -< [micron]\n",
    "#Silver_reflectivity.shape  # (221,2)\n",
    "\n",
    "#;  if telescope EQ 'GEMS f/33' then throughput*=0.7\n",
    "#  throughput*=0.9\n",
    "\n",
    "#1) Instruments\n",
    "#==============================================================================\n",
    "#A) ATLAS\n",
    "ATLAS_throughput = np.loadtxt(os.path.join(homedir,\"ATLAS/spec_throughput\",\"throughputSpec_atlas_IR.txt\")) #lambda[micron], transmission\n",
    "#ATLAS_throughput.shape # (171,2)\n",
    "\n",
    "#==============================================================================\n",
    "#B) SAMOS\n",
    "#SAM throughput\n",
    "SAM_wl = [0.4,1.0]\n",
    "SAM_th = [0.9,0.9]\n",
    "\n",
    "#SAMOS_throughput_OPTICS \n",
    "SAMOS_wl_th = np.array([400, 450, 500, 550, 600, 700, 770, 850, 950]) * 1E-3 #;nm->[micron]\n",
    "SAMOS_Optics_th  = [0.692, 0.770, 0.793, 0.793, 0.787, 0.792, 0.796, 0.794, 0.703]\n",
    "SAMOS_Optics_throughput = np.transpose(np.array([SAMOS_wl_th,SAMOS_Optics_th]))\n",
    "#SAMOS_Optics_throughput.shape (9,2) \n",
    "\n",
    "#SAMOS_throughput_SAMI\n",
    "SAMI_CCD_wl = np.array([400, 450, 500, 550, 600, 700, 770, 850, 950]) * 1E-3 #;nm->[micron]\n",
    "SAMI_CCD_QE     = [0.679, 0.875, 0.879, 0.836, 0.865, 0.885, 0.885, 0.834, 0.677]\n",
    "SAMOS_CCD_throughput = np.transpose(np.array([SAMI_CCD_wl,SAMI_CCD_QE]))\n",
    "#SAMOS_CCD_throughput.shape # (9,2)\n",
    "\n",
    "#SAMOS_throughput_DMD\n",
    "DMD_efficiency_wl = np.array([400, 450, 500, 550, 600, 700, 770, 850, 950]) * 1E-3 #;nm->[micron]\n",
    "DMD_efficiency_table   = [0.667, 0.680, 0.680, 0.680, 0.680, 0.680, 0.680, 0.680, 0.667]\n",
    "SAMOS_DMD_throughput = np.transpose(np.array([DMD_efficiency_wl,DMD_efficiency_table]))\n",
    "\n",
    "#SAMOS_throughput_VPH\n",
    "Blue_VPH_wl = np.array([400, 450, 500, 550, 600, 700, 770, 850, 950]) * 1E-3 #;nm->[micron]\n",
    "Blue_VPH_th      = [0.679, 0.875, 0.879, 0.836, 0.685, 0.   , 0.   , 0.   , 0.   ]\n",
    "SAMOS_LowBlueVPH_throughput = np.transpose(np.array([Blue_VPH_wl,Blue_VPH_th]))\n",
    "Red_VPH_wl = np.array([400, 450, 500, 550, 600, 700, 770, 850, 950]) * 1E-3 #;nm->[micron]\n",
    "Red_VPH_th       = [0.   , 0.   , 0.   , 0.   , 0.685, 0.885, 0.885, 0.834, 0.677]\n",
    "SAMOS_LowRedVPH_throughput = np.transpose(np.array([Red_VPH_wl,Red_VPH_th]))\n",
    "Ha_VPH_wl      = np.array([0.59, 0.60, 0.61, 0.62, 0.63, 0.64, 0.65, 0.66, 0.67, 0.68, 0.69, 0.70, 0.71]) * 1E3 #;nm\n",
    "Ha_VPH_th      = [0.73, 0.80, 0.87, 0.92, 0.95, 0.97, 0.97, 0.96, 0.93, 0.90, 0.84, 0.78, 0.71]\n",
    "SAMOS_HighRedVPH_throughput = np.transpose(np.array([Ha_VPH_wl,Ha_VPH_th]))\n",
    "\n",
    "#==============================================================================\n",
    "#C) SCORPIO\n",
    "#Gemini Telescope \n",
    "Gemini_throughput = pd.read_table(os.path.join(homedir,\"SCORPIO/SpecEff\",\"Gemini_3M.txt\"),skiprows=1,header=0) #lambda[micron], transmission\n",
    "df=Gemini_throughput.transpose() #trasposed has column headers as first row values: fix it... \n",
    "new_header = df.iloc[0] #grab the first row for the header\n",
    "df = df[1:] #take the data less the header row\n",
    "df.columns = new_header #set the header row as the df header. \n",
    "wl=np.asarray(df.index, dtype=np.float)*1E-3  #wavelenghts is the df.index in nm; convert to np.float and to micron\n",
    "Gemini_throughput = np.array([wl,df['GEMINI 3M']]) # #lambda[micron], transmission \n",
    "Gemini_throughput = np.transpose(Gemini_throughput)\n",
    "#Gemini_throughput.shape  # (22,2)\n",
    "#\n",
    "SCORPIO_throughput_ADC = np.loadtxt(os.path.join(homedir,\"SCORPIO/SpecEff\",\"octocam_ADC.txt\"),skiprows=1) #lambda[micron], transmission\n",
    "#SCORPIO_throughput_ADC = np.transpose(SCORPIO_throughput_ADC)\n",
    "SCORPIO_throughput_ADC[:,0] = SCORPIO_throughput_ADC[:,0] * 1E-3\n",
    "# SCORPIO_throughput_ADC.shape # (2,22)\n",
    "#\n",
    "SCORPIO_throughput_g = np.loadtxt(os.path.join(homedir,\"SCORPIO/SpecEff\",\"octocam_SDSS_g.txt\"),skiprows=1) #lambda[micron], transmission\n",
    "#SCORPIO_throughput_g = np.transpose(SCORPIO_throughput_g)\n",
    "SCORPIO_throughput_r = np.loadtxt(os.path.join(homedir,\"SCORPIO/SpecEff\",\"octocam_SDSS_r.txt\"),skiprows=1) #lambda[micron], transmission\n",
    "#SCORPIO_throughput_r = np.transpose(SCORPIO_throughput_r)\n",
    "SCORPIO_throughput_i = np.loadtxt(os.path.join(homedir,\"SCORPIO/SpecEff\",\"octocam_SDSS_i.txt\"),skiprows=1) #lambda[micron], transmission\n",
    "#SCORPIO_throughput_i = np.transpose(SCORPIO_throughput_i)\n",
    "SCORPIO_throughput_z = np.loadtxt(os.path.join(homedir,\"SCORPIO/SpecEff\",\"octocam_SDSS_z.txt\"),skiprows=1) #lambda[micron], transmission\n",
    "#SCORPIO_throughput_z = np.transpose(SCORPIO_throughput_z)\n",
    "SCORPIO_throughput_Y = np.loadtxt(os.path.join(homedir,\"SCORPIO/SpecEff\",\"octocam_Y.txt\"),skiprows=1) #lambda[micron], transmission\n",
    "#SCORPIO_throughput_Y = np.transpose(SCORPIO_throughput_Y)\n",
    "SCORPIO_throughput_J = np.loadtxt(os.path.join(homedir,\"SCORPIO/SpecEff\",\"octocam_J.txt\"),skiprows=1) #lambda[micron], transmission\n",
    "#SCORPIO_throughput_J = np.transpose(SCORPIO_throughput_J)\n",
    "SCORPIO_throughput_H = np.loadtxt(os.path.join(homedir,\"SCORPIO/SpecEff\",\"octocam_H.txt\"),skiprows=1) #lambda[micron], transmission\n",
    "#SCORPIO_throughput_H = np.transpose(SCORPIO_throughput_H)\n",
    "SCORPIO_throughput_K = np.loadtxt(os.path.join(homedir,\"SCORPIO/SpecEff\",\"octocam_K.txt\"),skiprows=1) #lambda[micron], transmission\n",
    "#SCORPIO_throughput_K = np.transpose(SCORPIO_throughput_K)\n",
    "# SCORPIO_throughput_J.shape (2,7)\n",
    "\n",
    "#==============================================================================\n",
    "#Atmospheric Transmission\n",
    "#==============================================================================\n",
    "AtmosphericExtinction_IR = np.loadtxt(os.path.join(homedir,\"general/AtmosphericExtinction\",\"Extinction_IR.txt\"),skiprows=1) #lambda[micron], transmission\n",
    "#AtmosphericExtinction_IR = np.transpose(AtmosphericExtinction_IR) #[micron, throughput]\n",
    "#AtmosphericExtinction_IR.shape # (2,16198)\n",
    "AtmosphericExtinction_IR[:,0] = AtmosphericExtinction_IR[:,0] *1E-4 # A => [micron]\n",
    "AtmosphericExtinction_VIS = np.loadtxt(os.path.join(homedir,\"general/AtmosphericExtinction\",\"Extinction_VIS.txt\"),skiprows=1) #lambda[micron], transmission\n",
    "#AtmosphericExtinction_VIS = np.transpose(AtmosphericExtinction_VIS) #[micron, throughput]\n",
    "#AtmosphericExtinction_VIS.shape # (2,7199)\n",
    "AtmosphericExtinction_VIS[:,0] = AtmosphericExtinction_VIS[:,0] *1E-4 # A => [micron]\n",
    "\n",
    "#==============================================================================\n",
    "#Bandpasses\n",
    "#==============================================================================\n",
    "#A) ATLAS\n",
    "spec_bandpass_ATLAS = np.loadtxt(os.path.join(homedir,\"ATLAS/bandpass\",\"bandpass_atlas_IR.txt\"))  #lambda[micron], transmission either 0 or 1\n",
    "#spec_bandpass_ATLAS = np.transpose(spec_bandpass_ATLAS)\n",
    "#SAMOS_bandpass_HighRed.shape # (4,2)\n",
    "\n",
    "#B) SAMOS\n",
    "#a1 = (np.array([x for x in range(2001)])+4000)*1E-4  # [micron]\n",
    "#a2 = np.array([1]*2001)\n",
    "#spec_bandpass_LowBlue=np.transpose(np.array([ a1, a2 ]))\n",
    "#a1 = (np.array([x for x in range(3501)])+6000)*1E-4  # [micron]\n",
    "#a2 = np.array([1]*3501)\n",
    "#spec_bandpass_LowRed=np.transpose(np.array([ a1, a2 ]))\n",
    "#a1 = (np.array([x for x in range(636)])+4504)*1E-4  # [micron]\n",
    "#a2 = np.array([1]*636)\n",
    "#spec_bandpass_HighBlue=np.transpose(np.array([ a1, a2 ]))\n",
    "#a1 = (np.array([x for x in range(1013)])+5988)*1E-4  # [micron]\n",
    "#a2 = np.array([1]*1013)\n",
    "#spec_bandpass_HighRed=np.transpose(np.array([ a1, a2 ]))\n",
    "\n",
    "SAMOS_bandpass_LowBlue = np.loadtxt(os.path.join(homedir,\"SAMOS/bandpass\",\"samos_Blue.txt\")) #lambda[micron], transmission\n",
    "#SAMOS_bandpass_LowBlue = np.transpose(SAMOS_bandpass_LowBlue)\n",
    "SAMOS_bandpass_LowRed = np.loadtxt(os.path.join(homedir,\"SAMOS/bandpass\",\"samos_Red.txt\")) #lambda[micron], transmission\n",
    "#SAMOS_bandpass_LowRed = np.transpose(SAMOS_bandpass_LowRed)\n",
    "SAMOS_bandpass_HighBlue = np.loadtxt(os.path.join(homedir,\"SAMOS/bandpass\",\"samos_Hb.txt\")) #lambda[micron], transmission\n",
    "#SAMOS_bandpass_HighBlue = np.transpose(SAMOS_bandpass_HighBlue)\n",
    "SAMOS_bandpass_HighRed = np.loadtxt(os.path.join(homedir,\"SAMOS/bandpass\",\"samos_Ha.txt\")) #lambda[micron], transmission\n",
    "#SAMOS_bandpass_HighRed = np.transpose(SAMOS_bandpass_HighRed)\n",
    "# SAMOS_bandpass_HighRed.shape # (2,4)\n",
    "\n",
    "#C) SCORPIO\n",
    "SCORPIO_bandpass_g = np.loadtxt(os.path.join(homedir,\"SCORPIO/bandpass\",\"octocam_SDSS_g.txt\")) #lambda[micron], transmission\n",
    "#SCORPIO_bandpass_g = np.transpose(SCORPIO_bandpass_g)\n",
    "SCORPIO_bandpass_r = np.loadtxt(os.path.join(homedir,\"SCORPIO/bandpass\",\"octocam_SDSS_r.txt\")) #lambda[micron], transmission\n",
    "#SCORPIO_bandpass_r = np.transpose(SCORPIO_bandpass_r)\n",
    "SCORPIO_bandpass_i = np.loadtxt(os.path.join(homedir,\"SCORPIO/bandpass\",\"octocam_SDSS_i.txt\")) #lambda[micron], transmission\n",
    "#SCORPIO_bandpass_i = np.transpose(SCORPIO_bandpass_i)\n",
    "SCORPIO_bandpass_z = np.loadtxt(os.path.join(homedir,\"SCORPIO/bandpass\",\"octocam_SDSS_z.txt\")) #lambda[micron], transmission\n",
    "#SCORPIO_bandpass_z = np.transpose(SCORPIO_bandpass_z)\n",
    "SCORPIO_bandpass_Y = np.loadtxt(os.path.join(homedir,\"SCORPIO/bandpass\",\"octocam_Y.txt\")) #lambda[micron], transmission\n",
    "#SCORPIO_bandpass_Y = np.transpose(SCORPIO_bandpass_Y)\n",
    "SCORPIO_bandpass_J = np.loadtxt(os.path.join(homedir,\"SCORPIO/bandpass\",\"octocam_J.txt\")) #lambda[micron], transmission\n",
    "#SCORPIO_bandpass_J = np.transpose(SCORPIO_bandpass_J)\n",
    "SCORPIO_bandpass_H = np.loadtxt(os.path.join(homedir,\"SCORPIO/bandpass\",\"octocam_H.txt\")) #lambda[micron], transmission\n",
    "#SCORPIO_bandpass_H = np.transpose(SCORPIO_bandpass_H)\n",
    "SCORPIO_bandpass_K = np.loadtxt(os.path.join(homedir,\"SCORPIO/bandpass\",\"octocam_K.txt\")) #lambda[micron], transmission\n",
    "#SCORPIO_bandpass_K = np.transpose(SCORPIO_bandpass_K)\n",
    "#SCORPIO_bandpass_K.shape   # (2, 2)\n",
    "\n",
    "\n",
    "\n",
    "\n",
    "#Background\n",
    "#==============================================================================\n",
    "#A) ATLAS\n",
    "background = np.loadtxt(os.path.join(homedir,\"general/L2_background\",\"backgrounds_mjy_per_str_ra_53.1_dec_-27.8.txt\"))\n",
    "# lam_microns low_background medium_background high_background\n",
    "L2_bkg = np.transpose(np.array([background[:,0] , background[:,2]]))  #micron, MJy/sr\n",
    "L2_bkg.shape\n",
    "#B) SAMOS \n",
    "loghc = -15.701922659\n",
    "SAMOS_AtmosphericEmission_VIS = np.loadtxt(os.path.join(homedir,\"general/AtmosphericEmission/Paranal\",\"UVES_Fluxed_SkyALL.txt\")) #lambda [A]; [erg/sec/cm2/A/arcsec2]\n",
    "SAMOS_AtmosphericEmission_VIS[:,0] =  SAMOS_AtmosphericEmission_VIS[:,0] * 1E-4 #A -> [micron]\n",
    "SAMOS_AtmosphericEmission_VIS[:,1] =  SAMOS_AtmosphericEmission_VIS[:,1] * (10.**(-loghc) * SAMOS_AtmosphericEmission_VIS[:,0] * 1E-4) * 1E4 * 1E-1# erg/sec/cm2/A/arcsec2 => [ph/sec/m2/nm/arcsec2]\n",
    "#C) SCORPIO\n",
    "\n",
    "loghc = -15.701922659\n",
    "SCORPIO_AtmosphericEmission_VIS = np.loadtxt(os.path.join(homedir,\"general/AtmosphericEmission/Paranal\",\"UVES_Fluxed_SkyALL.txt\")) #lambda [A]; [erg/sec/cm2/A/arcsec2]\n",
    "SCORPIO_AtmosphericEmission_VIS[:,0] = SCORPIO_AtmosphericEmission_VIS[:,0] * 1E-4 #A -> [micron]\n",
    "SCORPIO_AtmosphericEmission_VIS[:,1] = SCORPIO_AtmosphericEmission_VIS[:,1] * (10.**(-loghc) * SCORPIO_AtmosphericEmission_VIS[:,0] * 1E-4) * 1E4 * 1E-1# erg/sec/cm2/A/arcsec2 => [ph/sec/m2/nm/arcsec2]\n",
    "\n",
    "SCORPIO_AtmosphericEmission_IR = np.loadtxt(os.path.join(homedir,\"general/AtmosphericEmission/CerroPachon\",\"cp_skybg_zm_43_15_ph.dat.txt\")) #lambda[nm], [ph/sec/arcsec^2/nm/m^2]\n",
    "SCORPIO_AtmosphericEmission_IR[:,0] =  SCORPIO_AtmosphericEmission_IR[:,0] * 1E-3 #nm -> [micron]\n",
    "\n",
    "\n",
    "\n",
    "#Source\n",
    "#A) ATLAS\n",
    "userspec = np.loadtxt(os.path.join(homedir,\"templates\",\"Galaxy_Kmag_19_Haflux_5e-17_ebmv_0_z_2_highResSpec_obs_redshift.txt\"))\n",
    "            # source spectrum \"userspec\" is in [erg/s/cm2/Hz]\n",
    "            # it is organized by ROWs: lam0... lamN  -> userspec[:,0]\n",
    "            #                          flx0... flxN  -> userspec[:,1]\n"
   ]
  },
  {
   "cell_type": "code",
   "execution_count": 3,
   "metadata": {},
   "outputs": [
    {
     "data": {
      "text/plain": [
       "array([[9.80200e-01, 9.58451e-01],\n",
       "       [9.80300e-01, 9.98516e-01],\n",
       "       [9.80400e-01, 9.80116e-01],\n",
       "       ...,\n",
       "       [2.59970e+00, 5.57389e-02],\n",
       "       [2.59980e+00, 8.09626e-04],\n",
       "       [2.59990e+00, 7.34156e-03]])"
      ]
     },
     "execution_count": 3,
     "metadata": {},
     "output_type": "execute_result"
    }
   ],
   "source": [
    "spec_bandpass_ATLAS.shape\n",
    "SAMOS_bandpass_HighRed.shape\n",
    "L2_bkg.shape\n",
    "AtmosphericExtinction_IR"
   ]
  },
  {
   "cell_type": "code",
   "execution_count": 13,
   "metadata": {
    "scrolled": true
   },
   "outputs": [],
   "source": [
    "#telescope_file = open(os.path.join(homedir,\"telescope\",\"telescope_data_atlas_IR.txt\"),'r')\n",
    "#telescope = telescope_file.read()\n",
    "#maybe should put in dictionary first\n",
    "def set_telescope_instrument(userinput):\n",
    "    if userinput[\"telescope\"] == 'SOAR':\n",
    "        telescope = {\n",
    "            \"AT\":((400/2.)**2 * np.pi),\t# Area of the telescope ((410/2.)**2 * np.pi) [cm2]\n",
    "            \"Nmirror\":3,\t\t# Number of SOAR mirrors, silver coated \n",
    "            \"Mref\":1.0\t\t# Mirror reflectance (reflectance already included in spectroscopic throughput)\n",
    "            }\n",
    "    if userinput[\"telescope\"] == 'Gemini':\n",
    "        telescope = {\n",
    "            \"AT\":((800/2.)**2 * np.pi),\t# Area of the telescope ((800/2.)**2 * np.pi) [cm2]\n",
    "            \"Nmirror\":2,\t\t# Number of Gemini mirrors, silver coated \n",
    "            \"Mref\":1.0\t\t# Mirror reflectance (reflectance already included in spectroscopic throughput)\n",
    "            }\n",
    "    if userinput[\"telescope\"] == 'ATLAS_PROBE':    \n",
    "        telescope = {\n",
    "            ## linearity limits of detector\n",
    "#            \"one_per_limit\": 55900,\t# one percent non-linearity limit [e-]\n",
    "#            \"five_per_limit\":79550,\t# five percent non-linearity limit [e-]\n",
    "#            \"sat_limit\":92450,\t# saturation limit [e-]\n",
    "            ## other instrument parameters \n",
    "            \"AT\":17671,\t# Area of the telescope ((150/2.)**2 * np.pi) [cm2]\n",
    "#            \"slit_W\":0.75,\t# slit width to measure R_theta [arcsec] > size of one micromirror\n",
    "#            \"pix_scale\":0.39,\t# spatial pixel scale [arcsec/px]\n",
    "#            \"tot_Npix\":4096,\t# Number of pixels in dispersion direction on the detector\n",
    "#            \"det_RN\":5,\t\t# Detector readnoise (correlated double sampling) [e-/px]\n",
    "            \"Nmirror\":2,\t\t# Number of mirrors \n",
    "             ## Other stats\n",
    "#            \"disp\":10.0,\t# dispersion [angstrom/px]\n",
    "#            \"lambda\":2.5,\t\t# central wavelength [microns]\n",
    "#            \"dark\":0.005,\t# dark current [e-/s]\n",
    "            \"Mref\":1.0\t\t# Mirror reflectance (reflectance already included in spectroscopic throughput)\n",
    "            }\n",
    "\n",
    "\n",
    "#    import json\n",
    "#    with open(os.path.join(homedir,\"spec_throughput\",\"test.json\"), 'w') as f:\n",
    "#        json.dump(telescope, f, indent=4)\n",
    "\n",
    "\n",
    "    if userinput[\"instrument\"] == 'ATLAS':    \n",
    "        instrument = {\n",
    "            ## linearity limits of detector\n",
    "            \"one_per_limit\": 55900,\t# one percent non-linearity limit [e-]\n",
    "            \"five_per_limit\":79550,\t# five percent non-linearity limit [e-]\n",
    "            \"sat_limit\":92450,\t# saturation limit [e-]\n",
    "            ## other instrument parameters \n",
    "            \"slit_W\":0.75,\t# slit width to measure R_theta [arcsec] > size of one micromirror\n",
    "            \"pix_scale\":0.39,\t# spatial pixel scale [arcsec/px]\n",
    "            \"tot_Npix\":4096,\t# Number of pixels in dispersion direction on the detector\n",
    "            \"det_RN\":5,\t\t# Detector readnoise (correlated double sampling) [e-/px]\n",
    "            ## Detector\n",
    "            \"Detector\": \"IR_SCA\", # either IR_SCA or CCD\n",
    "            ## Other stats\n",
    "            \"disp\":10.0,\t# dispersion [angstrom/px]\n",
    "            \"lambda\":2.5,\t\t# central wavelength [microns]\n",
    "            \"dark\":0.005,\t# dark current [e-/s]\n",
    "            \"intrinsic_res\": 1000. * 0.75\t# R*nstrument[\"slit_W\"] is a constant \n",
    "            }\n",
    "    \n",
    "\n",
    "    if userinput[\"instrument\"] == 'SAMOS':\n",
    "        instrument = {\n",
    "            \"sat_limit\":92450,\t# saturation limit [e-]\n",
    "            ## other instrument parameters \n",
    "            \"slit_W\":0.1667*2,\t# SAMOS DMD scale is 0.1667\". Nominal slit width is 2 mirrors\n",
    "            \"pix_scale\": 0.1667*1.125,\t# spatial pixel scale [arcsec/px] - Sample 2 mirrors with 2.25 CCD pixels\n",
    "            \"tot_Npix\":4096-1215,\t# Number of pixels in dispersion direction on the detector (FoV=1215pix)\n",
    "            ## detector parameters\n",
    "            \"det_RN\":5,\t\t# Detector readnoise (correlated double sampling) [e-/px]\n",
    "            \"dark\":0.005,\t# dark current [e-/s]\n",
    "             ## Channel parameters \n",
    "            \"disp_LowBlue\": (9500.-6000.)/2874.0,\t# dispersion [angstrom/px]\n",
    "            \"disp_LowRed\":  (6000.-4000.)/2875.0,\t# dispersion [angstrom/px]\n",
    "            \"disp_HighBlue\":(5139.-4504.)/2876.0,\t# dispersion [angstrom/px]\n",
    "            \"disp_HighRed\": (7000.-5988.)/2876.0,\t# dispersion [angstrom/px]\n",
    "            \"lambda_LowBlue\": 0.4965,\t\t# central wavelength [microns]\n",
    "            \"lambda_LowRed\":  0.7712,\t\t# central wavelength [microns]\n",
    "            \"lambda_HighBlue\":0.4803,\t\t# central wavelength [microns]\n",
    "            \"lambda_HighRed\": 0.6472,\t\t# central wavelength [microns]\n",
    "            \"intrinsic_res_LowBlue\": 3137. * 0.1667*2, # instrument[\"slit_W\"] \n",
    "            \"intrinsic_res_LowRed\" : 2791. * 0.1667*2, # instrument[\"slit_W\"] \n",
    "            \"intrinsic_res_HighBlue\": 9601. * 0.1667*2, # instrument[\"slit_W\"] \n",
    "            \"intrinsic_res_HighRed\" : 8111. * 0.1667*2 # instrument[\"slit_W\"] \n",
    "            }\n",
    "        \n",
    "    if userinput[\"instrument\"] == 'SCORPIO':\n",
    "        instrument = {\n",
    "            \"sat_limit_VIS\":300000,\t# saturation limit [e-]\n",
    "            \"one_per_limit\": 55900,\t# one percent non-linearity limit [e-]\n",
    "            \"five_per_limit\":79550,\t# five percent non-linearity limit [e-]\n",
    "            \"sat_limit_IR\":92450,\t# saturation limit [e-]\n",
    "            \"sat_limit\":92450,\t# same as IR, will be modified by the routine if we are in VIS channel\n",
    "            ## other instrument parameters \n",
    "            \"slit_W\":0.18*3,\t# SCORPIO scale is 0.18\". Nominal slit width is 3 mirrors = 0.54\"\n",
    "            \"pix_scale\": 0.18,\t# spatial pixel scale [arcsec/px] - Sample 2 mirrors with 2.25 CCD pixels\n",
    "            \"tot_Npix_VIS\":2048,\t# Number of pixels in dispersion direction on the detector\n",
    "            \"tot_Npix_IR\":4096,\t# Number of pixels in dispersion direction on the detector\n",
    "            ## detector parameters\n",
    "            ## IR Readnoise params for Rauscher formula##\n",
    "            ## Detector\n",
    "            \"det_RN\":16,\t\t# Detector readnoise (correlated double sampling) [e-/px]\n",
    "            \"dark\":0.005,\t# dark current [e-/s]\n",
    "             ## Channel parameters \n",
    "            \"disp_g\": 0.375818,\t# dispersion [angstrom/px]\n",
    "            \"disp_r\": 0.388345,\t# dispersion [angstrom/px]\n",
    "            \"disp_i\": 0.425926,\t# dispersion [angstrom/px]\n",
    "            \"disp_z\": 0.506101,\t# dispersion [angstrom/px]\n",
    "            \"disp_Y\": 0.847700,\t# dispersion [angstrom/px]\n",
    "            \"disp_J\": 1.03271,\t# dispersion [angstrom/px]\n",
    "            \"disp_H\": 1.34252,\t# dispersion [angstrom/px]\n",
    "            \"disp_K\": 1.77502,\t# dispersion [angstrom/px]\n",
    "            \"lambda_g\": 0.4600,\t\t# central wavelength [microns]\n",
    "            \"lambda_r\": 0.6115,\t\t# central wavelength [microns]\n",
    "            \"lambda_i\": 0.7400,\t\t# central wavelength [microns]\n",
    "            \"lambda_z\": 0.8750,\t\t# central wavelength [microns]\n",
    "            \"lambda_Y\": 1.0400,\t\t# central wavelength [microns]\n",
    "            \"lambda_J\": 1.2500,\t\t# central wavelength [microns]\n",
    "            \"lambda_H\": 1.6300,\t\t# central wavelength [microns]\n",
    "            \"lambda_K\": 2.1750,\t\t# central wavelength [microns]\n",
    "            \"intrinsic_res_g\": 4000., # instrument[\"slit_W\"] \n",
    "            \"intrinsic_res_r\": 4608., # instrument[\"slit_W\"] \n",
    "            \"intrinsic_res_i\": 4503., # instrument[\"slit_W\"] \n",
    "            \"intrinsic_res_z\": 4511., # instrument[\"slit_W\"] \n",
    "            \"intrinsic_res_Y\": 4055., # instrument[\"slit_W\"] \n",
    "            \"intrinsic_res_J\": 4006., # instrument[\"slit_W\"] \n",
    "            \"intrinsic_res_H\": 4019., # instrument[\"slit_W\"] \n",
    "            \"intrinsic_res_K\": 4027 # instrument[\"slit_W\"] \n",
    "            }\n",
    "    output = {\"telescope\":telescope, \"instrument\":instrument}\n",
    "    return(output)\n",
    "\n",
    "\n",
    "#ret = set_telescope_instrument(userinput)\n",
    "#print(ret['telescope']['Nmirror'],ret['instrument']['lambda_J'])"
   ]
  },
  {
   "cell_type": "code",
   "execution_count": 14,
   "metadata": {},
   "outputs": [],
   "source": [
    "#double check\n",
    "#purpose is to mimic what output would look like based on the inherent flaws of optics of telescope\n",
    "#basic process: convert everything to velocity, make a gaussian kernal and convolve it with the rest of the function, \n",
    "#               then convert back to wavelength\n",
    "\n",
    "def degrade_resolution(wavelengths, flux, center_wave, spec_res, disp, px_tot):    \n",
    "#    print('in degrade resolution')\n",
    "#    print(wavelengths, flux, center_wave, spec_res, disp, px_tot)\n",
    "#[1.5  1.76] [1. 1.] \n",
    "#1.63 \n",
    "#0.40471199999999996 1.34252 4096\n",
    "    #allow more px for K band  \n",
    "    Npix_spec=px_tot * 3./2.  # if px_tot=4096, this is 6144 pixels\n",
    "\n",
    "    #the log of speed of light in cm/s\n",
    "    logc=np.log10(29979245800.)  \n",
    "\n",
    "    # make velocity array from -300,000 to 300,000 Km/s\n",
    "    vel=(np.arange(600001)-300000) # big array of integers....\n",
    "    \n",
    "    # the array of wavelengths coming in input is converted in velocity difference vs. central wavelength, in km/s\n",
    "    in_vel=(wavelengths/center_wave-1)*10.**(1*logc-5) \n",
    "\n",
    "    # we can get non-physical velocities: kill them and their relative input flux array\n",
    "    #create vectors in velocity space, picking out realistic values (keeping good indices)\n",
    "    in_vel_short = in_vel[ np.where( (in_vel > vel[0]) & (in_vel < vel[600000]) )[0] ]\n",
    "    in_flux_short = flux[ np.where( (in_vel > vel[0]) & (in_vel < vel[600000]) )[0] ] \n",
    "        \n",
    "    # this new arrays of velocities from the center_wave, and relative fluxes, are not uniformly sampled...\n",
    "    # interpolate to equally spaced km/s, i.e. 600000 points\n",
    "    interp_flux = np.interp(vel, in_vel_short, in_flux_short)\n",
    "#    print(interp_flux,vel, in_vel_short, in_flux_short) \n",
    "#[1. 1. 1. ... 1. 1. 1.] [-300000 -299999 -299998 ...  299998  299999  300000] [-23909.82793865  23909.82793865] [1. 1.]\n",
    "    \n",
    "    # sigma  = the resolution of the spectrograph in km/s, expressed as sigma of the Gaussian response.\n",
    "    # it is Delta_lam/lam = Delta_v/c = FWHM/c = 2SQRT(2log2)/c, since\n",
    "    # FWHM = 2*SQRT(2*log2) = 2.35\n",
    "    sigma = (10.**(logc-5)/spec_res)/(2*np.sqrt(2*np.log(2))) \n",
    "    #for R=1000 it is sigma = 127.31013507066515 [km/s]; instead of 300km/s, that would be the FWHM\n",
    "    # make a smaller velocity array with\n",
    "    # the same \"resolution\" as the steps in\n",
    "    # vel, above\n",
    "    n = round(8.*sigma) # = 1012kms    \n",
    "    # make sure that n is even...\n",
    "    if (n % 2 == 0):\n",
    "        n = n + 1\n",
    "    #create an array -4*sigma to +4*sigma in km/s, e.g. from -509 to +508   \n",
    "    vel_kernel = np.arange(n) - np.floor(n/2.0)\n",
    "\n",
    "    # create a normalized gaussian (unit area) with width=sigma\n",
    "    gauss_kernel = (1/(np.sqrt(2*np.pi)*sigma)) * np.exp(-0.5*vel_kernel**2.0/sigma**2.0)\n",
    "        # shape the kernel\n",
    "        # look up the equation for gaussian kernal and figure out the significance of sigma used here\n",
    "        # like how does resolution shape/define the kernel\n",
    "#    print(sigma,vel_kernel,gauss_kernel)\n",
    "#314569.7065336959 \n",
    "#[-1258279. -1258278. -1258277. ...  1258277.  1258278.  1258279.] \n",
    "#[4.25438073e-10 4.25443483e-10 4.25448893e-10 ... 4.25448893e-10 4.25443483e-10 4.25438073e-10]    \n",
    "    # convolve flux with gaussian kernel\n",
    "    convol_flux = np.convolve(interp_flux, gauss_kernel , mode=\"same\") \n",
    "    # convert old moving kernel\n",
    "    convol_wave = center_wave * (vel*10.**(-1*logc+5.0) + 1.0 ) # [micron]\n",
    "    # convert back to wavelength \n",
    "\n",
    "    # and the real pixel scale \n",
    "    real_wave = np.arange(Npix_spec) * disp * 10.**(-4.)     #6000pix * 10A/pix * 1E-4mic/A  => [micron]\n",
    "    real_wave = real_wave - real_wave[int(np.round(Npix_spec/2.))]   \n",
    "    real_wave = real_wave + center_wave # [pixel]    print(real_wave)\n",
    "    # wavelength to px\n",
    "\n",
    "    # interpolate onto the pixel scale of the detector\n",
    "    out_wave = real_wave\n",
    "#    print('out_wave',out_wave)\n",
    "    out_flux = np.interp(real_wave , convol_wave, convol_flux)\n",
    "        # interpolating to number of px (b/c working from km/px or lam/px)\n",
    "    \n",
    "    out = {\"lam\": out_wave, #[micron]\n",
    "          \"flux\": out_flux} #same unit in input e.g. erg/cm2/s/micron\n",
    "    \n",
    "    return(out)\n",
    "    "
   ]
  },
  {
   "cell_type": "code",
   "execution_count": 83,
   "metadata": {},
   "outputs": [],
   "source": [
    "#functions \n",
    "\n",
    "def atlasIR_etc_serena(userinput):\n",
    "    # General Constants \n",
    "    logc = np.log10(29979245800) # speed of light in cm/2\n",
    "    hplank = np.log10(6.626068)-27 # Plank constant in erg*s\n",
    "    loghc = logc + hplank # h*c in log(erg * cm)\n",
    "    f_nu_AB = 48.59\n",
    "\n",
    "    if userinput[\"nExp\"] > 1:\n",
    "        dither = 2.0\n",
    "    else:\n",
    "        dither = 1.0  \n",
    "##---------------------------------------------------------------------------------------------------------       \n",
    "##---------------------------------------------------------------------------------------------------------          \n",
    "    ##-----throughput calculation-------##\n",
    "##---------------------------------------------------------------------------------------------------------       \n",
    "    #throughput of instrument + telescope with mirrors taken into account\n",
    "    #throughput file is the mirror reflectivity [Mref] ^ nr. of mirrors [Nmirror]\n",
    "    #in the formula below Mref=1;  \n",
    "\n",
    " ##---------------------------------------------------------------------------------------------------------       \n",
    "    if userinput[\"telescope\"] == 'ATLAS_PROBE':\n",
    "        throughput = ATLAS_throughput\n",
    "        throughput[:,1] = throughput[:,1] * telescope[\"Mref\"] ** telescope[\"Nmirror\"]   #telescope throughput\n",
    "    # \"real FWHM\" > R = lam / dlam\n",
    "    # telescope[\"intrinsic_res\"] = 1000 * instrument[\"slit_W\"] :\n",
    "    #             this seems a strange way of setting R=1000. \n",
    "        resolving_power = instrument[\"intrinsic_res\"] / userinput[\"slit_width\"]    # R=1000\n",
    "        ins_lambda = instrument[\"lambda\"]\n",
    "        ins_disp = instrument[\"disp\"]\n",
    "        tot_Npix = instrument[\"tot_Npix\"]\n",
    "        spec_bandpass = spec_bandpass_ATLAS\n",
    "        #print('spec_bandpass',spec_bandpass.shape)\n",
    "    #Sky background conversion to => ph/m2/s/nm/arcsec2\n",
    "        bkg = L2_bkg\n",
    "        #bkg = L2_bkg[:,1]     # MJy/sr\n",
    "        L2_bkg[:,1] = L2_bkg[:,1] / 206265**2 # from MJy/sr to MJy/arcsec2\n",
    "        L2_bkg[:,1] = L2_bkg[:,1] * 1e6 # from MJy/arcsec2 to Jy/arcsec2\n",
    "        L2_bkg[:,1] = L2_bkg[:,1] * 1e-26 # from Jy/arcsec2 to W/m2/s/Hz/arcsec2\n",
    "        L2_bkg[:,1] = L2_bkg[:,1] * 1e7 # from W/m2/s/Hz/arcsec2 to erg/m2/s/Hz/arcsec2\n",
    "        L2_bkg[:,1] = L2_bkg[:,1] / (10**loghc / (L2_bkg[:,0]*1e-4)) # from erg/m2/s/Hz/arcsec2 to ph/m2/s/Hz/arcsec2\n",
    "                            # background[:,0] -> wavelength in micron\n",
    "                            # background[:,0]*1e-4 -> wavelength in cm\n",
    "                            # (10**loghc / (background[:,0]*1e-4)) = hc/lambda  = h*freq = energy of a photon\n",
    "        L2_bkg[:,1] = L2_bkg[:,1] * 10**logc / (L2_bkg[:,0]*1e-4)**2 # from ph/m2/s/Hz/arcsec2 to ph/m2/s/cm/arcsec2\n",
    "                            # f_nu = c/lambda^2 f_lam \n",
    "        L2_bkg[:,1] = L2_bkg[:,1] * 1e-7 # from ph/m2/s/cm/arcsec2 to ph/m2/s/nm/arcsec2\n",
    "        bkg[:,1] = L2_bkg[:,1] # [ph/m2/s/nm/arcsec2]\n",
    "##---------------------------------------------------------------------------------------------------------       \n",
    "    if userinput[\"telescope\"] == \"SOAR\":\n",
    "        th_tel_lambda = Al_reflectivity[:,0]   #wl in [micron], sparsely sampled\n",
    "        th_tel_eff = Al_reflectivity[:,1] ** telescope[\"Nmirror\"]    # 3 reflections, Al mirrors\n",
    "        #\n",
    "        if userinput[\"instrument\"] == \"SAMOS\":\n",
    "            th_ins_lambda = np.array(SAMOS_wl_th)  # nm -> [micron]\n",
    "            print(SAMOS_Optics_throughput.shape,SAMOS_DMD_throughput.shape,SAMOS_CCD_throughput.shape,AtmosphericExtinction_VIS.shape)\n",
    "            th_ins_eff = SAMOS_Optics_throughput[:,1] * SAMOS_DMD_throughput[:,1] * SAMOS_CCD_throughput[:,1] \n",
    "            #\n",
    "            #ground based, visible instrument:\n",
    "            bkg = SAMOS_AtmosphericEmission_VIS # [ph/sec/m2/nm/arcsec2]\n",
    "            #\n",
    "            tot_Npix = instrument[\"tot_Npix\"]\n",
    "            if userinput[\"band\"] == \"LowRed\":\n",
    "                VPH_wl = SAMOS_LowRedVPH_throughput[:,0]\n",
    "                VPH_th = SAMOS_LowRedVPH_throughput[:,1]\n",
    "                resolving_power = instrument[\"intrinsic_res_LowRed\"] / userinput[\"slit_width\"]    # R=1000\n",
    "                ins_lambda = instrument[\"lambda_LowRed\"]\n",
    "                ins_disp = instrument[\"disp_LowRed\"]\n",
    "                spec_bandpass = SAMOS_bandpass_LowRed\n",
    "            elif userinput[\"band\"] == \"LowBlue\":\n",
    "                VPH_wl = SAMOS_LowBLUEVPH_throughput[:,0]\n",
    "                VPH_th = SAMOS_LowBlueVPH_throughput[:,1]\n",
    "                resolving_power = instrument[\"intrinsic_res_LowBlue\"] / userinput[\"slit_width\"]    # R=1000\n",
    "                ins_lambda = instrument[\"lambda_LowBlue\"]\n",
    "                ins_disp = instrument[\"disp_LowBlue\"]\n",
    "                spec_bandpass = SAMOS_bandpass_LowBlue\n",
    "            elif userinput[\"band\"] == \"HighRed\":\n",
    "                VPH_wl = SAMOS_HIGHRedVPH_throughput[:,0]\n",
    "                VPH_th = SAMOS_HighRedVPH_throughput[:,1]\n",
    "                resolving_power = instrument[\"intrinsic_res_HighRed\"] / userinput[\"slit_width\"]    # R=1000\n",
    "                ins_lambda = instrument[\"lambda_HighRed\"]\n",
    "                ins_disp = instrument[\"disp_HighRed\"]\n",
    "                spec_bandpass= SAMOS_bandpass_HighRed\n",
    "            else:\n",
    "                print(\"Something is wrong with the insrument or the observing mode\")\n",
    "#            print(spec_bandpass)\n",
    "            x0 = spec_bandpass[0,0]*1E4\n",
    "            x1 = spec_bandpass[1,0]*1E4\n",
    "            xrange = np.int(x1-x0+1)\n",
    "            wl = (np.array([x for x in range(xrange)])+x0)*1E-4  # [micron]    \n",
    "            #print(wl)\n",
    "            throughput_all = np.interp(wl, AtmosphericExtinction_VIS[:,0],AtmosphericExtinction_VIS[:,1]) * \\\n",
    "                             np.interp(wl, th_tel_lambda, th_tel_eff) * \\\n",
    "                             np.interp(wl, th_ins_lambda, th_ins_eff) * \\\n",
    "                             np.interp(wl, VPH_wl, VPH_th)\n",
    "            #print(th_ins_lambda, th_ins_eff)\n",
    "            #throughput = throughput_all\n",
    "            throughput=np.transpose(np.array([wl,throughput_all]))\n",
    "            plt.plot(th_tel_lambda, th_tel_eff)\n",
    "            plt.plot(wl, np.interp(wl, th_tel_lambda, th_tel_eff))\n",
    "            plt.plot(th_ins_lambda, th_ins_eff)\n",
    "            plt.plot(wl,np.interp(wl, th_ins_lambda, th_ins_eff))\n",
    "            plt.plot(VPH_wl, VPH_th)\n",
    "            plt.plot(wl,np.interp(wl, VPH_wl, VPH_th))\n",
    "            plt.plot(wl,throughput_all)\n",
    "            plt.show()\n",
    "\n",
    "##---------------------------------------------------------------------------------------------------------       \n",
    "    if userinput[\"telescope\"] == \"Gemini\":\n",
    "        #th_tel_lambda = Silver_reflectivity[:,0]   #wl in [micron], sparsely sampled\n",
    "        #th_tel_eff = Silver_reflectivity[:,1] ** telescope[\"Nmirror\"]    # 3 reflections, Al mirrors\n",
    "        #\n",
    "        if userinput[\"instrument\"] == \"SCORPIO\":\n",
    "            #print(instrument[\"intrinsic_res_H\"])\n",
    "            #th_ins_lambda = np.array(SCORPIO_wl_th) * 1E-3 # nm -> [micron]\n",
    "            #th_ins_eff = SAMOS_Optics_throughput[:,1] * SAMOS_DMD_throughput[:,1] * SAMOS_CCD_throughput[:,1] \n",
    "            #\n",
    "            #VPH_th = np.array([1,2,3,4])\n",
    "            if userinput[\"band\"] == \"g\":\n",
    "                SCORPIO_throughput = SCORPIO_throughput_g\n",
    "                resolving_power = instrument[\"intrinsic_res_g\"] / userinput[\"slit_width\"]    # R=1000\n",
    "                ins_lambda = instrument[\"lambda_g\"]\n",
    "                ins_disp = instrument[\"disp_g\"]\n",
    "                tot_Npix = instrument[\"tot_Npix_VIS\"]\n",
    "                instrument[\"sat_limit\"] = instrument[\"sat_limit_VIS\"] #supersedes the IR value\n",
    "                instrument[\"detector\"]  = \"CCD\"\n",
    "                spec_bandpass = SCORPIO_bandpass_g\n",
    "                bkg = SCORPIO_AtmosphericEmission_VIS # [ph/sec/m2/nm/arcsec2]\n",
    "                AtmosphericExtinction = AtmosphericExtinction_VIS\n",
    "            elif userinput[\"band\"] == \"r\":\n",
    "                SCORPIO_throughput = SCORPIO_throughput_r\n",
    "                resolving_power = instrument[\"intrinsic_res_r\"] / userinput[\"slit_width\"]    # R=1000\n",
    "                ins_lambda = instrument[\"lambda_r\"]\n",
    "                ins_disp = instrument[\"disp_r\"]\n",
    "                tot_Npix = instrument[\"tot_Npix_VIS\"]\n",
    "                instrument[\"sat_limit\"] = instrument[\"sat_limit_VIS\"] #supersedes the IR value\n",
    "                instrument[\"detector\"]  = \"CCD\"\n",
    "                spec_bandpass = SCORPIO_bandpass_r\n",
    "                bkg = SCORPIO_AtmosphericEmission_VIS # [ph/sec/m2/nm/arcsec2]\n",
    "                AtmosphericExtinction = AtmosphericExtinction_VIS\n",
    "            elif userinput[\"band\"] == \"i\":\n",
    "                SCORPIO_throughput = SCORPIO_throughput_i\n",
    "                resolving_power = instrument[\"intrinsic_res_i\"] / userinput[\"slit_width\"]    # R=1000\n",
    "                ins_lambda = instrument[\"lambda_i\"]\n",
    "                ins_disp = instrument[\"disp_i\"]\n",
    "                tot_Npix = instrument[\"tot_Npix_VIS\"]\n",
    "                instrument[\"sat_limit\"] = instrument[\"sat_limit_VIS\"] #supersedes the IR value\n",
    "                instrument[\"detector\"]  = \"CCD\"\n",
    "                spec_bandpass = SCORPIO_bandpass_i\n",
    "                bkg = SCORPIO_AtmosphericEmission_VIS # [ph/sec/m2/nm/arcsec2]\n",
    "                AtmosphericExtinction = AtmosphericExtinction_VIS\n",
    "            elif userinput[\"band\"] == \"z\":\n",
    "                SCORPIO_throughput = SCORPIO_throughput_z\n",
    "                resolving_power = instrument[\"intrinsic_res_z\"] / userinput[\"slit_width\"]    # R=1000\n",
    "                ins_lambda = instrument[\"lambda_z\"]\n",
    "                ins_disp = instrument[\"disp_z\"]\n",
    "                tot_Npix = instrument[\"tot_Npix_VIS\"]\n",
    "                instrument[\"sat_limit\"] = instrument[\"sat_limit_VIS\"] #supersedes the IR value\n",
    "                instrument[\"detector\"]  = \"CCD\"\n",
    "                spec_bandpass = SCORPIO_bandpass_z\n",
    "                bkg = SCORPIO_AtmosphericEmission_VIS # [ph/sec/m2/nm/arcsec2]\n",
    "                AtmosphericExtinction = AtmosphericExtinction_VIS\n",
    "            elif userinput[\"band\"] == \"Y\":\n",
    "                SCORPIO_throughput = SCORPIO_throughput_Y\n",
    "                resolving_power = instrument[\"intrinsic_res_Y\"] / userinput[\"slit_width\"]    # R=1000\n",
    "                ins_lambda = instrument[\"lambda_Y\"]\n",
    "                ins_disp = instrument[\"disp_Y\"]\n",
    "                tot_Npix = instrument[\"tot_Npix_IR\"]\n",
    "                userinput[\"detector\"]  = \"IR_SCA\"\n",
    "                spec_bandpass = SCORPIO_bandpass_Y\n",
    "                bkg = SCORPIO_AtmosphericEmission_IR # [ph/sec/m2/nm/arcsec2]\n",
    "                AtmosphericExtinction = AtmosphericExtinction_IR\n",
    "            elif userinput[\"band\"] == \"J\":\n",
    "                SCORPIO_throughput = SCORPIO_throughput_J\n",
    "                print('SCORPIO_throughput',SCORPIO_throughput)\n",
    "                print('intrinsic',instrument[\"intrinsic_res_J\"],userinput[\"slit_width\"] )      \n",
    "                resolving_power = instrument[\"intrinsic_res_J\"] / userinput[\"slit_width\"]    # R=1000\n",
    "                ins_lambda = instrument[\"lambda_J\"]\n",
    "                ins_disp = instrument[\"disp_J\"]\n",
    "                tot_Npix = instrument[\"tot_Npix_IR\"]\n",
    "                userinput[\"detector\"]  = \"IR_SCA\"\n",
    "                spec_bandpass = SCORPIO_bandpass_J\n",
    "                bkg = SCORPIO_AtmosphericEmission_IR # [ph/sec/m2/nm/arcsec2]\n",
    "                AtmosphericExtinction = AtmosphericExtinction_IR\n",
    "            elif userinput[\"band\"] == \"H\":\n",
    "                SCORPIO_throughput = SCORPIO_throughput_H\n",
    "                resolving_power = instrument[\"intrinsic_res_H\"] / userinput[\"slit_width\"]    # R=1000\n",
    "                ins_lambda = instrument[\"lambda_H\"]\n",
    "                ins_disp = instrument[\"disp_H\"]\n",
    "                tot_Npix = instrument[\"tot_Npix_IR\"]\n",
    "                userinput[\"detector\"]  = \"IR_SCA\"\n",
    "                spec_bandpass = SCORPIO_bandpass_H\n",
    "                bkg = SCORPIO_AtmosphericEmission_IR # [ph/sec/m2/nm/arcsec2]\n",
    "                AtmosphericExtinction = AtmosphericExtinction_IR\n",
    "            elif userinput[\"band\"] == \"K\":\n",
    "                SCORPIO_throughput = SCORPIO_throughput_K\n",
    "                resolving_power = instrument[\"intrinsic_res_K\"] / userinput[\"slit_width\"]    # R=1000\n",
    "                ins_lambda = instrument[\"lambda_K\"]\n",
    "                ins_disp = instrument[\"disp_K\"]\n",
    "                tot_Npix = instrument[\"tot_Npix_IR\"]\n",
    "                userinput[\"detector\"]  = \"IR_SCA\"\n",
    "                spec_bandpass = SCORPIO_bandpass_K\n",
    "                bkg = SCORPIO_AtmosphericEmission_IR # [ph/sec/m2/nm/arcsec2]\n",
    "                AtmosphericExtinction = AtmosphericExtinction_IR\n",
    "            else:\n",
    "                print(\"Something is wrong with the insrument or the observing mode\")\n",
    "            x0 = spec_bandpass[0,0]*1E4\n",
    "            x1 = spec_bandpass[1,0]*1E4\n",
    "#            print('x0,x1',x0,x1)\n",
    "            xrange = np.int(x1-x0+1)\n",
    "            wl = (np.array([x for x in range(xrange)])+x0)*1E-4  # [micron]  \n",
    "            throughput_all = np.interp(wl, Gemini_throughput[:,0].astype('float64'), Gemini_throughput[:,1].astype('float64')) * \\\n",
    "                         np.interp(wl, SCORPIO_throughput[:,0], SCORPIO_throughput[:,1])\n",
    "            if userinput['ADC_is_in'] == True:\n",
    "                throughput_all = throughput_all * np.interp(wl, SCORPIO_throughput_ADC[:,0], SCORPIO_throughput_ADC[:,1])#            \n",
    "            throughput = np.column_stack((wl, throughput_all))                     \n",
    "#            print('1) throughput[:,0]',throughput[:,0]) # is the correct array of wavelengths\n",
    "#            print('1) throughput[:,1]',throughput[:,1]) # is the correct array of wavelengths\n",
    "#            plt.plot(throughput[:,0],throughput[:,1])\n",
    "\n",
    "    ##------degrade resolution-------##\n",
    "##---------------------------------------------------------------------------------------------------------       \n",
    "#    print('spec_bandpass[:,0]',spec_bandpass[:,0])\n",
    "    ##bandpass   \n",
    "    bandpass_degrade = degrade_resolution(wavelengths=spec_bandpass[:,0], \n",
    "                                        flux=spec_bandpass[:,1], \n",
    "                                        center_wave=ins_lambda, \n",
    "                                        spec_res=resolving_power, disp = ins_disp, \n",
    "                                        px_tot = tot_Npix)\n",
    "    \n",
    "#    print('spec_bandpass 2',spec_bandpass.shape)\n",
    "#    print(spec_bandpass[:,0])\n",
    "    #print(spec_bandpass[:,1])\n",
    "    print(bandpass_degrade)\n",
    "    #get the relevant portion (limits make sense after run through the degrade function)\n",
    "    relevant_indices = np.where(bandpass_degrade['flux'] > 0.1)[0]\n",
    "    bandpass_degrade[\"lam\"] = np.array(bandpass_degrade[\"lam\"][relevant_indices])\n",
    "    bandpass_degrade[\"flux\"] = np.array(bandpass_degrade[\"flux\"][relevant_indices])\n",
    "\n",
    "    bandpass_index = np.where(bandpass_degrade[\"flux\"] > 0.5)[0]\n",
    "#    print('relevant_indices',relevant_indices)\n",
    "#    print('bandpass_degrade',bandpass_degrade)\n",
    "#    print('1 bis) throughput[:,0]',throughput[:,0],throughput[:,0]) \n",
    "#    print('2P throughput[:,0]',throughput[:,0])\n",
    "#    print(throughput[:,1])\n",
    "#    print('others',ins_lambda,resolving_power,ins_disp,instrument[\"tot_Npix\"])\n",
    "\n",
    "    ##throughput\n",
    "    #relevant_indices = np.where(throughput[:,1] > 0.)[0]\n",
    "    #throughput[:,0] = np.array(throughput[:,0][relevant_indices])\n",
    "    #throughput[:,1] = np.array(throughput[:,1][relevant_indices])\n",
    "#    print('throughput 3',throughput)\n",
    "    throughput_degrade = degrade_resolution(wavelengths=throughput[:,0], \n",
    "                                        flux=throughput[:,1], \n",
    "                                        center_wave=ins_lambda,  \n",
    "                                        spec_res=resolving_power, disp = ins_disp, \n",
    "                                        px_tot = tot_Npix)\n",
    "#    print(throughput[:,0])\n",
    "#    print(throughput[:,1])\n",
    "    print(throughput_degrade)\n",
    "    #get relevant portions\n",
    "    throughput_degrade[\"lam\"] = throughput_degrade[\"lam\"][relevant_indices]\n",
    "    throughput_degrade[\"flux\"] = throughput_degrade[\"flux\"][relevant_indices]\n",
    "#    print('throughput 4',throughput_degrade)\n",
    "#    plt.plot(throughput_degrade[\"lam\"],throughput_degrade[\"flux\"])\n",
    "    \n",
    "#    print('bkg[:,0]',bkg[:,0])\n",
    "    ##background\n",
    "    background_degrade = degrade_resolution(wavelengths=bkg[:,0], \n",
    "                                        flux=bkg[:,1], \n",
    "                                        center_wave=ins_lambda, \n",
    "                                        spec_res=resolving_power, disp = ins_disp, \n",
    "                                        px_tot = tot_Npix)\n",
    "    #set negative values to 0\n",
    "    where_zero = np.where(background_degrade[\"flux\"] < 0)[0]\n",
    "    background_degrade[\"flux\"][where_zero] = 0\n",
    "    print(background_degrade)\n",
    "\n",
    "    background_degrade[\"lam\"] = background_degrade[\"lam\"][relevant_indices]\n",
    "    background_degrade[\"flux\"] = background_degrade[\"flux\"][relevant_indices]\n",
    "    \n",
    "    plt.plot(bkg[:,0],bkg[:,1])\n",
    "    plt.plot(background_degrade[\"lam\"],background_degrade[\"flux\"])\n",
    "\n",
    "    # do the check single line input \n",
    "##---------------------------------------------------------------------------------------------------------    \n",
    "    # include conversion to micron from ang\n",
    "    # include z shift\n",
    "    # include check that input wavelength is within range\n",
    "   \n",
    "    #check line > if the user wants to know a specific line width, one has to set:\n",
    "        # 1) lineF\n",
    "        # 2) lineW\n",
    "        # 3) no specFile\n",
    "##---------------------------------------------------------------------------------------------------------    \n",
    "    if (userinput[\"lineF\"] > 0) & (userinput[\"lineW\"] > 0) & (userinput[\"specFile\"] == \"none\"):\n",
    "        SPECTYPE = \"line\"\n",
    "\n",
    "        # Convert from ang to micron\n",
    "        if userinput[\"InputInAngstroms\"] == True:\n",
    "            userinput[\"lineW\"] = userinput[\"lineW\"]/10000   # [micron] Equivalen Width  \n",
    "\n",
    "        # Apply redshift, from local to observed frame\n",
    "        center_w = userinput[\"lineW\"] * (1+userinput[\"z\"])   # [micron[]\n",
    "\n",
    "        # Check to see if the band is correct, check the central wavelength [micron] vs. bandpass\n",
    "        if (center_w > np.nanmax(spec_bandpass[:,0])) | (center_w < np.nanmin(spec_bandpass[:,0])):\n",
    "            print(\"This wavelength is not contained in the band\")\n",
    "\n",
    "    # check spectrum > if the user wants to view an entire spectrum: \n",
    "        # 1) specFile must be specified \n",
    "        # AND\n",
    "        # 2) it must be different from \"flat\"\n",
    "\n",
    "#    A spectrum of a source with known emission line wavelengths is used to find the wavelength\n",
    "##---------------------------------------------------------------------------------------------------------    \n",
    "    # scale (dispersion solution) for your spectra\"\n",
    "        # want to know: what wavelength is where\n",
    "            # can use any kind of calibration source that you know the spec of, so you know where lam are supposed to appear (pix)\n",
    "        # can also use to figure out best way to view a spectrum of an unknown source\n",
    "##---------------------------------------------------------------------------------------------------------       \n",
    "    elif (userinput[\"specFile\"] != \"none\") & (userinput[\"specFile\"] != \"flat\"): \n",
    "        SPECTYPE = \"user\"\n",
    "\n",
    "        #Normalize spectrum? \n",
    "        if userinput[\"NormalizeUserSpec\"] == True:\n",
    "            if userinput[\"mag\"] > 0:\n",
    "                print(\"using 'mag' to normalize spectrum\")\n",
    "            else:\n",
    "                print(\"The magnitude you gave for normalization doesn't make sense\")\n",
    "\n",
    "        else:\n",
    "            if userinput[\"mag\"] > 0:\n",
    "                print(\"Your magnitude to normalize the spectrum looks reasonable but is not used because 'NormalizeUserSpec' is set to False.\")            \n",
    "\n",
    "        try: \n",
    "            user_spectrum = {\"lam\": userspec[:,0], \"flux\": userspec[:,1]}\n",
    "\n",
    "        except:\n",
    "            print(\"something went wrong loading the spectrum file\")\n",
    "\n",
    "        #convert the wavelengts to micron if needed\n",
    "        if userinput[\"InputInAngstroms\"] == True:\n",
    "            user_spectrum[\"lam\"] = user_spectrum[\"lam\"] / 10000.0   # [micron] lambda of the tabulated spectrum\n",
    "\n",
    "        #apply redshift: put in observed frame\n",
    "        user_spectrum[\"lam\"] = user_spectrum[\"lam\"] * (1+userinput[\"z\"])     # [micron] \n",
    "        user_spectrum[\"flux\"] = user_spectrum[\"flux\"] / (1+userinput[\"z\"])   # [flux is in ]ergs/s/cm^2/Hz]\n",
    "\n",
    "        #make sure everything is in the right format (should match the bandpass)\n",
    "        indices = np.where(spec_bandpass[:,1] > 0.01)[0]   #do not consider specrtral range of low \"bandpass\" throughput\n",
    "            # why 0.01? is it just an approximate number\n",
    "        bandpass_check = spec_bandpass[:,1][indices]\n",
    "\n",
    "        #check if the lowest or highest are covered by the bandpass\n",
    "        if (np.nanmin(user_spectrum[\"lam\"]) > np.nanmin(bandpass_check) ) | ( np.nanmax(user_spectrum[\"lam\"]) < np.nanmax(bandpass_check)  ):\n",
    "            print(\"The spectrum you gave does not span the full wavelength coverage of the %s band or is not in the proper format. The correct format is observed-frame wavelength in microns or Angstroms and flux in erg/s/cm2, two column format. Please also check the wavelength unit.\")\n",
    "            quit()\n",
    "\n",
    "##---------------------------------------------------------------------------------------------------------       \n",
    "    #check flat > for calibration purposes (difference: flat spectrum && flat illumination >> to figure out flaws of telescope to recalibrate)\n",
    "        # this in particular is flat spectrum callibration (object with same AB mag across wavelengths)\n",
    "##---------------------------------------------------------------------------------------------------------       \n",
    "    \n",
    "    elif (userinput[\"specFile\"] == \"flat\"):\n",
    "        SPECTYPE = \"flat\"\n",
    "        print(\"Using a flat spectrum in f_v (using mag=%g AB to normalize spectrum)!\")\n",
    "            # this is the standard object in AB\n",
    "\n",
    "        if userinput[\"mag\"] < 0:\n",
    "            print(\"The magnitude you gave for normalization doesn't make sense\" )\n",
    "            quit()\n",
    "\n",
    "\n",
    "    else:\n",
    "        print(\"you're doing something wrong, don't know what you're looking for\")\n",
    "\n",
    "\n",
    "    ####NOTE: all of the arrays are np arrays so you can just multiply things\n",
    "    \n",
    "    \n",
    "    ##---------------------------------------------------------------------------------------------------------    \n",
    "    ##-------Calculate spectrum----------\n",
    "##---------------------------------------------------------------------------------------------------------    \n",
    "    \n",
    "    if SPECTYPE == \"line\":\n",
    "##---------------------------------------------------------------------------------------------------------\n",
    "        #resolution at line:\n",
    "        res_at_w = center_w / resolving_power\n",
    "\n",
    "        #width of line before spectrograph\n",
    "        width_b4_spec = center_w * userinput[\"FWHM\"] * 10**(-logc + 5)\n",
    "            # convert to velocity\n",
    "\n",
    "\n",
    "        #width of line after spectrograph\n",
    "        width_final = np.sqrt(width_b4_spec**2 + res_at_w**2)\n",
    "            #averaging the two noises\n",
    "\n",
    "        #figure out the \"location inside FWHM of given line\"\n",
    "        line_index = np.where(np.abs(background_degrade[\"lam\"] - center_w) <= (0.5*width_final))[0]\n",
    "\n",
    "\n",
    "        #check if chosen line is wide enough\n",
    "        if len(line_index) == 0:\n",
    "            print(\"ERROR: Line is too narrow.\")\n",
    "            quit()\n",
    "        else:\n",
    "            pass\n",
    "\n",
    "        #area used to calculate SNR ??\n",
    "        sn_index = line_index\n",
    "\n",
    "        #recalculate background\n",
    "        background_final = background_degrade[\"flux\"] * throughput_degrade[\"flux\"] * userinput[\"slit_width\"] * userinput[\"theta\"] * (telescope[\"AT\"] * 10**(-4.)) * (ins_disp/10.0)\n",
    "\n",
    "        #interpolate background\n",
    "        avg_bkg = np.interp(center_w,bkg[:,0],bkg[:,1])\n",
    "                        # interp(where to interpolate, x-coordinates, y-coordinates)\n",
    "\n",
    "        #convert into AB magnitude \n",
    "        bkg_mag = -2.5 * ( np.log10(avg_bkg*center_w) - 4 + 3 + hplank ) - f_nu_AB\n",
    "\n",
    "        #signal after going through the atmosphere ?\n",
    "        signal_atmos = userinput[\"lineF\"] * 10**(-18-loghc-4) * center_w * telescope[\"AT\"]\n",
    "            # unit: photon/sec collected by telescope\n",
    "\n",
    "        #width of line as sigma (micron)\n",
    "        sigma = width_final / (2 * np.sqrt(2 * np.log(2)))\n",
    "\n",
    "        #signal spectrum\n",
    "        signal_spectrum = signal_atmos * ( 1 / ( np.sqrt(2 * np.pi) * sigma)) * np.exp(-0.5 * ( background_degrade[\"lam\"] - center_w)**2 / sigma**2) * ins_disp / 1e4\n",
    "            # gaussian is 10 ang spacing, but per micron\n",
    "            # / 1e4 to get photons/sec/ang\n",
    "            # then multiply by ang/px to get photons/sec/px\n",
    "\n",
    "\n",
    "        #signal speectrum in space\n",
    "        signal_space = signal_spectrum * throughput_degrade[\"flux\"]*1\n",
    "\n",
    "        #number of px in the spectral direction\n",
    "        npix_spec = (width_final * 10000.0) / ins_disp\n",
    "            # (width_final * 10000.0) == angstrom\n",
    "            # npix_spec is in px\n",
    "\n",
    "\n",
    "        #spatial pixel scale \n",
    "        npix_spatial_scale = userinput[\"theta\"] / telescope[\"pix_scale\"]\n",
    "\n",
    "\n",
    "        # The number of pixels per FWHM observed\n",
    "        npix_per_fwhm = npix_spatial_scale * npix_spec\n",
    "\n",
    "##---------------------------------------------------------------------------------------------------------    \n",
    "# if it is not a line, is a spectrum, either flat or user provided...\n",
    "##---------------------------------------------------------------------------------------------------------    \n",
    "    else: \n",
    "##---------------------------------------------------------------------------------------------------------    \n",
    "# in any case, we need to do the background\n",
    "##---------------------------------------------------------------------------------------------------------    \n",
    "        # BACKGROUND:\n",
    "        # ------------ \n",
    "        # The observed line wavelength in micron (here the center of the band from telescope)\n",
    "            center_w = ins_lambda\n",
    "                # micron\n",
    "\n",
    "            # resolution at the central wavelength in micron\n",
    "            res_at_w = center_w / resolving_power\n",
    "                # micron\n",
    "\n",
    "\n",
    "            # the area used to calculate the S/N\n",
    "            sn_index = bandpass_index\n",
    "\n",
    "            # background magnitude\n",
    "            bkg_mag = -2.5 * ( np.log10( np.nanmean(background_degrade[\"flux\"][bandpass_index]) * center_w) - 4 + 3 + hplank) - f_nu_AB\n",
    "\n",
    "            # now send the background spectrum background_degrade[\"flux\"] [ph/m2/s/nm/arcsec2] through the telescope by \n",
    "            # multiplying the throughput [ph/m2/s/nm/arcsec2], \n",
    "            # the slit_width=0.75\" and the angular extent theta=0.7\" [ph/m2/s/nm], \n",
    "            # the area of the telescope AT [ph/s/nm], \n",
    "            # and the pixel scale in nm [ph/nm/pixel]\n",
    "            # this gives phot/sec/pixel\n",
    "            background_final = background_degrade[\"flux\"] * throughput_degrade[\"flux\"] * userinput[\"slit_width\"] * userinput[\"theta\"] * (telescope[\"AT\"] * 10.**(-4)) * (ins_disp / 10.0)\n",
    "            # phot/sec/px\n",
    "\n",
    "##---------------------------------------------------------------------------------------------------------    \n",
    "            #-----For spectrum------:\n",
    "##---------------------------------------------------------------------------------------------------------    \n",
    "            if SPECTYPE == \"user\": # for USER spectrum\n",
    "                # convolve the user spectrum with the resolution\n",
    "                user_spectrum_degrade = degrade_resolution(wavelengths=user_spectrum[\"lam\"],\n",
    "                                        flux=user_spectrum[\"flux\"],\n",
    "                                        center_wave=ins_lambda,\n",
    "                                        spec_res=resolving_power,\n",
    "                                        disp=ins_disp,\n",
    "                                        px_tot=tot_Npix\n",
    "                                        )\n",
    "                user_spectrum_degrade[\"lam\"] = user_spectrum_degrade[\"lam\"][relevant_indices]\n",
    "                user_spectrum_degrade[\"flux\"] = user_spectrum_degrade[\"flux\"][relevant_indices]\n",
    "#check\n",
    "#                print(user_spectrum_degrade[\"lam\"][1000],user_spectrum_degrade[\"flux\"][1000])                \n",
    "#                    # userSig = flux, user_wave_grid = lam\n",
    "#                plt.plot(user_spectrum[\"lam\"],user_spectrum[\"flux\"]) \n",
    "#                usd_1 = user_spectrum_degrade[\"flux\"]\n",
    "#                plt.plot(user_spectrum_degrade[\"lam\"],usd_1) \n",
    "            \n",
    "                # multiply by a max-normalized filter transmission\n",
    "                bandpass_shape = bandpass_degrade[\"flux\"] / np.nanmax(bandpass_degrade[\"flux\"])\n",
    "                user_spectrum_degrade[\"flux\"] = user_spectrum_degrade[\"flux\"] * bandpass_shape\n",
    "##check\n",
    "#                print(user_spectrum_degrade[\"lam\"][1000],user_spectrum_degrade[\"flux\"][1000])                \n",
    "#                usd_2 = user_spectrum_degrade[\"flux\"]\n",
    "#                plt.plot(user_spectrum_degrade[\"lam\"],usd_2)\n",
    "                \n",
    "                # Check if User Spectrum needs to be normalized to the broad-band magnitude\n",
    "                if userinput[\"NormalizeUserSpec\"] == True:\n",
    "                    # make the total match the broad band magnitude\n",
    "                    scale = 10.0**(-0.4 * (userinput[\"mag\"] + f_nu_AB)) / np.nanmean(user_spectrum_degrade[\"flux\"])\n",
    "                        #this is fv (look at wiki eq. for AB mag)\n",
    "                        # this is to make the spectrum fainter (make the mags relative to AB standard)\n",
    "                    raw_fv_sig_spec = user_spectrum_degrade[\"flux\"] * scale\n",
    "\n",
    "                else:\n",
    "                    raw_fv_sig_spec = user_spectrum_degrade[\"flux\"].copy()\n",
    "\n",
    "\n",
    "                # convert to flux hitting the primary\n",
    "                # in flux hitting the primary in phot/sec/micron \n",
    "                # (if the earth had no atmosphere)\n",
    "                # phot/sec/micron = fnu * AT / lam / h\n",
    "                signal_spectrum = raw_fv_sig_spec * 10.**(-1 * hplank) * telescope[\"AT\"] / background_degrade[\"lam\"]\n",
    "                    #phot/sec/micron\n",
    "\n",
    "\n",
    "            #------For flat------:\n",
    "##---------------------------------------------------------------------------------------------------------    \n",
    "            elif SPECTYPE == \"flat\": ## for FLAT spectrum\n",
    "\n",
    "                # flux hitting the primary in\n",
    "                # phot/sec/micron (if the earth had no atmosphere)\n",
    "                signal_spectrum = 10.0**(-0.4 * (userinput[\"mag\"] + f_nu_AB) - hplank) * telescope[\"AT\"] / background_degrade[\"lam\"]\n",
    "\n",
    "            # multiply by the atmospheric transparency (in space!?)\n",
    "            signal_spectrum = signal_spectrum * 1 # tranSpecObs [phot/sec/micron]\n",
    "\n",
    "            # now put it through the throughput of the telescope\n",
    "            signal_space = signal_spectrum * throughput_degrade[\"flux\"] #[phot/sec/micron]\n",
    "\n",
    "            # now for phot/sec/pix multiply by micron/pix \n",
    "            # -> 1 phot/sec/micron = 10000.0 phot/sec/A\n",
    "            signal_space = signal_space * (ins_disp / 10000.0)            \n",
    "                #phot/sec/pix\n",
    "\n",
    "            # number of pixels per resolution element in the spectral direction\n",
    "            npix_spec = (res_at_w*10000.0) / ins_disp\n",
    "                # = npix_spec\n",
    "\n",
    "            # the spatial pixel scale\n",
    "            # we have at least one pixel in the cross dispersion direction\n",
    "            npix_spatial_scale = np.nanmax( np.asarray([userinput[\"theta\"] / instrument[\"pix_scale\"],2]) )\n",
    "                #npix_spatial_scale\n",
    "\n",
    "            # The number of pixels per FWHM observed\n",
    "            npix_per_fwhm = npix_spec * npix_spatial_scale\n",
    "                # = npix_per_fwhm\n",
    "\n",
    "\n",
    " \n",
    "\n",
    "        \n",
    "        ##-----Readnoise---- Rauscher formula##\n",
    "    if userinput[\"detector\"] == \"IR_SCA\":\n",
    "        n = userinput[\"nr_of_groups\"]  \n",
    "        m = userinput[\"nr_of_averaged_frames\"]\n",
    "        s = userinput[\"nr_of_skipped_frames\"]\n",
    "        tf = userinput[\"frame_readout_time\"]\n",
    "        tg = (m+s)*tf # duration of a group\n",
    "        tint = (n-1)*tg\n",
    "        #userinput[\"Nexp\"] = round(userinput[\"time\"] / (userinput[\"nExp\"] * dither * (m+s)*n) *)\n",
    "        totNrintegration = round(userinput[\"time\"] / ((m+s)*n *tg) )\n",
    "        f = signal_space/totNrintegration + background_final/totNrintegration\n",
    "        RON2 = 12*(n-1)/(m*n*(n+1)) * instrument[\"det_RN\"]**2 + \\\n",
    "                6*(n**2+1)/(5*n*(n+1))*(n-1) * tg*f - \\\n",
    "                2*(m**2-1)*(n-1)/(m*n*(n+1)) * tf*f  \n",
    "        instrument[\"det_RN\"] = np.sqrt(np.mean(RON2))\n",
    "        print(userinput[\"time\"])\n",
    "        print(userinput[\"nExp\"])\n",
    "        print(totNrintegration)\n",
    "        print(\"Number of Averaged frames per group:\", m)\n",
    "        print(\"Number of Skipped frames per group:\", s)\n",
    "        print(\"Number of Groups per ramp:\", n)\n",
    "        print(\"Readout time per frame (s):\", tf)\n",
    "        print(\"Readout time per group (s):\", tg)\n",
    "        print(\"Integration time per ramp (s):\",tint)\n",
    "        print(\"Equivalent read noise (e):\",instrument[\"det_RN\"])\n",
    "        print(\"Number of dithered pairs\", userinput[\"nExp\"])\n",
    "        print(\"Number of exposures\", userinput[\"nExp\"]*2)\n",
    "        print(\"Duration of an exposures\", userinput[\"time\"]/(userinput[\"nExp\"]*2))\n",
    "        print(\"Number of ramps per Exposure:\", userinput[\"time\"]/(userinput[\"nExp\"]*2) / tint)\n",
    "    \n",
    "        ##-------------Calculate SNR, exposure, mag---------##\n",
    "        \n",
    "    #if not given exposure time:\n",
    "    if userinput[\"SN\"] > 0:\n",
    "\n",
    "        #check if user line spectrum\n",
    "        if (userinput[\"lineF\"] > 0) & (userinput[\"lineW\"] > 0):\n",
    "            qa = -npix_spec * signal_space**2 / userinput[\"SN\"]**2\n",
    "        else:\n",
    "            qa= -signal_space**2 / userinput[\"SN\"]**2\n",
    "\n",
    "        qb = dither * background_final + dither * instrument[\"dark\"] * npix_spatial_scale + signal_space\n",
    "        qc = dither * instrument[\"det_RN\"]**2 / userinput[\"Nreads\"] * npix_spatial_scale * userinput[\"nExp\"]\n",
    "\n",
    "  \n",
    "        if len(sn_index) == 0:\n",
    "            print(\"ERROR: No signal detected when computing exposure time for given input S/N.\")\n",
    "            quit()\n",
    "\n",
    "\n",
    "\n",
    "        ##----calculate exposure time, assuming you know SNR----##\n",
    "        exp_time_spec = (-qb[sn_index] - np.sqrt( qb[sn_index]**2 - 4 * qa[sn_index] * qc )) / (2 * qa[sn_index])\n",
    "        exp_time = np.float( np.nanmedian( exp_time_spec) )\n",
    "\n",
    "\n",
    "\n",
    "    else: ## Else, take the exposure time given by the user -----\n",
    "        exp_time = userinput[\"time\"]\n",
    "    \n",
    "    \n",
    "    \n",
    "    ##---compute SNR----##\n",
    "    \n",
    "\n",
    "    noise = np.sqrt( signal_space * exp_time + dither*((background_final + instrument[\"dark\"] * npix_spatial_scale) * exp_time + instrument[\"det_RN\"]**2 / userinput[\"Nreads\"] * npix_spatial_scale * userinput[\"nExp\"]) )\n",
    "    signal_final =  signal_space * exp_time\n",
    "        \n",
    "\n",
    "    #SNR!\n",
    "    SNR = signal_final / noise\n",
    "\n",
    "    stn = np.nanmean(np.sqrt(npix_spec) * SNR[sn_index])\n",
    "            # i think this means how many pixels is the noise?\n",
    "            # this will print phot/s/spectral pix\n",
    "\n",
    "    # the electron per pixel spectrum\n",
    "    epp = noise**2 / npix_spatial_scale\n",
    "        \n",
    "\n",
    "    \n",
    "    \n",
    "    ##----follow the results printing pattern----##\n",
    "    \n",
    "    # the mean instrument+telescope throughput in the same band pass\n",
    "    avg_throughput = np.nanmean( throughput_degrade[\"flux\"][sn_index])\n",
    "\n",
    "    # maximum electron per pixel\n",
    "    max_epp = np.max( epp[sn_index] / userinput[\"nExp\"] )\n",
    "\n",
    "\n",
    "    # if calculating line flux (\"S/N per FWHM ie S/N in the line\")\n",
    "    if (userinput[\"lineF\"] > 0) & (userinput[\"lineW\"] > 0): \n",
    "\n",
    "        # over the line (per FWHM)\n",
    "        stn = np.nanmean(np.sqrt(npix_spec) * SNR[sn_index])\n",
    "            #?\n",
    "\n",
    "        # signal in e/FWHM\n",
    "        signal_print = np.nanmean(signal_space[sn_index]) * npix_spec * exp_time\n",
    "            #?\n",
    "\n",
    "        # sky background in e/sec/FWHM\n",
    "        background_print = np.nanmean( background_final[sn_index]) * npix_spec * exp_time\n",
    "\n",
    "        # Read noise for multiple reads, electrons per FWHM\n",
    "        RN_print = instrument[\"det_RN\"] / np.sqrt(userinput[\"Nreads\"]) * np.sqrt(npix_per_fwhm) * np.sqrt(userinput[\"nExp\"])\n",
    "\n",
    "        # noise per FWHM\n",
    "        noise_print = np.nanmean( noise[sn_index]) * np.sqrt(npix_spec)\n",
    "\n",
    "        # e- \n",
    "        dark_print = instrument[\"dark\"] * npix_per_fwhm * exp_time\n",
    "\n",
    "    # SNR per pixel for a continuous source\n",
    "    else: \n",
    "\n",
    "        # per spectral pixel\n",
    "        stn = np.nanmedian( SNR[sn_index] )\n",
    "\n",
    "        # signal in e/(spectral pixel)\n",
    "        signal_print = np.nanmedian( signal_space[sn_index]) * exp_time\n",
    "\n",
    "        # sky background in e/(spectral pixel)\n",
    "        background_print = np.nanmedian( background_final[sn_index]) * exp_time\n",
    "\n",
    "        # Read noise for multiple reads, electrons per spectral pixel\n",
    "        RN_print = instrument[\"det_RN\"] / np.sqrt(userinput[\"Nreads\"]) * np.sqrt(npix_spatial_scale) * np.sqrt(userinput[\"nExp\"])\n",
    "\n",
    "        # noise per spectral pixel\n",
    "        noise_print = np.nanmedian(noise[sn_index])\n",
    "\n",
    "        # e- per spectral pixel\n",
    "        dark_print = instrument[\"dark\"] * npix_spatial_scale * exp_time\n",
    "\n",
    "\n",
    "\n",
    "\n",
    "        \n",
    "    ##---------output----------##\n",
    "    \n",
    "    #Summary of results, in dictionary \n",
    "    summary_struct = dict()\n",
    "    summary_struct[\"quant\"] = ['Wavelength', 'Resolution','Dispersion', 'Throughput', 'Signal', 'Sky Background', \n",
    "        'Sky brightness', 'Dark Current', 'Read Noise', 'Total Noise','S/N', \n",
    "        'Total Exposure Time', 'Max e- per pixel']\n",
    "\n",
    "    if (userinput[\"lineF\"] > 0) & (userinput[\"lineW\"] > 0):\n",
    "        summary_struct[\"unit\"] = ['micron','FWHM in angstrom', 'angstrom/pixel', '',  'electrons per FWHM',\n",
    "         'electrons per FWHM', 'AB mag per sq. arcsec', 'electrons per FWHM', \n",
    "         'electrons per FWHM', \n",
    "         'electrons per FWHM',\n",
    "         'per observed FWHM', 'seconds', 'electrons per pixel per exp']\n",
    "    else:\n",
    "        summary_struct[\"unit\"] = ['micron','angstrom', 'angstrom/pixel', '',  'electrons per spectral pixel',\n",
    "         'electrons per spectral pixel', 'AB mag per sq. arcsec', 'electrons per spectral pixel', \n",
    "         'electrons per spectral pixel', 'electrons per spectral pixel',\n",
    "         'per spectral pixel', 'seconds', 'electrons per pixel']\n",
    "\n",
    "\n",
    "    if max_epp >= 1e10:\n",
    "        max_epp_string = \"> 1e10\"\n",
    "    else:\n",
    "        max_epp_string = max_epp\n",
    "\n",
    "\n",
    "        \n",
    "    #checking if the signal is saturating the detector\n",
    "    if max_epp > instrument[\"sat_limit\"]:\n",
    "        print(\"Detector Saturated!\")\n",
    "    #\n",
    "    #for IR detector do a check on the non linearity thresholds\n",
    "    #---------------------------------------------------------------\n",
    "    #elif (max_epp > telescope[\"five_per_limit\"]) & (max_epp < instrument[\"sat_limit\"]):\n",
    "    #    print(\"Detector in >5 percent unlinear regime\")\n",
    "    #elif (max_epp > telescope[\"one_per_limit\"]) & (max_epp < instrument[\"five_per_limit\"]):\n",
    "    #    print(\"Detector in 1 - 5 percent nonlinear regime\")\n",
    "    else:\n",
    "        pass\n",
    "\n",
    "    \n",
    "    summary_struct[\"value\"] = [round(center_w,4),\n",
    "                    round(res_at_w * 1e4,1),\n",
    "                    round(ins_disp,2),\n",
    "                    avg_throughput,\n",
    "                    signal_print,\n",
    "                    background_print,\n",
    "                    round(bkg_mag,6),\n",
    "                    round(dark_print,6),\n",
    "                    round(RN_print,6),\n",
    "                    round(noise_print,6),\n",
    "                    round(stn,6),\n",
    "                    round(exp_time,6),\n",
    "                    round(max_epp_string,6)\n",
    "                    ]\n",
    "\n",
    "    ## Actual output containing the spectrum (for graphing purposes) --------------\n",
    "    spec_struct = dict()\n",
    "\n",
    "    spec_struct[\"wave\"] = background_degrade[\"lam\"]\n",
    "    spec_struct[\"center\"] = center_w\n",
    "    spec_struct[\"plot_index\"] = sn_index\n",
    "    spec_struct[\"bandpass_index\"] = bandpass_index\n",
    "    spec_struct[\"tp\"] = throughput_degrade[\"flux\"]\n",
    "    spec_struct[\"bandpass\"] = bandpass_degrade[\"flux\"]\n",
    "    spec_struct[\"spec_bandpass\"] = spec_bandpass\n",
    "#    spec_struct[\"bk\"] = background_degrade[\"flux\"]\n",
    "    spec_struct[\"bk\"] = background_final * exp_time #electrons/pixel\n",
    "#    spec_struct[\"sig\"] = signal_spectrum # phot/sec/micron #not needed\n",
    "    spec_struct[\"signal\"] = signal_final # electrons/pixel -> signal_space * exp_time\n",
    "    spec_struct[\"noise\"] = noise \n",
    "    spec_struct[\"sn\"] = SNR\n",
    "    spec_struct[\"lineF\"] = userinput[\"lineF\"]\n",
    "    spec_struct[\"time\"] = exp_time\n",
    "\n",
    "    output = {\"summary_struct\":summary_struct,\n",
    "        \"spec_struct\":spec_struct}\n",
    "\n",
    "\n",
    "    return(output)\n",
    "\n",
    "\n",
    "\n",
    "    "
   ]
  },
  {
   "cell_type": "markdown",
   "metadata": {},
   "source": [
    "## Use CTRL + / to comment/uncomment blocks of code"
   ]
  },
  {
   "cell_type": "code",
   "execution_count": 85,
   "metadata": {
    "scrolled": false
   },
   "outputs": [
    {
     "name": "stdout",
     "output_type": "stream",
     "text": [
      "SCORPIO_throughput [[1.15  0.25 ]\n",
      " [1.2   0.317]\n",
      " [1.25  0.425]\n",
      " [1.3   0.423]\n",
      " [1.35  0.337]\n",
      " [1.38  0.25 ]\n",
      " [1.4   0.   ]]\n",
      "intrinsic 4006.0 0.54\n",
      "{'lam': array([0.93275149, 0.93285476, 0.93295803, ..., 1.5669387 , 1.56704197,\n",
      "       1.56714524]), 'flux': array([0.99993452, 0.99993452, 0.99993452, ..., 0.99993452, 0.99993452,\n",
      "       0.99993452])}\n",
      "{'lam': array([0.93275149, 0.93285476, 0.93295803, ..., 1.5669387 , 1.56704197,\n",
      "       1.56714524]), 'flux': array([0.20264461, 0.20264461, 0.20264461, ..., 0.25109852, 0.25109852,\n",
      "       0.25109852])}\n",
      "{'lam': array([0.93275149, 0.93285476, 0.93295803, ..., 1.5669387 , 1.56704197,\n",
      "       1.56714524]), 'flux': array([3.67054614, 0.78309384, 0.85348786, ..., 0.5223387 , 0.52258131,\n",
      "       0.52233822])}\n",
      "using 'mag' to normalize spectrum\n",
      "3600\n",
      "5\n",
      "7\n",
      "Number of Averaged frames per group: 8\n",
      "Number of Skipped frames per group: 0\n",
      "Number of Groups per ramp: 16\n",
      "Readout time per frame (s): 0.5\n",
      "Readout time per group (s): 4.0\n",
      "Integration time per ramp (s): 60.0\n",
      "Equivalent read noise (e): 8.47791605408077\n",
      "Number of dithered pairs 5\n",
      "Number of exposures 10\n",
      "Duration of an exposures 360.0\n",
      "Number of ramps per Exposure: 6.0\n",
      "Detector Saturated!\n"
     ]
    },
    {
     "data": {
      "application/vnd.plotly.v1+json": {
       "config": {
        "plotlyServerURL": "https://plot.ly"
       },
       "data": [
        {
         "cells": {
          "values": [
           [
            "Wavelength",
            "Resolution",
            "Dispersion",
            "Throughput",
            "Signal",
            "Sky Background",
            "Sky brightness",
            "Dark Current",
            "Read Noise",
            "Total Noise",
            "S/N",
            "Total Exposure Time",
            "Max e- per pixel"
           ],
           [
            1.25,
            1.7,
            1.03,
            0.24900125940536552,
            2191.1524325112136,
            1049.1938789033798,
            16.328557,
            50,
            31.595328,
            75.631839,
            25.134175,
            3600,
            511037.325927
           ],
           [
            "micron",
            "angstrom",
            "angstrom/pixel",
            "",
            "electrons per spectral pixel",
            "electrons per spectral pixel",
            "AB mag per sq. arcsec",
            "electrons per spectral pixel",
            "electrons per spectral pixel",
            "electrons per spectral pixel",
            "per spectral pixel",
            "seconds",
            "electrons per pixel"
           ]
          ]
         },
         "header": {
          "values": [
           "Variable",
           "Value",
           "Units"
          ]
         },
         "type": "table"
        }
       ],
       "layout": {
        "template": {
         "data": {
          "bar": [
           {
            "error_x": {
             "color": "#2a3f5f"
            },
            "error_y": {
             "color": "#2a3f5f"
            },
            "marker": {
             "line": {
              "color": "#E5ECF6",
              "width": 0.5
             }
            },
            "type": "bar"
           }
          ],
          "barpolar": [
           {
            "marker": {
             "line": {
              "color": "#E5ECF6",
              "width": 0.5
             }
            },
            "type": "barpolar"
           }
          ],
          "carpet": [
           {
            "aaxis": {
             "endlinecolor": "#2a3f5f",
             "gridcolor": "white",
             "linecolor": "white",
             "minorgridcolor": "white",
             "startlinecolor": "#2a3f5f"
            },
            "baxis": {
             "endlinecolor": "#2a3f5f",
             "gridcolor": "white",
             "linecolor": "white",
             "minorgridcolor": "white",
             "startlinecolor": "#2a3f5f"
            },
            "type": "carpet"
           }
          ],
          "choropleth": [
           {
            "colorbar": {
             "outlinewidth": 0,
             "ticks": ""
            },
            "type": "choropleth"
           }
          ],
          "contour": [
           {
            "colorbar": {
             "outlinewidth": 0,
             "ticks": ""
            },
            "colorscale": [
             [
              0,
              "#0d0887"
             ],
             [
              0.1111111111111111,
              "#46039f"
             ],
             [
              0.2222222222222222,
              "#7201a8"
             ],
             [
              0.3333333333333333,
              "#9c179e"
             ],
             [
              0.4444444444444444,
              "#bd3786"
             ],
             [
              0.5555555555555556,
              "#d8576b"
             ],
             [
              0.6666666666666666,
              "#ed7953"
             ],
             [
              0.7777777777777778,
              "#fb9f3a"
             ],
             [
              0.8888888888888888,
              "#fdca26"
             ],
             [
              1,
              "#f0f921"
             ]
            ],
            "type": "contour"
           }
          ],
          "contourcarpet": [
           {
            "colorbar": {
             "outlinewidth": 0,
             "ticks": ""
            },
            "type": "contourcarpet"
           }
          ],
          "heatmap": [
           {
            "colorbar": {
             "outlinewidth": 0,
             "ticks": ""
            },
            "colorscale": [
             [
              0,
              "#0d0887"
             ],
             [
              0.1111111111111111,
              "#46039f"
             ],
             [
              0.2222222222222222,
              "#7201a8"
             ],
             [
              0.3333333333333333,
              "#9c179e"
             ],
             [
              0.4444444444444444,
              "#bd3786"
             ],
             [
              0.5555555555555556,
              "#d8576b"
             ],
             [
              0.6666666666666666,
              "#ed7953"
             ],
             [
              0.7777777777777778,
              "#fb9f3a"
             ],
             [
              0.8888888888888888,
              "#fdca26"
             ],
             [
              1,
              "#f0f921"
             ]
            ],
            "type": "heatmap"
           }
          ],
          "heatmapgl": [
           {
            "colorbar": {
             "outlinewidth": 0,
             "ticks": ""
            },
            "colorscale": [
             [
              0,
              "#0d0887"
             ],
             [
              0.1111111111111111,
              "#46039f"
             ],
             [
              0.2222222222222222,
              "#7201a8"
             ],
             [
              0.3333333333333333,
              "#9c179e"
             ],
             [
              0.4444444444444444,
              "#bd3786"
             ],
             [
              0.5555555555555556,
              "#d8576b"
             ],
             [
              0.6666666666666666,
              "#ed7953"
             ],
             [
              0.7777777777777778,
              "#fb9f3a"
             ],
             [
              0.8888888888888888,
              "#fdca26"
             ],
             [
              1,
              "#f0f921"
             ]
            ],
            "type": "heatmapgl"
           }
          ],
          "histogram": [
           {
            "marker": {
             "colorbar": {
              "outlinewidth": 0,
              "ticks": ""
             }
            },
            "type": "histogram"
           }
          ],
          "histogram2d": [
           {
            "colorbar": {
             "outlinewidth": 0,
             "ticks": ""
            },
            "colorscale": [
             [
              0,
              "#0d0887"
             ],
             [
              0.1111111111111111,
              "#46039f"
             ],
             [
              0.2222222222222222,
              "#7201a8"
             ],
             [
              0.3333333333333333,
              "#9c179e"
             ],
             [
              0.4444444444444444,
              "#bd3786"
             ],
             [
              0.5555555555555556,
              "#d8576b"
             ],
             [
              0.6666666666666666,
              "#ed7953"
             ],
             [
              0.7777777777777778,
              "#fb9f3a"
             ],
             [
              0.8888888888888888,
              "#fdca26"
             ],
             [
              1,
              "#f0f921"
             ]
            ],
            "type": "histogram2d"
           }
          ],
          "histogram2dcontour": [
           {
            "colorbar": {
             "outlinewidth": 0,
             "ticks": ""
            },
            "colorscale": [
             [
              0,
              "#0d0887"
             ],
             [
              0.1111111111111111,
              "#46039f"
             ],
             [
              0.2222222222222222,
              "#7201a8"
             ],
             [
              0.3333333333333333,
              "#9c179e"
             ],
             [
              0.4444444444444444,
              "#bd3786"
             ],
             [
              0.5555555555555556,
              "#d8576b"
             ],
             [
              0.6666666666666666,
              "#ed7953"
             ],
             [
              0.7777777777777778,
              "#fb9f3a"
             ],
             [
              0.8888888888888888,
              "#fdca26"
             ],
             [
              1,
              "#f0f921"
             ]
            ],
            "type": "histogram2dcontour"
           }
          ],
          "mesh3d": [
           {
            "colorbar": {
             "outlinewidth": 0,
             "ticks": ""
            },
            "type": "mesh3d"
           }
          ],
          "parcoords": [
           {
            "line": {
             "colorbar": {
              "outlinewidth": 0,
              "ticks": ""
             }
            },
            "type": "parcoords"
           }
          ],
          "pie": [
           {
            "automargin": true,
            "type": "pie"
           }
          ],
          "scatter": [
           {
            "marker": {
             "colorbar": {
              "outlinewidth": 0,
              "ticks": ""
             }
            },
            "type": "scatter"
           }
          ],
          "scatter3d": [
           {
            "line": {
             "colorbar": {
              "outlinewidth": 0,
              "ticks": ""
             }
            },
            "marker": {
             "colorbar": {
              "outlinewidth": 0,
              "ticks": ""
             }
            },
            "type": "scatter3d"
           }
          ],
          "scattercarpet": [
           {
            "marker": {
             "colorbar": {
              "outlinewidth": 0,
              "ticks": ""
             }
            },
            "type": "scattercarpet"
           }
          ],
          "scattergeo": [
           {
            "marker": {
             "colorbar": {
              "outlinewidth": 0,
              "ticks": ""
             }
            },
            "type": "scattergeo"
           }
          ],
          "scattergl": [
           {
            "marker": {
             "colorbar": {
              "outlinewidth": 0,
              "ticks": ""
             }
            },
            "type": "scattergl"
           }
          ],
          "scattermapbox": [
           {
            "marker": {
             "colorbar": {
              "outlinewidth": 0,
              "ticks": ""
             }
            },
            "type": "scattermapbox"
           }
          ],
          "scatterpolar": [
           {
            "marker": {
             "colorbar": {
              "outlinewidth": 0,
              "ticks": ""
             }
            },
            "type": "scatterpolar"
           }
          ],
          "scatterpolargl": [
           {
            "marker": {
             "colorbar": {
              "outlinewidth": 0,
              "ticks": ""
             }
            },
            "type": "scatterpolargl"
           }
          ],
          "scatterternary": [
           {
            "marker": {
             "colorbar": {
              "outlinewidth": 0,
              "ticks": ""
             }
            },
            "type": "scatterternary"
           }
          ],
          "surface": [
           {
            "colorbar": {
             "outlinewidth": 0,
             "ticks": ""
            },
            "colorscale": [
             [
              0,
              "#0d0887"
             ],
             [
              0.1111111111111111,
              "#46039f"
             ],
             [
              0.2222222222222222,
              "#7201a8"
             ],
             [
              0.3333333333333333,
              "#9c179e"
             ],
             [
              0.4444444444444444,
              "#bd3786"
             ],
             [
              0.5555555555555556,
              "#d8576b"
             ],
             [
              0.6666666666666666,
              "#ed7953"
             ],
             [
              0.7777777777777778,
              "#fb9f3a"
             ],
             [
              0.8888888888888888,
              "#fdca26"
             ],
             [
              1,
              "#f0f921"
             ]
            ],
            "type": "surface"
           }
          ],
          "table": [
           {
            "cells": {
             "fill": {
              "color": "#EBF0F8"
             },
             "line": {
              "color": "white"
             }
            },
            "header": {
             "fill": {
              "color": "#C8D4E3"
             },
             "line": {
              "color": "white"
             }
            },
            "type": "table"
           }
          ]
         },
         "layout": {
          "annotationdefaults": {
           "arrowcolor": "#2a3f5f",
           "arrowhead": 0,
           "arrowwidth": 1
          },
          "coloraxis": {
           "colorbar": {
            "outlinewidth": 0,
            "ticks": ""
           }
          },
          "colorscale": {
           "diverging": [
            [
             0,
             "#8e0152"
            ],
            [
             0.1,
             "#c51b7d"
            ],
            [
             0.2,
             "#de77ae"
            ],
            [
             0.3,
             "#f1b6da"
            ],
            [
             0.4,
             "#fde0ef"
            ],
            [
             0.5,
             "#f7f7f7"
            ],
            [
             0.6,
             "#e6f5d0"
            ],
            [
             0.7,
             "#b8e186"
            ],
            [
             0.8,
             "#7fbc41"
            ],
            [
             0.9,
             "#4d9221"
            ],
            [
             1,
             "#276419"
            ]
           ],
           "sequential": [
            [
             0,
             "#0d0887"
            ],
            [
             0.1111111111111111,
             "#46039f"
            ],
            [
             0.2222222222222222,
             "#7201a8"
            ],
            [
             0.3333333333333333,
             "#9c179e"
            ],
            [
             0.4444444444444444,
             "#bd3786"
            ],
            [
             0.5555555555555556,
             "#d8576b"
            ],
            [
             0.6666666666666666,
             "#ed7953"
            ],
            [
             0.7777777777777778,
             "#fb9f3a"
            ],
            [
             0.8888888888888888,
             "#fdca26"
            ],
            [
             1,
             "#f0f921"
            ]
           ],
           "sequentialminus": [
            [
             0,
             "#0d0887"
            ],
            [
             0.1111111111111111,
             "#46039f"
            ],
            [
             0.2222222222222222,
             "#7201a8"
            ],
            [
             0.3333333333333333,
             "#9c179e"
            ],
            [
             0.4444444444444444,
             "#bd3786"
            ],
            [
             0.5555555555555556,
             "#d8576b"
            ],
            [
             0.6666666666666666,
             "#ed7953"
            ],
            [
             0.7777777777777778,
             "#fb9f3a"
            ],
            [
             0.8888888888888888,
             "#fdca26"
            ],
            [
             1,
             "#f0f921"
            ]
           ]
          },
          "colorway": [
           "#636efa",
           "#EF553B",
           "#00cc96",
           "#ab63fa",
           "#FFA15A",
           "#19d3f3",
           "#FF6692",
           "#B6E880",
           "#FF97FF",
           "#FECB52"
          ],
          "font": {
           "color": "#2a3f5f"
          },
          "geo": {
           "bgcolor": "white",
           "lakecolor": "white",
           "landcolor": "#E5ECF6",
           "showlakes": true,
           "showland": true,
           "subunitcolor": "white"
          },
          "hoverlabel": {
           "align": "left"
          },
          "hovermode": "closest",
          "mapbox": {
           "style": "light"
          },
          "paper_bgcolor": "white",
          "plot_bgcolor": "#E5ECF6",
          "polar": {
           "angularaxis": {
            "gridcolor": "white",
            "linecolor": "white",
            "ticks": ""
           },
           "bgcolor": "#E5ECF6",
           "radialaxis": {
            "gridcolor": "white",
            "linecolor": "white",
            "ticks": ""
           }
          },
          "scene": {
           "xaxis": {
            "backgroundcolor": "#E5ECF6",
            "gridcolor": "white",
            "gridwidth": 2,
            "linecolor": "white",
            "showbackground": true,
            "ticks": "",
            "zerolinecolor": "white"
           },
           "yaxis": {
            "backgroundcolor": "#E5ECF6",
            "gridcolor": "white",
            "gridwidth": 2,
            "linecolor": "white",
            "showbackground": true,
            "ticks": "",
            "zerolinecolor": "white"
           },
           "zaxis": {
            "backgroundcolor": "#E5ECF6",
            "gridcolor": "white",
            "gridwidth": 2,
            "linecolor": "white",
            "showbackground": true,
            "ticks": "",
            "zerolinecolor": "white"
           }
          },
          "shapedefaults": {
           "line": {
            "color": "#2a3f5f"
           }
          },
          "ternary": {
           "aaxis": {
            "gridcolor": "white",
            "linecolor": "white",
            "ticks": ""
           },
           "baxis": {
            "gridcolor": "white",
            "linecolor": "white",
            "ticks": ""
           },
           "bgcolor": "#E5ECF6",
           "caxis": {
            "gridcolor": "white",
            "linecolor": "white",
            "ticks": ""
           }
          },
          "title": {
           "x": 0.05
          },
          "xaxis": {
           "automargin": true,
           "gridcolor": "white",
           "linecolor": "white",
           "ticks": "",
           "title": {
            "standoff": 15
           },
           "zerolinecolor": "white",
           "zerolinewidth": 2
          },
          "yaxis": {
           "automargin": true,
           "gridcolor": "white",
           "linecolor": "white",
           "ticks": "",
           "title": {
            "standoff": 15
           },
           "zerolinecolor": "white",
           "zerolinewidth": 2
          }
         }
        }
       }
      },
      "text/html": [
       "<div>                            <div id=\"f9636936-741b-4eda-8c3e-3f49169ce3c9\" class=\"plotly-graph-div\" style=\"height:525px; width:100%;\"></div>            <script type=\"text/javascript\">                require([\"plotly\"], function(Plotly) {                    window.PLOTLYENV=window.PLOTLYENV || {};                                    if (document.getElementById(\"f9636936-741b-4eda-8c3e-3f49169ce3c9\")) {                    Plotly.newPlot(                        \"f9636936-741b-4eda-8c3e-3f49169ce3c9\",                        [{\"cells\": {\"values\": [[\"Wavelength\", \"Resolution\", \"Dispersion\", \"Throughput\", \"Signal\", \"Sky Background\", \"Sky brightness\", \"Dark Current\", \"Read Noise\", \"Total Noise\", \"S/N\", \"Total Exposure Time\", \"Max e- per pixel\"], [1.25, 1.7, 1.03, 0.24900125940536552, 2191.1524325112136, 1049.1938789033798, 16.328557, 50.0, 31.595328, 75.631839, 25.134175, 3600, 511037.325927], [\"micron\", \"angstrom\", \"angstrom/pixel\", \"\", \"electrons per spectral pixel\", \"electrons per spectral pixel\", \"AB mag per sq. arcsec\", \"electrons per spectral pixel\", \"electrons per spectral pixel\", \"electrons per spectral pixel\", \"per spectral pixel\", \"seconds\", \"electrons per pixel\"]]}, \"header\": {\"values\": [\"Variable\", \"Value\", \"Units\"]}, \"type\": \"table\"}],                        {\"template\": {\"data\": {\"bar\": [{\"error_x\": {\"color\": \"#2a3f5f\"}, \"error_y\": {\"color\": \"#2a3f5f\"}, \"marker\": {\"line\": {\"color\": \"#E5ECF6\", \"width\": 0.5}}, \"type\": \"bar\"}], \"barpolar\": [{\"marker\": {\"line\": {\"color\": \"#E5ECF6\", \"width\": 0.5}}, \"type\": \"barpolar\"}], \"carpet\": [{\"aaxis\": {\"endlinecolor\": \"#2a3f5f\", \"gridcolor\": \"white\", \"linecolor\": \"white\", \"minorgridcolor\": \"white\", \"startlinecolor\": \"#2a3f5f\"}, \"baxis\": {\"endlinecolor\": \"#2a3f5f\", \"gridcolor\": \"white\", \"linecolor\": \"white\", \"minorgridcolor\": \"white\", \"startlinecolor\": \"#2a3f5f\"}, \"type\": \"carpet\"}], \"choropleth\": [{\"colorbar\": {\"outlinewidth\": 0, \"ticks\": \"\"}, \"type\": \"choropleth\"}], \"contour\": [{\"colorbar\": {\"outlinewidth\": 0, \"ticks\": \"\"}, \"colorscale\": [[0.0, \"#0d0887\"], [0.1111111111111111, \"#46039f\"], [0.2222222222222222, \"#7201a8\"], [0.3333333333333333, \"#9c179e\"], [0.4444444444444444, \"#bd3786\"], [0.5555555555555556, \"#d8576b\"], [0.6666666666666666, \"#ed7953\"], [0.7777777777777778, \"#fb9f3a\"], [0.8888888888888888, \"#fdca26\"], [1.0, \"#f0f921\"]], \"type\": \"contour\"}], \"contourcarpet\": [{\"colorbar\": {\"outlinewidth\": 0, \"ticks\": \"\"}, \"type\": \"contourcarpet\"}], \"heatmap\": [{\"colorbar\": {\"outlinewidth\": 0, \"ticks\": \"\"}, \"colorscale\": [[0.0, \"#0d0887\"], [0.1111111111111111, \"#46039f\"], [0.2222222222222222, \"#7201a8\"], [0.3333333333333333, \"#9c179e\"], [0.4444444444444444, \"#bd3786\"], [0.5555555555555556, \"#d8576b\"], [0.6666666666666666, \"#ed7953\"], [0.7777777777777778, \"#fb9f3a\"], [0.8888888888888888, \"#fdca26\"], [1.0, \"#f0f921\"]], \"type\": \"heatmap\"}], \"heatmapgl\": [{\"colorbar\": {\"outlinewidth\": 0, \"ticks\": \"\"}, \"colorscale\": [[0.0, \"#0d0887\"], [0.1111111111111111, \"#46039f\"], [0.2222222222222222, \"#7201a8\"], [0.3333333333333333, \"#9c179e\"], [0.4444444444444444, \"#bd3786\"], [0.5555555555555556, \"#d8576b\"], [0.6666666666666666, \"#ed7953\"], [0.7777777777777778, \"#fb9f3a\"], [0.8888888888888888, \"#fdca26\"], [1.0, \"#f0f921\"]], \"type\": \"heatmapgl\"}], \"histogram\": [{\"marker\": {\"colorbar\": {\"outlinewidth\": 0, \"ticks\": \"\"}}, \"type\": \"histogram\"}], \"histogram2d\": [{\"colorbar\": {\"outlinewidth\": 0, \"ticks\": \"\"}, \"colorscale\": [[0.0, \"#0d0887\"], [0.1111111111111111, \"#46039f\"], [0.2222222222222222, \"#7201a8\"], [0.3333333333333333, \"#9c179e\"], [0.4444444444444444, \"#bd3786\"], [0.5555555555555556, \"#d8576b\"], [0.6666666666666666, \"#ed7953\"], [0.7777777777777778, \"#fb9f3a\"], [0.8888888888888888, \"#fdca26\"], [1.0, \"#f0f921\"]], \"type\": \"histogram2d\"}], \"histogram2dcontour\": [{\"colorbar\": {\"outlinewidth\": 0, \"ticks\": \"\"}, \"colorscale\": [[0.0, \"#0d0887\"], [0.1111111111111111, \"#46039f\"], [0.2222222222222222, \"#7201a8\"], [0.3333333333333333, \"#9c179e\"], [0.4444444444444444, \"#bd3786\"], [0.5555555555555556, \"#d8576b\"], [0.6666666666666666, \"#ed7953\"], [0.7777777777777778, \"#fb9f3a\"], [0.8888888888888888, \"#fdca26\"], [1.0, \"#f0f921\"]], \"type\": \"histogram2dcontour\"}], \"mesh3d\": [{\"colorbar\": {\"outlinewidth\": 0, \"ticks\": \"\"}, \"type\": \"mesh3d\"}], \"parcoords\": [{\"line\": {\"colorbar\": {\"outlinewidth\": 0, \"ticks\": \"\"}}, \"type\": \"parcoords\"}], \"pie\": [{\"automargin\": true, \"type\": \"pie\"}], \"scatter\": [{\"marker\": {\"colorbar\": {\"outlinewidth\": 0, \"ticks\": \"\"}}, \"type\": \"scatter\"}], \"scatter3d\": [{\"line\": {\"colorbar\": {\"outlinewidth\": 0, \"ticks\": \"\"}}, \"marker\": {\"colorbar\": {\"outlinewidth\": 0, \"ticks\": \"\"}}, \"type\": \"scatter3d\"}], \"scattercarpet\": [{\"marker\": {\"colorbar\": {\"outlinewidth\": 0, \"ticks\": \"\"}}, \"type\": \"scattercarpet\"}], \"scattergeo\": [{\"marker\": {\"colorbar\": {\"outlinewidth\": 0, \"ticks\": \"\"}}, \"type\": \"scattergeo\"}], \"scattergl\": [{\"marker\": {\"colorbar\": {\"outlinewidth\": 0, \"ticks\": \"\"}}, \"type\": \"scattergl\"}], \"scattermapbox\": [{\"marker\": {\"colorbar\": {\"outlinewidth\": 0, \"ticks\": \"\"}}, \"type\": \"scattermapbox\"}], \"scatterpolar\": [{\"marker\": {\"colorbar\": {\"outlinewidth\": 0, \"ticks\": \"\"}}, \"type\": \"scatterpolar\"}], \"scatterpolargl\": [{\"marker\": {\"colorbar\": {\"outlinewidth\": 0, \"ticks\": \"\"}}, \"type\": \"scatterpolargl\"}], \"scatterternary\": [{\"marker\": {\"colorbar\": {\"outlinewidth\": 0, \"ticks\": \"\"}}, \"type\": \"scatterternary\"}], \"surface\": [{\"colorbar\": {\"outlinewidth\": 0, \"ticks\": \"\"}, \"colorscale\": [[0.0, \"#0d0887\"], [0.1111111111111111, \"#46039f\"], [0.2222222222222222, \"#7201a8\"], [0.3333333333333333, \"#9c179e\"], [0.4444444444444444, \"#bd3786\"], [0.5555555555555556, \"#d8576b\"], [0.6666666666666666, \"#ed7953\"], [0.7777777777777778, \"#fb9f3a\"], [0.8888888888888888, \"#fdca26\"], [1.0, \"#f0f921\"]], \"type\": \"surface\"}], \"table\": [{\"cells\": {\"fill\": {\"color\": \"#EBF0F8\"}, \"line\": {\"color\": \"white\"}}, \"header\": {\"fill\": {\"color\": \"#C8D4E3\"}, \"line\": {\"color\": \"white\"}}, \"type\": \"table\"}]}, \"layout\": {\"annotationdefaults\": {\"arrowcolor\": \"#2a3f5f\", \"arrowhead\": 0, \"arrowwidth\": 1}, \"coloraxis\": {\"colorbar\": {\"outlinewidth\": 0, \"ticks\": \"\"}}, \"colorscale\": {\"diverging\": [[0, \"#8e0152\"], [0.1, \"#c51b7d\"], [0.2, \"#de77ae\"], [0.3, \"#f1b6da\"], [0.4, \"#fde0ef\"], [0.5, \"#f7f7f7\"], [0.6, \"#e6f5d0\"], [0.7, \"#b8e186\"], [0.8, \"#7fbc41\"], [0.9, \"#4d9221\"], [1, \"#276419\"]], \"sequential\": [[0.0, \"#0d0887\"], [0.1111111111111111, \"#46039f\"], [0.2222222222222222, \"#7201a8\"], [0.3333333333333333, \"#9c179e\"], [0.4444444444444444, \"#bd3786\"], [0.5555555555555556, \"#d8576b\"], [0.6666666666666666, \"#ed7953\"], [0.7777777777777778, \"#fb9f3a\"], [0.8888888888888888, \"#fdca26\"], [1.0, \"#f0f921\"]], \"sequentialminus\": [[0.0, \"#0d0887\"], [0.1111111111111111, \"#46039f\"], [0.2222222222222222, \"#7201a8\"], [0.3333333333333333, \"#9c179e\"], [0.4444444444444444, \"#bd3786\"], [0.5555555555555556, \"#d8576b\"], [0.6666666666666666, \"#ed7953\"], [0.7777777777777778, \"#fb9f3a\"], [0.8888888888888888, \"#fdca26\"], [1.0, \"#f0f921\"]]}, \"colorway\": [\"#636efa\", \"#EF553B\", \"#00cc96\", \"#ab63fa\", \"#FFA15A\", \"#19d3f3\", \"#FF6692\", \"#B6E880\", \"#FF97FF\", \"#FECB52\"], \"font\": {\"color\": \"#2a3f5f\"}, \"geo\": {\"bgcolor\": \"white\", \"lakecolor\": \"white\", \"landcolor\": \"#E5ECF6\", \"showlakes\": true, \"showland\": true, \"subunitcolor\": \"white\"}, \"hoverlabel\": {\"align\": \"left\"}, \"hovermode\": \"closest\", \"mapbox\": {\"style\": \"light\"}, \"paper_bgcolor\": \"white\", \"plot_bgcolor\": \"#E5ECF6\", \"polar\": {\"angularaxis\": {\"gridcolor\": \"white\", \"linecolor\": \"white\", \"ticks\": \"\"}, \"bgcolor\": \"#E5ECF6\", \"radialaxis\": {\"gridcolor\": \"white\", \"linecolor\": \"white\", \"ticks\": \"\"}}, \"scene\": {\"xaxis\": {\"backgroundcolor\": \"#E5ECF6\", \"gridcolor\": \"white\", \"gridwidth\": 2, \"linecolor\": \"white\", \"showbackground\": true, \"ticks\": \"\", \"zerolinecolor\": \"white\"}, \"yaxis\": {\"backgroundcolor\": \"#E5ECF6\", \"gridcolor\": \"white\", \"gridwidth\": 2, \"linecolor\": \"white\", \"showbackground\": true, \"ticks\": \"\", \"zerolinecolor\": \"white\"}, \"zaxis\": {\"backgroundcolor\": \"#E5ECF6\", \"gridcolor\": \"white\", \"gridwidth\": 2, \"linecolor\": \"white\", \"showbackground\": true, \"ticks\": \"\", \"zerolinecolor\": \"white\"}}, \"shapedefaults\": {\"line\": {\"color\": \"#2a3f5f\"}}, \"ternary\": {\"aaxis\": {\"gridcolor\": \"white\", \"linecolor\": \"white\", \"ticks\": \"\"}, \"baxis\": {\"gridcolor\": \"white\", \"linecolor\": \"white\", \"ticks\": \"\"}, \"bgcolor\": \"#E5ECF6\", \"caxis\": {\"gridcolor\": \"white\", \"linecolor\": \"white\", \"ticks\": \"\"}}, \"title\": {\"x\": 0.05}, \"xaxis\": {\"automargin\": true, \"gridcolor\": \"white\", \"linecolor\": \"white\", \"ticks\": \"\", \"title\": {\"standoff\": 15}, \"zerolinecolor\": \"white\", \"zerolinewidth\": 2}, \"yaxis\": {\"automargin\": true, \"gridcolor\": \"white\", \"linecolor\": \"white\", \"ticks\": \"\", \"title\": {\"standoff\": 15}, \"zerolinecolor\": \"white\", \"zerolinewidth\": 2}}}},                        {\"responsive\": true}                    ).then(function(){\n",
       "                            \n",
       "var gd = document.getElementById('f9636936-741b-4eda-8c3e-3f49169ce3c9');\n",
       "var x = new MutationObserver(function (mutations, observer) {{\n",
       "        var display = window.getComputedStyle(gd).display;\n",
       "        if (!display || display === 'none') {{\n",
       "            console.log([gd, 'removed!']);\n",
       "            Plotly.purge(gd);\n",
       "            observer.disconnect();\n",
       "        }}\n",
       "}});\n",
       "\n",
       "// Listen for the removal of the full notebook cells\n",
       "var notebookContainer = gd.closest('#notebook-container');\n",
       "if (notebookContainer) {{\n",
       "    x.observe(notebookContainer, {childList: true});\n",
       "}}\n",
       "\n",
       "// Listen for the clearing of the current output cell\n",
       "var outputEl = gd.closest('.output');\n",
       "if (outputEl) {{\n",
       "    x.observe(outputEl, {childList: true});\n",
       "}}\n",
       "\n",
       "                        })                };                });            </script>        </div>"
      ]
     },
     "metadata": {},
     "output_type": "display_data"
    },
    {
     "data": {
      "image/png": "[encoded data removed]",
      "text/plain": [
       "<Figure size 432x288 with 1 Axes>"
      ]
     },
     "metadata": {
      "needs_background": "light"
     },
     "output_type": "display_data"
    }
   ],
   "source": [
    "# test out the function: test inputs come from example.py and \n",
    "\n",
    "# userinput = {\"telescope\": \"ATLAS_PROBE\",  #choices are \"SOAR\", \"Gemini\", \"ATLAS_PROBE\" \n",
    "#              \"instrument\": \"ATLAS\",#choices are \"SAMOS\", \"SCORPIO\", ,GMOX\", ATLAS\"\n",
    "#             \"band\": \"atlas_IR\",      #other choices are \n",
    "#                                   # SAMOS: \"LowRed\", \"LowBlue\", \"HighRed\", \"HighBlue\"\n",
    "#                                   # SCORPIO: \"g\", \"r\", \"i\", \"z\", \"Y\", \"J\", \"H\", \"K\"\n",
    "#                                   # GMOX: \"Blue\", \"Red\", \"J\", \"H\", \"K\"\n",
    "#                                   # ATLAS: \"atlas_IR\"\n",
    "#             \"ADC_is_in\": False,    # SCORPIO only, either True of False\n",
    "#             \"time\":3600,          #exposure time (s)\n",
    "#             \"slit_width\":0.75,    #(arcsec) - Other choices are \n",
    "#                                   # SAMOS: 0.167, 0.333, 0.500, 0.667, 0.833, 1.000\n",
    "#                                   # SCORPIO: 0.36, 0.54, 0.72, 1.08, 1.44, 2.16, 4.32\n",
    "#                                   # GMOX: 0.083, 0.167, 0.250, 0.333, 0.417, 0.500, 0.583, 0.667, 0.750, 0.833, 0.917, 1.00 \n",
    "#                                   # ATLAS: 0.75             \n",
    "#             \"Nreads\":16,           # for IRs, RON goes with SQRT(Nreads), so this is the Nr of Fowler pairs\n",
    "#                                   # for CCDs  (all VIS channels) use Nreads = 1 \n",
    "#             \"Detector\": \"IR_SCA\", # either IR_SCA or CCD - will be checked later\n",
    "#             \"theta\":0.7,          # extension of the source in the cross dispersion direction (arcsec) \n",
    "#             \"nExp\":6,             # Nr of frames; increases RON, helps saturation, always dither=2 if >0\n",
    "#             \"lineF\":-99,          #use -99 for a dummy value\n",
    "#             \"lineW\":-99,          #use -99 for a dummy value\n",
    "#             \"FWHM\":200,           #Width of the line as emitted by the source, in km/s \n",
    "#             \"z\":0,\n",
    "#             \"specFile\":\"./templates/Galaxy_Kmag_19_Haflux_5e-17_ebmv_0_z_2_highResSpec_obs_redshift.txt\", \n",
    "#             \"mag\":19,\n",
    "#             \"NormalizeUserSpec\":True,\n",
    "#             \"InputInAngstroms\":True,\n",
    "#             \"SN\":-99,             # = -99 to calculate; othersise set \"SN\"  > 0 to extract time needed to reach the given SNR\n",
    "#             }\n",
    "\n",
    "# userinput = {\"telescope\": \"SOAR\",  #choices are \"SOAR\", \"Gemini\", \"ATLAS_PROBE\" \n",
    "#              \"instrument\": \"SAMOS\",#choices are \"SAMOS\", \"SCORPIO\", ,GMOX\", ATLAS\"\n",
    "#             \"band\": \"LowRed\",      #other choices are \n",
    "#                                   # SAMOS: \"LowRed\", \"LowBlue\", \"HighRed\", \"HighBlue\"\n",
    "#                                   # SCORPIO: \"g\", \"r\", \"i\", \"z\", \"Y\", \"J\", \"H\", \"K\"\n",
    "#                                   # GMOX: \"Blue\", \"Red\", \"J\", \"H\", \"K\"\n",
    "#                                   # ATLAS: \"atlas_IR\"\n",
    "#             \"ADC_is_in\": False,    # SCORPIO only, either True of False\n",
    "#             \"time\":3600,          #exposure time (s)\n",
    "#             \"slit_width\":0.333,    #(arcsec) - Other choices are \n",
    "#                                   # SAMOS: 0.167, 0.333, 0.500, 0.667, 0.833, 1.000\n",
    "#                                   # SCORPIO: 0.36, 0.54, 0.72, 1.08, 1.44, 2.16, 4.32\n",
    "#                                   # GMOX: 0.083, 0.167, 0.250, 0.333, 0.417, 0.500, 0.583, 0.667, 0.750, 0.833, 0.917, 1.00 \n",
    "#                                   # ATLAS: 0.75             \n",
    "#             \"Detector\": \"CCD\",    # either IR_SCA or CCD - will be checked later\n",
    "#             \"Nreads\":1,           # for IRs, RON goes with SQRT(Nreads), so this is the Nr of Fowler pairs\n",
    "#                                   # for CCDs  (all VIS channels) use Nreads = 1 \n",
    "#             \"theta\":0.5,          # extension of the source in the cross dispersion direction (arcsec) \n",
    "#             \"nExp\":3,             # Nr of frames; increases RON, helps saturation, always dither=2 if >0\n",
    "#             \"lineF\":-99,          #use -99 for a dummy value\n",
    "#             \"lineW\":-99,          #use -99 for a dummy value\n",
    "#             \"FWHM\":200,           #Width of the line as emitted by the source, in km/s \n",
    "#             \"z\":0,\n",
    "#             \"specFile\":\"./templates/Galaxy_Kmag_19_Haflux_5e-17_ebmv_0_z_2_highResSpec_obs_redshift.txt\", \n",
    "#             \"mag\":20,\n",
    "#             \"NormalizeUserSpec\":True,\n",
    "#             \"InputInAngstroms\":True,\n",
    "#             \"SN\":-99,             # = -99 to calculate; othersise set \"SN\"  > 0 to extract time needed to reach the given SNR\n",
    "#             }\n",
    "\n",
    "userinput = {\"telescope\": \"Gemini\",  #choices are \"SOAR\", \"Gemini\", \"ATLAS_PROBE\" \n",
    "             \"instrument\": \"SCORPIO\",#choices are \"SAMOS\", \"SCORPIO\", ,GMOX\", ATLAS\"\n",
    "            \"band\": \"J\",      #other choices are \n",
    "                                  # SAMOS: \"LowRed\", \"LowBlue\", \"HighRed\", \"HighBlue\"\n",
    "                                  # SCORPIO: \"g\", \"r\", \"i\", \"z\", \"Y\", \"J\", \"H\", \"K\"\n",
    "                                  # GMOX: \"Blue\", \"Red\", \"J\", \"H\", \"K\"\n",
    "                                  # ATLAS: \"atlas_IR\"\n",
    "            \"ADC_is_in\": True,    # SCORPIO only, either True of False\n",
    "            \"slit_width\":0.54,    #(arcsec) - Other choices are \n",
    "                                  # SAMOS: 0.167, 0.333, 0.500, 0.667, 0.833, 1.000\n",
    "                                  # SCORPIO: 0.36, 0.54, 0.72, 1.08, 1.44, 2.16, 4.32\n",
    "                                  # GMOX: 0.083, 0.167, 0.250, 0.333, 0.417, 0.500, 0.583, 0.667, 0.750, 0.833, 0.917, 1.00 \n",
    "                                  # ATLAS: 0.75             \n",
    "            \"time\":3600,          #exposure time (s)\n",
    "            \"nExp\":5,             # Nr of frames; increases RON, helps saturation, always dither=2 if >0\n",
    "            \"Nreads\":1,           # for IRs, RON goes with SQRT(Nreads), so this is the Nr of Fowler pairs\n",
    "                                  # for CCDs  (all VIS channels) use Nreads = 1 \n",
    "            \"Detector\": \"IR_SCA\",    # either IR_SCA or CCD - will be checked later\n",
    "            \"frame_readout_time\": 0.5, #seconds\n",
    "            \"nr_of_averaged_frames\": 8,\n",
    "            \"nr_of_skipped_frames\": 0,\n",
    "            \"nr_of_groups\": 16,   #groups in a ramp\n",
    "            \"theta\":0.5,          # extension of the source in the cross dispersion direction (arcsec) \n",
    "            \"lineF\":-99,          #use -99 for a dummy value\n",
    "            \"lineW\":-99,          #use -99 for a dummy value\n",
    "            \"FWHM\":200,           #Width of the line as emitted by the source, in km/s \n",
    "            \"z\":0,\n",
    "            \"specFile\":\"./templates/Galaxy_Kmag_19_Haflux_5e-17_ebmv_0_z_2_highResSpec_obs_redshift.txt\", \n",
    "            \"mag\":20,\n",
    "            \"NormalizeUserSpec\":True,\n",
    "            \"InputInAngstroms\":True,\n",
    "            \"SN\":-99,             # = -99 to calculate; othersise set \"SN\"  > 0 to extract time needed to reach the given SNR\n",
    "            }\n",
    "gotit = set_telescope_instrument(userinput)\n",
    "telescope=gotit['telescope']\n",
    "instrument=gotit['instrument']\n",
    "\n",
    "#telescope = dict(gotit)\n",
    "#instrument = dict(gotit)\n",
    "#print(telescope)\n",
    "#print(instrument)\n",
    "etc_output = atlasIR_etc_serena(userinput)\n",
    "\n",
    "fig = go.Figure(data=[go.Table(header=dict(values=['Variable', 'Value', 'Units']),\n",
    "                 cells=dict(values=[\n",
    "                     etc_output[\"summary_struct\"]['quant'],\n",
    "                     etc_output[\"summary_struct\"]['value'],\n",
    "                     etc_output[\"summary_struct\"]['unit']]))\n",
    "                     ])\n",
    "\n",
    "fig.show()\n",
    "\n"
   ]
  },
  {
   "cell_type": "code",
   "execution_count": 86,
   "metadata": {},
   "outputs": [],
   "source": [
    "bandpass=etc_output['spec_struct'][\"spec_bandpass\"]\n",
    "wl_0=bandpass[0,0]\n",
    "wl_1=bandpass[1,0]\n",
    "\n",
    "my_dict = dict(values=etc_output[\"spec_struct\"]['wave'])\n",
    "df = pd.DataFrame(data=list(my_dict.items()),columns = ['values','wl'])\n",
    "wl = df['wl'][0]#wl#.plot()\n",
    "\n",
    "my_dict = dict(values=etc_output[\"spec_struct\"]['tp'])\n",
    "df = pd.DataFrame(data=list(my_dict.items()),columns = ['values','tp'])\n",
    "tp = df['tp'][0]#wl#.plot()\n",
    "\n",
    "my_dict = dict(values=etc_output[\"spec_struct\"]['bandpass'])\n",
    "df = pd.DataFrame(data=list(my_dict.items()),columns = ['values','bandpass'])\n",
    "bandpass = df['bandpass'][0]#wl#.plot()\n",
    "\n",
    "my_dict = dict(values=etc_output[\"spec_struct\"]['bk'])\n",
    "df = pd.DataFrame(data=list(my_dict.items()),columns = ['values','bk'])\n",
    "bk = df['bk'][0]#wl#.plot()\n",
    "\n",
    "my_dict = dict(values=etc_output[\"spec_struct\"]['signal'])\n",
    "df = pd.DataFrame(data=list(my_dict.items()),columns = ['values','signal'])\n",
    "signal = df['signal'][0]#wl#.plot()\n",
    "\n",
    "my_dict = dict(values=etc_output[\"spec_struct\"]['noise'])\n",
    "df = pd.DataFrame(data=list(my_dict.items()),columns = ['values','noise'])\n",
    "noise = df['noise'][0]#wl#.plot()\n",
    "\n",
    "my_dict = dict(values=etc_output[\"spec_struct\"]['sn'])\n",
    "df = pd.DataFrame(data=list(my_dict.items()),columns = ['values','sn'])\n",
    "sn = df['sn'][0]#wl#.plot()"
   ]
  },
  {
   "cell_type": "code",
   "execution_count": 87,
   "metadata": {},
   "outputs": [],
   "source": [
    "# For the plots, extract the arrays\n",
    "bandpass=etc_output['spec_struct'][\"spec_bandpass\"]\n",
    "wl_0=bandpass[0,0]\n",
    "wl_1=bandpass[1,0]\n",
    "\n",
    "my_dict = dict(values=etc_output[\"spec_struct\"]['wave'])\n",
    "df = pd.DataFrame(data=list(my_dict.items()),columns = ['values','wl'])\n",
    "wl = df['wl'][0]#wl#.plot()\n",
    "\n",
    "my_dict = dict(values=etc_output[\"spec_struct\"]['tp'])\n",
    "df = pd.DataFrame(data=list(my_dict.items()),columns = ['values','tp'])\n",
    "tp = df['tp'][0]#wl#.plot()\n",
    "\n",
    "my_dict = dict(values=etc_output[\"spec_struct\"]['bandpass'])\n",
    "df = pd.DataFrame(data=list(my_dict.items()),columns = ['values','bandpass'])\n",
    "bandpass = df['bandpass'][0]#wl#.plot()\n",
    "\n",
    "my_dict = dict(values=etc_output[\"spec_struct\"]['bk'])\n",
    "df = pd.DataFrame(data=list(my_dict.items()),columns = ['values','bk'])\n",
    "bk = df['bk'][0]#wl#.plot()\n",
    "\n",
    "my_dict = dict(values=etc_output[\"spec_struct\"]['signal'])\n",
    "df = pd.DataFrame(data=list(my_dict.items()),columns = ['values','signal'])\n",
    "signal = df['signal'][0]#wl#.plot()\n",
    "\n",
    "my_dict = dict(values=etc_output[\"spec_struct\"]['noise'])\n",
    "df = pd.DataFrame(data=list(my_dict.items()),columns = ['values','noise'])\n",
    "noise = df['noise'][0]#wl#.plot()\n",
    "\n",
    "my_dict = dict(values=etc_output[\"spec_struct\"]['sn'])\n",
    "df = pd.DataFrame(data=list(my_dict.items()),columns = ['values','sn'])\n",
    "sn = df['sn'][0]#wl#.plot()"
   ]
  },
  {
   "cell_type": "code",
   "execution_count": 88,
   "metadata": {
    "scrolled": true
   },
   "outputs": [
    {
     "data": {
      "text/plain": [
       "<matplotlib.legend.Legend at 0x11e0e3dd8>"
      ]
     },
     "execution_count": 88,
     "metadata": {},
     "output_type": "execute_result"
    },
    {
     "data": {
      "image/png": "[encoded data removed]",
      "text/plain": [
       "<Figure size 1440x720 with 6 Axes>"
      ]
     },
     "metadata": {
      "needs_background": "light"
     },
     "output_type": "display_data"
    }
   ],
   "source": [
    "fig, axs = plt.subplots(2, 3,figsize=(20, 10))\n",
    "axs[0, 0].plot(wl,tp,label='telescope throughput')\n",
    "axs[0, 0].set_xlabel('wavelength (micron)')\n",
    "axs[0, 0].set_xlim([wl_0,wl_1])\n",
    "axs[0, 0].legend()\n",
    "axs[0, 1].plot(wl,bandpass,label='bandpass')\n",
    "axs[0, 1].set_xlabel('wavelength (micron)')\n",
    "axs[0, 1].set_xlim([wl_0,wl_1])\n",
    "axs[0, 1].legend()\n",
    "axs[0, 2].plot(wl,bk,label='background')\n",
    "axs[0, 2].set_xlabel('wavelength (micron)')\n",
    "axs[0, 2].set_ylabel('electrons/pixel')\n",
    "axs[0, 2].set_xlim([wl_0,wl_1])\n",
    "axs[0, 2].legend()\n",
    "#axs[1, 0].plot(wl,sig,label='sig')\n",
    "#axs[1, 0].legend()\n",
    "axs[1, 0].plot(wl,signal,label='signal')\n",
    "axs[1, 0].set_xlabel('wavelength (micron)')\n",
    "axs[1, 0].set_ylabel('electrons/pixel')\n",
    "axs[1, 0].set_xlim([wl_0,wl_1])\n",
    "axs[1, 0].legend()\n",
    "axs[1, 1].plot(wl,noise,label='noise')\n",
    "axs[1, 1].set_xlabel('wavelength (micron)')\n",
    "axs[1, 1].set_ylabel('electrons/pixel')\n",
    "axs[1, 1].set_xlim([wl_0,wl_1])\n",
    "axs[1, 1].legend()\n",
    "axs[1, 2].plot(wl,sn,label='sn')\n",
    "axs[1, 2].set_xlabel('wavelength (micron)')\n",
    "axs[1, 2].set_ylabel('electrons/pixel')\n",
    "axs[1, 2].set_xlim([wl_0,wl_1])\n",
    "axs[1, 2].legend()"
   ]
  },
  {
   "cell_type": "code",
   "execution_count": 89,
   "metadata": {},
   "outputs": [],
   "source": [
    "#print(signal,noise)\n",
    "random_noise = np.random.randn(len(signal))*noise\n",
    "example=signal+random_noise\n",
    "#print(np.random.randn(len(signal)))"
   ]
  },
  {
   "cell_type": "code",
   "execution_count": 90,
   "metadata": {},
   "outputs": [
    {
     "data": {
      "image/png": "[encoded data removed]",
      "text/plain": [
       "<Figure size 1440x360 with 1 Axes>"
      ]
     },
     "metadata": {
      "needs_background": "light"
     },
     "output_type": "display_data"
    }
   ],
   "source": [
    "plt.figure(figsize=(20,5))\n",
    "plt.plot(wl,example/tp)\n",
    "mmm=np.median(example)\n",
    "sss=np\n",
    "plt.xlim([wl_0,wl_1])\n",
    "plt.show()"
   ]
  },
  {
   "cell_type": "code",
   "execution_count": 91,
   "metadata": {},
   "outputs": [
    {
     "data": {
      "text/plain": [
       "<matplotlib.legend.Legend at 0x12308a438>"
      ]
     },
     "execution_count": 91,
     "metadata": {},
     "output_type": "execute_result"
    },
    {
     "data": {
      "image/png": "[encoded data removed]",
      "text/plain": [
       "<Figure size 1440x360 with 1 Axes>"
      ]
     },
     "metadata": {
      "needs_background": "light"
     },
     "output_type": "display_data"
    }
   ],
   "source": [
    "filtered_data = sigma_clip(example/tp, sigma=3, maxiters=1, stdfunc=mad_std)\n",
    "\n",
    "plt.figure(figsize=(20,5))\n",
    "plt.xlim([wl_0,wl_1])\n",
    "#plt.ylim([0,max(filtered_data)])\n",
    "plt.plot(wl[filtered_data.mask], example[filtered_data.mask], 'x',\n",
    "         color='#d62728', label=\"rejected data\")\n",
    "plt.plot(wl, filtered_data, color='blue', label=\"good data\")\n",
    "plt.xlabel('x')\n",
    "plt.ylabel('y')\n",
    "plt.legend(loc=2, numpoints=1)\n"
   ]
  },
  {
   "cell_type": "code",
   "execution_count": 92,
   "metadata": {},
   "outputs": [
    {
     "data": {
      "image/png": "[encoded data removed]",
      "text/plain": [
       "<Figure size 1440x360 with 1 Axes>"
      ]
     },
     "metadata": {
      "needs_background": "light"
     },
     "output_type": "display_data"
    }
   ],
   "source": [
    "plt.figure(figsize=(20,5))\n",
    "plt.plot(userspec[:,0],userspec[:,1])\n",
    "#plt.xlim([wl_0,wl_1])\n",
    "plt.xlim([wl_0*1E4,wl_1*1E4])\n",
    "plt.show()"
   ]
  },
  {
   "cell_type": "code",
   "execution_count": null,
   "metadata": {},
   "outputs": [],
   "source": []
  },
  {
   "cell_type": "code",
   "execution_count": null,
   "metadata": {},
   "outputs": [],
   "source": []
  }
 ],
 "metadata": {
  "kernelspec": {
   "display_name": "Python 3",
   "language": "python",
   "name": "python3"
  },
  "language_info": {
   "codemirror_mode": {
    "name": "ipython",
    "version": 3
   },
   "file_extension": ".py",
   "mimetype": "text/x-python",
   "name": "python",
   "nbconvert_exporter": "python",
   "pygments_lexer": "ipython3",
   "version": "3.7.6"
  }
 },
 "nbformat": 4,
 "nbformat_minor": 4
}
