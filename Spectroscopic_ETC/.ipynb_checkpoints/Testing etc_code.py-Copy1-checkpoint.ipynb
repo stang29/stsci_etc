{
 "cells": [
  {
   "cell_type": "code",
   "execution_count": 6,
   "metadata": {},
   "outputs": [],
   "source": [
    "# everything from here on is copied or modified from etc_code.py\n",
    "\n",
    "import matplotlib.pyplot as plt\n",
    "import matplotlib as mpl\n",
    "import numpy as np\n",
    "import os\n",
    "from astropy.io import ascii\n",
    "from astropy.table import Table, Column, MaskedColumn\n"
   ]
  },
  {
   "cell_type": "code",
   "execution_count": 7,
   "metadata": {},
   "outputs": [],
   "source": [
    "os.environ['ATLAS_ETC_PATH']=\"/Users/nanatang/Documents/GitHub/stsci_etc/Spectroscopic_ETC/atlas_etc-master\"\n"
   ]
  },
  {
   "cell_type": "code",
   "execution_count": 8,
   "metadata": {},
   "outputs": [],
   "source": [
    "###### HELPER FUNCTIONS #######\n",
    "\n",
    "## Read parameter file\n",
    "# These files have the \"SExtractor-type\" format (key val comment)\n",
    "# Returns a dictionary with key and value\n",
    "def read_par_file(filename):\n",
    "    '''\n",
    "    This function reads the telescope parameter file and outputs a dictionary with (key,value). \\\\\n",
    "    USAGE: read_par_file(filename) where filename is the name of the parameter file to read\n",
    "    '''\n",
    "    with open(filename , \"r\") as f:\n",
    "        lines = f.readlines()\n",
    "    \n",
    "\n",
    "    # replace tab and line break\n",
    "    lines = [line.replace(\"\\t\",\"  \").replace(\"\\n\", \"\") for line in lines ] \n",
    "\n",
    "    # get lines that are not empty or commented out\n",
    "    lines = [ line for line in lines if line != \"\" if line[0] != \"#\" ] \n",
    "\n",
    "\n",
    "    # extract key, val, comment (if exist)\n",
    "    extract = dict()\n",
    "    for line in lines:\n",
    "        try:\n",
    "            key = line.split()[0]\n",
    "            val = line.split()[1]\n",
    "            try: # check if the value can be interpreted as float\n",
    "                val = float(line.split()[1])\n",
    "            except: # if not, make it a string\n",
    "                val = str(line.split()[1])\n",
    "            extract[key] = val\n",
    "        except:\n",
    "            print(\"Cannot interpret/read the line %s\" & line)\n",
    "            quit()\n",
    "    \n",
    "    return(extract)\n"
   ]
  },
  {
   "cell_type": "code",
   "execution_count": 4,
   "metadata": {},
   "outputs": [
    {
     "name": "stdout",
     "output_type": "stream",
     "text": [
      "Something went wrong when reading the telescope parameter file. Check file name!\n"
     ]
    },
    {
     "ename": "NameError",
     "evalue": "name 'telstats' is not defined",
     "output_type": "error",
     "traceback": [
      "\u001b[0;31m---------------------------------------------------------------------------\u001b[0m",
      "\u001b[0;31mNameError\u001b[0m                                 Traceback (most recent call last)",
      "\u001b[0;32m<ipython-input-4-f2d522f7948d>\u001b[0m in \u001b[0;36m<module>\u001b[0;34m\u001b[0m\n\u001b[1;32m     36\u001b[0m \u001b[0;34m\u001b[0m\u001b[0m\n\u001b[1;32m     37\u001b[0m \u001b[0;31m# Add R-theta product: multiply by slit width to get resolution\u001b[0m\u001b[0;34m\u001b[0m\u001b[0;34m\u001b[0m\u001b[0;34m\u001b[0m\u001b[0m\n\u001b[0;32m---> 38\u001b[0;31m \u001b[0mtelstats\u001b[0m\u001b[0;34m[\u001b[0m\u001b[0;34m\"rt\"\u001b[0m\u001b[0;34m]\u001b[0m \u001b[0;34m=\u001b[0m \u001b[0;36m1000\u001b[0m \u001b[0;34m*\u001b[0m \u001b[0mtelstats\u001b[0m\u001b[0;34m[\u001b[0m\u001b[0;34m\"slit_W\"\u001b[0m\u001b[0;34m]\u001b[0m\u001b[0;34m\u001b[0m\u001b[0;34m\u001b[0m\u001b[0m\n\u001b[0m\u001b[1;32m     39\u001b[0m         \u001b[0;31m# intrinsic resolution, adding to the telescope list\u001b[0m\u001b[0;34m\u001b[0m\u001b[0;34m\u001b[0m\u001b[0;34m\u001b[0m\u001b[0m\n\u001b[1;32m     40\u001b[0m         \u001b[0;31m# 3\u001b[0m\u001b[0;34m\u001b[0m\u001b[0;34m\u001b[0m\u001b[0;34m\u001b[0m\u001b[0m\n",
      "\u001b[0;31mNameError\u001b[0m: name 'telstats' is not defined"
     ]
    }
   ],
   "source": [
    "#### MAIN PROGRAM ########\n",
    "\n",
    "\n",
    "### ============= DIRECTORY STRUCTURE AND NAMES ======================\n",
    "\n",
    "## Directory structure\n",
    "# Make sure to have the environment variable \"ATLAS_ETC_PATH\" set.\n",
    "try:\n",
    "    if os.environ[\"ATLAS_ETC_PATH\"] == \"none\":\n",
    "        pass\n",
    "except:\n",
    "    print(\"Environment variable 'ATLAS_ETC_PATH' does not seem to be set. Add it to your shell initialization script and try again. See manual for more details.\")\n",
    "    quit()\n",
    "\n",
    "DIRS = dict()\n",
    "DIRS[\"bk_path\"] = \"%s/etc_data/background/\" % os.environ[\"ATLAS_ETC_PATH\"] # path to background data files\n",
    "DIRS[\"tp_path\"] = \"%s/etc_data/spec_throughput/\" % os.environ[\"ATLAS_ETC_PATH\"] # path to spectral throughput data files\n",
    "DIRS[\"filt_path\"] = \"%s/etc_data/filter/\" % os.environ[\"ATLAS_ETC_PATH\"] # path to filter transmission data files\n",
    "DIRS[\"tel_path\"] = \"%s/etc_data/telescope/\" % os.environ[\"ATLAS_ETC_PATH\"] # path to telescope data files\n",
    "\n",
    "\n",
    "\n",
    "\n",
    "### ============= TELESCOPE DEFINITIONS AND OTHER CONSTANTS ======================\n",
    "## The file should contain\n",
    "# - linearity limits\n",
    "# - telescope stats\n",
    "# - other stats (mirrors reflectivity, dark current, etc)\n",
    "telstats = read_par_file(os.path.join(DIRS[\"tel_path\"] , \"telescope_data_%s.txt\" % userinput[\"NIR\"]) )\n",
    "try:\n",
    "    telstats = read_par_file(os.path.join(DIRS[\"tel_path\"] , \"telescope_data_%s.txt\" % userinput[\"NIR\"]) )\n",
    "except:\n",
    "    print(\"Something went wrong when reading the telescope parameter file. Check file name!\")\n",
    "    quit()\n",
    "\n",
    "\n",
    "\n",
    "# Add R-theta product: multiply by slit width to get resolution\n",
    "telstats[\"rt\"] = 1000 * telstats[\"slit_W\"] \n",
    "        # intrinsic resolution, adding to the telescope list\n",
    "        # 3\n",
    "\n",
    "\n",
    "## Load Filters Transmission Curve ---------------\n",
    "try:\n",
    "    filter_trans = ascii.read(os.path.join(DIRS[\"filt_path\"],telstats[\"filt_filename\"]),names=[\"lam\",\"trans\"])\n",
    "except:\n",
    "    print(\"Something went wrong when reading the filter transmission file. Check file name!\")\n",
    "    quit()     \n",
    "\n",
    "\n",
    "## Load Spectral Transmission Curve --------------\n",
    "try:\n",
    "    throughput = ascii.read(os.path.join(DIRS[\"tp_path\"] , telstats[\"tp_filename\"]) , names=[\"tp_wave\",\"throughput\"] )\n",
    "except:\n",
    "    print(\"Something went wrong when loading the throughput curve. Check file name!\")\n",
    "    quit()\n",
    "\n"
   ]
  },
  {
   "cell_type": "code",
   "execution_count": null,
   "metadata": {},
   "outputs": [],
   "source": []
  }
 ],
 "metadata": {
  "kernelspec": {
   "display_name": "Python 3",
   "language": "python",
   "name": "python3"
  },
  "language_info": {
   "codemirror_mode": {
    "name": "ipython",
    "version": 3
   },
   "file_extension": ".py",
   "mimetype": "text/x-python",
   "name": "python",
   "nbconvert_exporter": "python",
   "pygments_lexer": "ipython3",
   "version": "3.7.6"
  }
 },
 "nbformat": 4,
 "nbformat_minor": 4
}
