{
 "cells": [
  {
   "cell_type": "code",
   "execution_count": 64,
   "metadata": {},
   "outputs": [],
   "source": [
    "import os\n",
    "import numpy as np\n",
    "from matplotlib import pyplot as plot\n",
    "import math\n",
    "from math import pi as pi\n",
    "from astropy import units as u\n",
    "#import panda as pd"
   ]
  },
  {
   "cell_type": "code",
   "execution_count": 65,
   "metadata": {},
   "outputs": [],
   "source": [
    "#input variables - roughly based on those used in Lowell manuel\n",
    "#example values for some of these variables can be found in the PDFs in the repository\n",
    "# to do: input known values into tables (i.e. lunar brightness, airmass, etc)\n",
    "\n",
    "SNR = 10\n",
    "mag_raw = 30\n",
    "exp_time = 0 \n",
    "\n",
    "bandpass = \"V\" #possible values: UVBIR. Currently testing V\n",
    "seeing = 2\n",
    "binning = 2\n",
    "lunar_age = 3 #example value, for V band, lunar age of 3 means 21.7 lunar brightness\n",
    "airmass = 1\n",
    "\n",
    "#possible other values:\n",
    "psf = [0]\n",
    "mag_norm = 20 #20 is what lowell uses\n",
    "lunar_bright = 21.7 \n",
    "signal_norm = 595  #based on DTC/LMI for V band"
   ]
  },
  {
   "cell_type": "code",
   "execution_count": 66,
   "metadata": {},
   "outputs": [
    {
     "name": "stdout",
     "output_type": "stream",
     "text": [
      "5.641043768785834\n"
     ]
    }
   ],
   "source": [
    "#calculate pixels\n",
    "\n",
    "#if using seeing:\n",
    "px = pi*(0.67*seeing)**2 #what to put for fwhm of optimal aperature?\n",
    "print(px)\n",
    "px = 97.22\n",
    "#if using psf:\n",
    "#px = pi*(0.67 * FWHM())**2"
   ]
  },
  {
   "cell_type": "code",
   "execution_count": 67,
   "metadata": {},
   "outputs": [
    {
     "name": "stdout",
     "output_type": "stream",
     "text": [
      "0.2\n"
     ]
    }
   ],
   "source": [
    "#Things governed by bandpass\n",
    "#will  replace this with a dataframe with appropriate values\n",
    "\n",
    "V = \"V\"\n",
    "B = \"B\"\n",
    "U = \"U\"\n",
    "I = \"I\"\n",
    "R = \"R\"\n",
    "\n",
    "if bandpass.casefold() == V.casefold():\n",
    "    extinct = 0.2\n",
    "    \n",
    "if bandpass.casefold() == B.casefold():\n",
    "    extinct = 0.4\n",
    "    \n",
    "if bandpass.casefold() == U.casefold():\n",
    "    extinct = 0.6\n",
    "        \n",
    "if bandpass.casefold() == I.casefold():\n",
    "    extinct = 0.08\n",
    "    \n",
    "if bandpass.casefold() == R.casefold():\n",
    "    extinct = 0.1\n",
    "    \n",
    "print(extinct)"
   ]
  },
  {
   "cell_type": "code",
   "execution_count": 68,
   "metadata": {},
   "outputs": [
    {
     "name": "stdout",
     "output_type": "stream",
     "text": [
      "135747.57\n"
     ]
    }
   ],
   "source": [
    "#calculate sky noise\n",
    "scale = 2.1 #this is defined by the telescope: http://www2.lowell.edu/rsch/LMI/specs.html\n",
    "#N_sky = scale**2 * binning**2 * signal_norm * 10**((-(lunar_bright - mag_norm))/2.5)  # Remove u.pix correction\n",
    "N_sky = 135747.57\n",
    "print(N_sky)"
   ]
  },
  {
   "cell_type": "code",
   "execution_count": 69,
   "metadata": {},
   "outputs": [],
   "source": [
    "#calculate FWHM"
   ]
  },
  {
   "cell_type": "code",
   "execution_count": 70,
   "metadata": {
    "scrolled": true
   },
   "outputs": [
    {
     "name": "stdout",
     "output_type": "stream",
     "text": [
      "0.04948994438060892\n"
     ]
    }
   ],
   "source": [
    "#calculate signal from magnitude, with correction\n",
    "\n",
    "mag_corr = mag_raw + extinct*airmass\n",
    "signal = signal_norm * 10**((-(mag_corr - mag_norm))/2.5)\n",
    "\n",
    "print(signal)\n",
    "signal = 1357525.8"
   ]
  },
  {
   "cell_type": "code",
   "execution_count": 71,
   "metadata": {},
   "outputs": [],
   "source": [
    "#calculate SNR or exposure time or magnitude\n",
    "#set Nron = 7, as seen in DTC/LMI manuel\n",
    "#ignore dark current\n",
    "N_ron = 7\n",
    "\n",
    "#SNR calculation:\n",
    "def ETC_lowell_test(SNR, exp_time, mag_raw, signal, signal_norm, px, N_sky, N_ron, airmass, extinct):\n",
    "    if SNR == 0:\n",
    "        SNR = signal * exp_time/(math.sqrt(signal*exp_time + N_sky*exp_time*px + (N_ron**2)*px))\n",
    "        mag_corr = mag_raw + extinct*airmass\n",
    "        return SNR,exp_time,mag_corr\n",
    " \n",
    "        \n",
    "    if exp_time == 0:\n",
    "        a = signal**2\n",
    "        b = (SNR**2) * (signal * px*N_sky)\n",
    "        c = (SNR**2) * px * N_ron\n",
    "        exp_time = (-b + math.sqrt((b**2 - 4)*a*c))/(2*a)\n",
    "        mag_corr = mag_raw + extinct*airmass\n",
    "        return SNR,exp_time,mag_corr\n",
    "\n",
    "    if mag_raw == 0:\n",
    "        a = exp_time**2\n",
    "        b = -exp_time * SNR\n",
    "        c = (-SNR**2 * N_sky * px * exp_time) + (px * N_ron**2)\n",
    "        signal = (-b + math.sqrt((b**2 - 4)*a*c))/(2*a)\n",
    "        mag_raw = 2.5 * math.log((signal/signal_norm),10) + mag_norm\n",
    "        mag_corr = mag_raw - (extinct*airmass)\n",
    "        return SNR,exp_time,mag_corr\n",
    "\n"
   ]
  },
  {
   "cell_type": "code",
   "execution_count": 72,
   "metadata": {},
   "outputs": [
    {
     "name": "stdout",
     "output_type": "stream",
     "text": [
      "This is the SNR: 10 \n",
      "This is the exposure time: 172141075614.60916 \n",
      "This is the magnitude: 30.2\n",
      "You can use this data for measurement\n"
     ]
    }
   ],
   "source": [
    "#print result\n",
    "\n",
    "answer = ETC_lowell_test(SNR, exp_time, mag_raw, signal, signal_norm, px, N_sky, N_ron, airmass, extinct)\n",
    "print(\"This is the SNR:\", answer[0], \"\\nThis is the exposure time:\", answer[1], \"\\nThis is the magnitude:\", answer[2] )\n",
    "\n",
    "if SNR <= 3:\n",
    "    print(\"You have low SNR, cannot use this data\")\n",
    "if SNR < 10 and SNR >= 5:\n",
    "    print(\"There's an object out there!...somewhere\")\n",
    "if SNR >= 10 and SNR < 90:\n",
    "    print(\"You can use this data for measurement\")\n",
    "if SNR >= 90 and SNR <= 100:\n",
    "    print(\"Your SNR is amazing!\")\n",
    "    "
   ]
  },
  {
   "cell_type": "code",
   "execution_count": null,
   "metadata": {},
   "outputs": [],
   "source": []
  },
  {
   "cell_type": "code",
   "execution_count": null,
   "metadata": {},
   "outputs": [],
   "source": []
  }
 ],
 "metadata": {
  "kernelspec": {
   "display_name": "Python 3",
   "language": "python",
   "name": "python3"
  },
  "language_info": {
   "codemirror_mode": {
    "name": "ipython",
    "version": 3
   },
   "file_extension": ".py",
   "mimetype": "text/x-python",
   "name": "python",
   "nbconvert_exporter": "python",
   "pygments_lexer": "ipython3",
   "version": "3.7.6"
  }
 },
 "nbformat": 4,
 "nbformat_minor": 4
}
