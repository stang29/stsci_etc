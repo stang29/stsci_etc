{
 "cells": [
  {
   "cell_type": "code",
   "execution_count": 112,
   "metadata": {},
   "outputs": [],
   "source": [
    "import os\n",
    "import numpy as np\n",
    "from matplotlib import pyplot as plot\n",
    "import math\n",
    "from math import pi as pi\n",
    "from astropy import units as u\n",
    "import pandas as pd"
   ]
  },
  {
   "cell_type": "code",
   "execution_count": 258,
   "metadata": {},
   "outputs": [
    {
     "name": "stdout",
     "output_type": "stream",
     "text": [
      "SNR: 10\n",
      "Magnitude of target star: 12.5\n",
      "Exposure time: \n",
      "Bandpass: B\n"
     ]
    }
   ],
   "source": [
    "#input variables - roughly based on those used in Lowell manuel\n",
    "#example values for some of these variables can be found in the PDFs in the repository\n",
    "# to do: input known values into tables (i.e. lunar brightness, airmass, etc)\n",
    "\n",
    "SNRi = input('SNR: ')\n",
    "SNR = float(SNRi)\n",
    "mag_rawi = input('Magnitude of target star: ')\n",
    "mag_raw = float(mag_rawi)\n",
    "exp_timei = input('Exposure time: ')\n",
    "if len(exp_timei)==0: # len function to find the length of list\n",
    "    exp_time = 0\n",
    "else:\n",
    "    exp_time = float(exp_timei)\n",
    "        \n",
    "    \n",
    "    \n",
    "#Just keep these values for now\n",
    "bandpass = input('Bandpass: ') #possible values: UVBIR. Currently testing V\n",
    "seeing = 2\n",
    "binning = 2\n",
    "lunar_age = 3 #example value, for V band, lunar age of 3 means 21.7 lunar brightness\n",
    "airmass = 1\n",
    "mag_norm = 20 #20 is what lowell uses\n",
    "\n",
    "\n",
    "#possible other values:\n",
    "# psf = [0]\n",
    "# lunar_bright = 21.7 \n",
    "# signal_norm = 100  #based on Lowell manual for V band\n"
   ]
  },
  {
   "cell_type": "code",
   "execution_count": 259,
   "metadata": {},
   "outputs": [],
   "source": [
    "# data into dataframe\n",
    "# NOTE: extinction values need to be edited\n",
    "\n",
    "data = {'U':[100,.6,[22.0,21.5,19.9,18.5,17.0]],'B':[730,0.4,[22.7,22.4,21.6,20.7,19.5]],'V':[680,0.156,[21.8,21.7,21.4,20.7,20.0]],'R':[670,0.16656,[20.9,20.8,20.6,20.3,19.9]],'I':[450,0.099,[19.9,19.9,19.7,19.5,19.2]]\n",
    "}\n",
    "inputvalues = ['signal_norm_val','extinct_val','lunar_val']\n",
    "\n",
    "# bandpass[0] = [100,0.352,[22.0,21.5,19.9,18.5,17.0]]\n",
    "# bandpass[1] = [730,0.142,[22.7,22.4,21.6,20.7,19.5]]\n",
    "# bandpass[2] = [680,0.156,[21.8,21.7,21.4,20.7,20.0]]\n",
    "# bandpass[3] = [670,0.16656,[20.9,20.8,20.6,20.3,19.9]]\n",
    "# bandpass[4] = [450,0.099,[19.9,19.9,19.7,19.5,19.2]]\n",
    "\n",
    "df = pd.DataFrame(data, index = inputvalues)\n"
   ]
  },
  {
   "cell_type": "code",
   "execution_count": 260,
   "metadata": {},
   "outputs": [
    {
     "name": "stdout",
     "output_type": "stream",
     "text": [
      "signal norm:  730\n",
      "extinct:  0.4\n",
      "lunar_bright:  22.4\n"
     ]
    }
   ],
   "source": [
    "#set values for the following calculations based on the user input:\n",
    "\n",
    "signal_norm = df.loc['signal_norm_val',bandpass]\n",
    "extinct = df.loc['extinct_val',bandpass]\n",
    "\n",
    "if lunar_age == 0:\n",
    "    lunar_index = 0\n",
    "if lunar_age == 3:\n",
    "    lunar_index = 1\n",
    "if lunar_age == 7:\n",
    "    lunar_index = 2\n",
    "if lunar_age == 10:\n",
    "    lunar_index = 3\n",
    "if lunar_age == 14:\n",
    "    lunar_index = 4\n",
    "    \n",
    "lunar_bright = df.loc['lunar_val',bandpass][lunar_index]\n",
    "\n",
    "\n",
    "print(\"signal norm: \",signal_norm)\n",
    "print(\"extinct: \",extinct)\n",
    "print(\"lunar_bright: \",lunar_bright)\n"
   ]
  },
  {
   "cell_type": "code",
   "execution_count": 261,
   "metadata": {},
   "outputs": [
    {
     "name": "stdout",
     "output_type": "stream",
     "text": [
      "97.23442193029152\n"
     ]
    }
   ],
   "source": [
    "#calculate pixels\n",
    "scale = .12\n",
    "\n",
    "#if using seeing:\n",
    "px = (pi*(.6676*seeing)**2)/((scale*binning)**2) \n",
    "print(px)\n"
   ]
  },
  {
   "cell_type": "code",
   "execution_count": 262,
   "metadata": {},
   "outputs": [
    {
     "name": "stdout",
     "output_type": "stream",
     "text": [
      "80.04290831845262\n",
      "448.29653298993\n",
      "4.6104715191428705\n",
      "This is the area: 0.0576\n"
     ]
    }
   ],
   "source": [
    "#calculate sky noise\n",
    "\n",
    "N_sky_split = signal_norm * 10**((-(lunar_bright - mag_norm))/2.5)\n",
    "area = scale**2 * binning**2\n",
    "total_area = area * px\n",
    "N_sky_wtotalarea = total_area * N_sky_split\n",
    "\n",
    "#this is the N_sky we are working with RIGHT NOW, in units e/sec/px: this is W/O total area\n",
    "N_sky = signal_norm * 10**((-(lunar_bright - mag_norm))/2.5) * scale**2 * binning**2\n",
    "\n",
    "print(N_sky_split)\n",
    "print(N_sky_wtotalarea)\n",
    "print(N_sky)\n",
    "print(\"This is the area:\", area)\n",
    "\n"
   ]
  },
  {
   "cell_type": "code",
   "execution_count": 263,
   "metadata": {
    "scrolled": true
   },
   "outputs": [
    {
     "name": "stdout",
     "output_type": "stream",
     "text": [
      "12.9\n",
      "505036.60877082346\n",
      "12.5\n"
     ]
    }
   ],
   "source": [
    "#calculate signal from magnitude, with correction\n",
    "\n",
    "mag_corr = (mag_raw + extinct*airmass)\n",
    "signal = signal_norm * 10**((-(mag_corr - mag_norm))/2.5) \n",
    "\n",
    "print(mag_corr)\n",
    "print(signal)\n",
    "print(mag_raw)\n",
    "\n"
   ]
  },
  {
   "cell_type": "code",
   "execution_count": 264,
   "metadata": {},
   "outputs": [],
   "source": [
    "#calculate SNR or exposure time or magnitude\n",
    "#set Nron = 6, as seen in DTC/LMI manual (crossed checked with calculation with output of Lowell ETC)\n",
    "#ignore dark current\n",
    "\n",
    "N_ron = 6\n",
    "\n",
    "#SNR calculation:\n",
    "def ETC_lowell_test(SNR, exp_time, mag_raw, signal, signal_norm, px, N_sky, N_ron, airmass, extinct):\n",
    "    response = [SNR, exp_time, 0]\n",
    "    if SNR == 0:\n",
    "        SNR = (signal * exp_time)/(math.sqrt(signal*exp_time + N_sky*exp_time*px + (N_ron**2)*px))\n",
    "        mag_corr_output = mag_raw + extinct*airmass\n",
    "\n",
    "\n",
    "    if exp_time == 0:\n",
    "        a = signal**2\n",
    "        b = -(SNR**2) * (signal + (px*N_sky))\n",
    "        c = -(SNR**2) * px * N_ron**2\n",
    "        exp_time = (-b +(math.sqrt((b**2) - (4*a*c))))/(2*a)\n",
    "        mag_corr_output = mag_raw + extinct*airmass\n",
    "\n",
    "    if mag_raw == 0:\n",
    "        a = exp_time**2\n",
    "        b = -exp_time * SNR**2\n",
    "        c = (-SNR**2 * N_sky * px * exp_time) + (px * N_ron**2)\n",
    "        signal = (-b + math.sqrt((b**2 - 4)*a*c))/(2*a)\n",
    "        mag_raw = 2.5 * math.log((signal/signal_norm),10) + mag_norm\n",
    "        mag_corr_output = mag_raw - (extinct*airmass)\n",
    "    \n",
    "    response = [SNR, exp_time, mag_corr_output]\n",
    "    return response\n",
    "\n"
   ]
  },
  {
   "cell_type": "code",
   "execution_count": 265,
   "metadata": {},
   "outputs": [
    {
     "name": "stdout",
     "output_type": "stream",
     "text": [
      "This is the SNR: 10.0 \n",
      "This is the exposure time: 0.0012747634530367532 \n",
      "This is the corrected magnitude: 12.9\n",
      "Noise from sky: 0.7559576948339423\n",
      "Noise from CCD: 59.164509543226124\n",
      "Noise from signal: 25.37325779845124\n",
      "This is the count from the star: 643.8022113066668\n",
      "You can use this data for measurement\n"
     ]
    }
   ],
   "source": [
    "#print result\n",
    "#print(SNR, \"\\n\", exp_time, \"\\n\",mag_raw, \"\\n\",signal, \"\\n\",signal_norm, \"\\n\",px,\"\\n\", N_sky, \"\\n\",N_ron, \"\\n\",airmass, \"\\n\",extinct)\n",
    "\n",
    "answer = ETC_lowell_test(SNR, exp_time, mag_raw, signal, signal_norm, px, N_sky, N_ron, airmass, extinct)\n",
    "print(\"This is the SNR:\", answer[0], \"\\nThis is the exposure time:\", answer[1], \"\\nThis is the corrected magnitude:\", answer[2] )\n",
    "\n",
    "#This is a value that is known after all 3 values (mag, time and SNR) are calculated)\n",
    "N_sky_result = math.sqrt(total_area * N_sky_split *  answer[1])\n",
    "print(\"Noise from sky:\",N_sky_result)\n",
    "print(\"Noise from CCD:\",math.sqrt(px * N_ron**2))\n",
    "print(\"Noise from signal:\", math.sqrt(signal*answer[1]))\n",
    "print(\"This is the count from the star:\", signal * answer[1])\n",
    "\n",
    "#SNR evaluation\n",
    "if SNR <= 3:\n",
    "    print(\"You have low SNR, cannot use this data\")\n",
    "if SNR < 10 and SNR >= 5:\n",
    "    print(\"There's an object out there!...somewhere\")\n",
    "if SNR >= 10 and SNR < 90:\n",
    "    print(\"You can use this data for measurement\")\n",
    "if SNR >= 90 and SNR <= 100:\n",
    "    print(\"Your SNR is amazing!\")\n",
    "    "
   ]
  },
  {
   "cell_type": "code",
   "execution_count": 255,
   "metadata": {},
   "outputs": [
    {
     "name": "stdout",
     "output_type": "stream",
     "text": [
      "465.6358065693187\n"
     ]
    }
   ],
   "source": [
    "        a = 5.75**2\n",
    "        b = -(SNR**2) * (5.75 + (px*1.44684658455))\n",
    "        c = -(SNR**2) * px * N_ron**2\n",
    "        exp_time = (-b +(math.sqrt((b**2) - (4*a*c))))/(2*a)\n",
    "        mag_corr_output = mag_raw + extinct*airmass\n",
    "        \n",
    "        print(exp_time)\n",
    "        "
   ]
  },
  {
   "cell_type": "code",
   "execution_count": null,
   "metadata": {},
   "outputs": [],
   "source": []
  }
 ],
 "metadata": {
  "kernelspec": {
   "display_name": "Python 3",
   "language": "python",
   "name": "python3"
  },
  "language_info": {
   "codemirror_mode": {
    "name": "ipython",
    "version": 3
   },
   "file_extension": ".py",
   "mimetype": "text/x-python",
   "name": "python",
   "nbconvert_exporter": "python",
   "pygments_lexer": "ipython3",
   "version": "3.7.6"
  }
 },
 "nbformat": 4,
 "nbformat_minor": 4
}
